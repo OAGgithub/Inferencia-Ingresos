{
 "cells": [
  {
   "cell_type": "markdown",
   "metadata": {},
   "source": [
    "# Inferencia de Ingresos"
   ]
  },
  {
   "cell_type": "markdown",
   "metadata": {},
   "source": [
    "## Importando datasets"
   ]
  },
  {
   "cell_type": "code",
   "execution_count": 103,
   "metadata": {},
   "outputs": [],
   "source": [
    "import numpy as np\n",
    "import pandas as pd\n",
    "import matplotlib.pyplot as plt\n",
    "import re\n",
    "import seaborn as sns"
   ]
  },
  {
   "cell_type": "code",
   "execution_count": 104,
   "metadata": {},
   "outputs": [],
   "source": [
    "df_hacienda = pd.read_csv(\"Datasets/Minis_Hacienda.csv\")\n",
    "df_juventud = pd.read_csv(\"Datasets/Minis_Juventud.csv\")\n",
    "df_mujer = pd.read_csv(\"Datasets/Minis_Mujer.csv\")\n",
    "df_publico = pd.read_csv(\"Datasets/Minis_Publico.csv\")\n",
    "df_trabajo = pd.read_csv(\"Datasets/Minis_Trabajo.csv\")"
   ]
  },
  {
   "cell_type": "code",
   "execution_count": 105,
   "metadata": {},
   "outputs": [
    {
     "name": "stdout",
     "output_type": "stream",
     "text": [
      "<class 'pandas.core.frame.DataFrame'>\n",
      "RangeIndex: 330 entries, 0 to 329\n",
      "Data columns (total 8 columns):\n",
      " #   Column        Non-Null Count  Dtype  \n",
      "---  ------        --------------  -----  \n",
      " 0   Nombre        330 non-null    object \n",
      " 1   Cargo         330 non-null    object \n",
      " 2   Departamento  330 non-null    object \n",
      " 3   Sexo          330 non-null    object \n",
      " 4   Sueldo bruto  330 non-null    float64\n",
      " 5   AFP           330 non-null    float64\n",
      " 6   SFS           330 non-null    float64\n",
      " 7   Sueldo neto   330 non-null    float64\n",
      "dtypes: float64(4), object(4)\n",
      "memory usage: 20.8+ KB\n"
     ]
    }
   ],
   "source": [
    "df_mujer.drop(columns=['Unnamed: 0'], axis=1 , inplace=True)\n",
    "df_mujer.info()"
   ]
  },
  {
   "cell_type": "code",
   "execution_count": 106,
   "metadata": {},
   "outputs": [
    {
     "name": "stdout",
     "output_type": "stream",
     "text": [
      "<class 'pandas.core.frame.DataFrame'>\n",
      "RangeIndex: 777 entries, 0 to 776\n",
      "Data columns (total 8 columns):\n",
      " #   Column        Non-Null Count  Dtype  \n",
      "---  ------        --------------  -----  \n",
      " 0   Nombre        777 non-null    object \n",
      " 1   Cargo         777 non-null    object \n",
      " 2   Departamento  777 non-null    object \n",
      " 3   Sexo          777 non-null    object \n",
      " 4   Sueldo bruto  777 non-null    float64\n",
      " 5   AFP           777 non-null    float64\n",
      " 6   SFS           777 non-null    float64\n",
      " 7   Sueldo neto   777 non-null    float64\n",
      "dtypes: float64(4), object(4)\n",
      "memory usage: 48.7+ KB\n"
     ]
    }
   ],
   "source": [
    "df_hacienda.drop(columns=['Unnamed: 0'], axis=1 , inplace=True)\n",
    "df_hacienda.info()"
   ]
  },
  {
   "cell_type": "code",
   "execution_count": 107,
   "metadata": {},
   "outputs": [
    {
     "name": "stdout",
     "output_type": "stream",
     "text": [
      "<class 'pandas.core.frame.DataFrame'>\n",
      "RangeIndex: 8767 entries, 0 to 8766\n",
      "Data columns (total 8 columns):\n",
      " #   Column        Non-Null Count  Dtype  \n",
      "---  ------        --------------  -----  \n",
      " 0   Nombre        8767 non-null   object \n",
      " 1   Cargo         8767 non-null   object \n",
      " 2   Departamento  8767 non-null   object \n",
      " 3   Sexo          8767 non-null   object \n",
      " 4   Sueldo bruto  8767 non-null   float64\n",
      " 5   AFP           8767 non-null   float64\n",
      " 6   SFS           8767 non-null   float64\n",
      " 7   Sueldo neto   8767 non-null   float64\n",
      "dtypes: float64(4), object(4)\n",
      "memory usage: 548.1+ KB\n"
     ]
    }
   ],
   "source": [
    "df_publico.drop(columns=['Unnamed: 0'], axis=1 , inplace=True)\n",
    "df_publico.info()"
   ]
  },
  {
   "cell_type": "code",
   "execution_count": 108,
   "metadata": {},
   "outputs": [
    {
     "name": "stdout",
     "output_type": "stream",
     "text": [
      "<class 'pandas.core.frame.DataFrame'>\n",
      "RangeIndex: 290 entries, 0 to 289\n",
      "Data columns (total 9 columns):\n",
      " #   Column        Non-Null Count  Dtype  \n",
      "---  ------        --------------  -----  \n",
      " 0   Ministerio    290 non-null    object \n",
      " 1   Nombre        290 non-null    object \n",
      " 2   Cargo         290 non-null    object \n",
      " 3   Departamento  290 non-null    object \n",
      " 4   Sexo          290 non-null    object \n",
      " 5   Sueldo bruto  290 non-null    float64\n",
      " 6   AFP           290 non-null    float64\n",
      " 7   SFS           290 non-null    float64\n",
      " 8   Sueldo neto   290 non-null    float64\n",
      "dtypes: float64(4), object(5)\n",
      "memory usage: 20.5+ KB\n"
     ]
    }
   ],
   "source": [
    "#Juventud\n",
    "df_juventud.insert(0,'Ministerio','Juventud')\n",
    "df_juventud.info()"
   ]
  },
  {
   "cell_type": "code",
   "execution_count": 109,
   "metadata": {},
   "outputs": [
    {
     "name": "stdout",
     "output_type": "stream",
     "text": [
      "<class 'pandas.core.frame.DataFrame'>\n",
      "RangeIndex: 330 entries, 0 to 329\n",
      "Data columns (total 9 columns):\n",
      " #   Column        Non-Null Count  Dtype  \n",
      "---  ------        --------------  -----  \n",
      " 0   Ministerio    330 non-null    object \n",
      " 1   Nombre        330 non-null    object \n",
      " 2   Cargo         330 non-null    object \n",
      " 3   Departamento  330 non-null    object \n",
      " 4   Sexo          330 non-null    object \n",
      " 5   Sueldo bruto  330 non-null    float64\n",
      " 6   AFP           330 non-null    float64\n",
      " 7   SFS           330 non-null    float64\n",
      " 8   Sueldo neto   330 non-null    float64\n",
      "dtypes: float64(4), object(5)\n",
      "memory usage: 23.3+ KB\n"
     ]
    }
   ],
   "source": [
    "#Mujer\n",
    "df_mujer.insert(0,'Ministerio','Mujer')\n",
    "df_mujer.info()"
   ]
  },
  {
   "cell_type": "code",
   "execution_count": 110,
   "metadata": {},
   "outputs": [
    {
     "name": "stdout",
     "output_type": "stream",
     "text": [
      "<class 'pandas.core.frame.DataFrame'>\n",
      "RangeIndex: 777 entries, 0 to 776\n",
      "Data columns (total 9 columns):\n",
      " #   Column        Non-Null Count  Dtype  \n",
      "---  ------        --------------  -----  \n",
      " 0   Ministerio    777 non-null    object \n",
      " 1   Nombre        777 non-null    object \n",
      " 2   Cargo         777 non-null    object \n",
      " 3   Departamento  777 non-null    object \n",
      " 4   Sexo          777 non-null    object \n",
      " 5   Sueldo bruto  777 non-null    float64\n",
      " 6   AFP           777 non-null    float64\n",
      " 7   SFS           777 non-null    float64\n",
      " 8   Sueldo neto   777 non-null    float64\n",
      "dtypes: float64(4), object(5)\n",
      "memory usage: 54.8+ KB\n"
     ]
    }
   ],
   "source": [
    "#Hacienda\n",
    "df_hacienda.insert(0,'Ministerio','Hacienda')\n",
    "df_hacienda.info()"
   ]
  },
  {
   "cell_type": "code",
   "execution_count": 111,
   "metadata": {},
   "outputs": [
    {
     "name": "stdout",
     "output_type": "stream",
     "text": [
      "<class 'pandas.core.frame.DataFrame'>\n",
      "RangeIndex: 8767 entries, 0 to 8766\n",
      "Data columns (total 9 columns):\n",
      " #   Column        Non-Null Count  Dtype  \n",
      "---  ------        --------------  -----  \n",
      " 0   Ministerio    8767 non-null   object \n",
      " 1   Nombre        8767 non-null   object \n",
      " 2   Cargo         8767 non-null   object \n",
      " 3   Departamento  8767 non-null   object \n",
      " 4   Sexo          8767 non-null   object \n",
      " 5   Sueldo bruto  8767 non-null   float64\n",
      " 6   AFP           8767 non-null   float64\n",
      " 7   SFS           8767 non-null   float64\n",
      " 8   Sueldo neto   8767 non-null   float64\n",
      "dtypes: float64(4), object(5)\n",
      "memory usage: 616.6+ KB\n"
     ]
    }
   ],
   "source": [
    "#Publico\n",
    "df_publico.insert(0,'Ministerio','Publico')\n",
    "df_publico.info()"
   ]
  },
  {
   "cell_type": "code",
   "execution_count": 112,
   "metadata": {},
   "outputs": [
    {
     "name": "stdout",
     "output_type": "stream",
     "text": [
      "<class 'pandas.core.frame.DataFrame'>\n",
      "RangeIndex: 877 entries, 0 to 876\n",
      "Data columns (total 9 columns):\n",
      " #   Column        Non-Null Count  Dtype  \n",
      "---  ------        --------------  -----  \n",
      " 0   Ministerio    877 non-null    object \n",
      " 1   Nombre        877 non-null    object \n",
      " 2   Cargo         877 non-null    object \n",
      " 3   Departamento  877 non-null    object \n",
      " 4   Sexo          877 non-null    object \n",
      " 5   Sueldo bruto  877 non-null    object \n",
      " 6   AFP           877 non-null    float64\n",
      " 7   SFS           877 non-null    float64\n",
      " 8   Sueldo neto   877 non-null    object \n",
      "dtypes: float64(2), object(7)\n",
      "memory usage: 61.8+ KB\n"
     ]
    }
   ],
   "source": [
    "#Trabajo\n",
    "df_trabajo.insert(0,'Ministerio','Trabajo')\n",
    "df_trabajo.info()"
   ]
  },
  {
   "cell_type": "markdown",
   "metadata": {},
   "source": [
    "## Unificación de datasets"
   ]
  },
  {
   "cell_type": "code",
   "execution_count": 113,
   "metadata": {},
   "outputs": [
    {
     "name": "stdout",
     "output_type": "stream",
     "text": [
      "<class 'pandas.core.frame.DataFrame'>\n",
      "Index: 11041 entries, 0 to 876\n",
      "Data columns (total 8 columns):\n",
      " #   Column        Non-Null Count  Dtype  \n",
      "---  ------        --------------  -----  \n",
      " 0   Ministerio    11041 non-null  object \n",
      " 1   Nombre        11041 non-null  object \n",
      " 2   Cargo         11041 non-null  object \n",
      " 3   Sexo          11041 non-null  object \n",
      " 4   Sueldo bruto  11041 non-null  object \n",
      " 5   AFP           11041 non-null  float64\n",
      " 6   SFS           11041 non-null  float64\n",
      " 7   Sueldo neto   11041 non-null  object \n",
      "dtypes: float64(2), object(6)\n",
      "memory usage: 776.3+ KB\n"
     ]
    }
   ],
   "source": [
    "df_ministerios = pd.concat([df_mujer, df_hacienda, df_publico, df_juventud, df_trabajo])\n",
    "df_ministerios.drop('Departamento', axis=1,inplace= True)\n",
    "df_ministerios.info()"
   ]
  },
  {
   "cell_type": "code",
   "execution_count": 114,
   "metadata": {},
   "outputs": [
    {
     "data": {
      "text/html": [
       "<div>\n",
       "<style scoped>\n",
       "    .dataframe tbody tr th:only-of-type {\n",
       "        vertical-align: middle;\n",
       "    }\n",
       "\n",
       "    .dataframe tbody tr th {\n",
       "        vertical-align: top;\n",
       "    }\n",
       "\n",
       "    .dataframe thead th {\n",
       "        text-align: right;\n",
       "    }\n",
       "</style>\n",
       "<table border=\"1\" class=\"dataframe\">\n",
       "  <thead>\n",
       "    <tr style=\"text-align: right;\">\n",
       "      <th></th>\n",
       "      <th>Ministerio</th>\n",
       "      <th>Nombre</th>\n",
       "      <th>Cargo</th>\n",
       "      <th>Sexo</th>\n",
       "      <th>Sueldo bruto</th>\n",
       "      <th>AFP</th>\n",
       "      <th>SFS</th>\n",
       "      <th>Sueldo neto</th>\n",
       "    </tr>\n",
       "  </thead>\n",
       "  <tbody>\n",
       "    <tr>\n",
       "      <th>0</th>\n",
       "      <td>Mujer</td>\n",
       "      <td>MAYRA JIMENEZ DE MATOS</td>\n",
       "      <td>MINISTRO (A) DE LA MUJER</td>\n",
       "      <td>FEMENINO</td>\n",
       "      <td>300000.0</td>\n",
       "      <td>8610.0</td>\n",
       "      <td>4943.8</td>\n",
       "      <td>221471.46</td>\n",
       "    </tr>\n",
       "    <tr>\n",
       "      <th>1</th>\n",
       "      <td>Mujer</td>\n",
       "      <td>EMILIA ALTAGRACIA SANTOS</td>\n",
       "      <td>MENSAJERO INTERNO</td>\n",
       "      <td>FEMENINO</td>\n",
       "      <td>25000.0</td>\n",
       "      <td>717.5</td>\n",
       "      <td>760.0</td>\n",
       "      <td>23497.5</td>\n",
       "    </tr>\n",
       "    <tr>\n",
       "      <th>2</th>\n",
       "      <td>Mujer</td>\n",
       "      <td>MARCELINA PEREZ PEÑA</td>\n",
       "      <td>SECRETARIA</td>\n",
       "      <td>FEMENINO</td>\n",
       "      <td>27000.0</td>\n",
       "      <td>774.9</td>\n",
       "      <td>820.8</td>\n",
       "      <td>25279.3</td>\n",
       "    </tr>\n",
       "    <tr>\n",
       "      <th>3</th>\n",
       "      <td>Mujer</td>\n",
       "      <td>CARMEN MARIA PEREZ SANCHEZ</td>\n",
       "      <td>ASESOR</td>\n",
       "      <td>FEMENINO</td>\n",
       "      <td>23000.0</td>\n",
       "      <td>660.1</td>\n",
       "      <td>699.2</td>\n",
       "      <td>20222.7</td>\n",
       "    </tr>\n",
       "    <tr>\n",
       "      <th>4</th>\n",
       "      <td>Mujer</td>\n",
       "      <td>MAGDELINE NUÑEZ REYES</td>\n",
       "      <td>SECRETARIA EJECUTIVA</td>\n",
       "      <td>FEMENINO</td>\n",
       "      <td>40000.0</td>\n",
       "      <td>1148.0</td>\n",
       "      <td>1216.0</td>\n",
       "      <td>37168.35</td>\n",
       "    </tr>\n",
       "    <tr>\n",
       "      <th>...</th>\n",
       "      <td>...</td>\n",
       "      <td>...</td>\n",
       "      <td>...</td>\n",
       "      <td>...</td>\n",
       "      <td>...</td>\n",
       "      <td>...</td>\n",
       "      <td>...</td>\n",
       "      <td>...</td>\n",
       "    </tr>\n",
       "    <tr>\n",
       "      <th>872</th>\n",
       "      <td>Trabajo</td>\n",
       "      <td>FERNANDO EMILIO SANTANA SEPULVEDA</td>\n",
       "      <td>ANALISTA</td>\n",
       "      <td>MASCULINO</td>\n",
       "      <td>41.000,00</td>\n",
       "      <td>4087.7</td>\n",
       "      <td>4153.3</td>\n",
       "      <td>37.968,11</td>\n",
       "    </tr>\n",
       "    <tr>\n",
       "      <th>873</th>\n",
       "      <td>Trabajo</td>\n",
       "      <td>VITERBO ANTONIO PEÑA RAMON</td>\n",
       "      <td>SOPORTE ADMINISTRATIVO</td>\n",
       "      <td>MASCULINO</td>\n",
       "      <td>46.000,00</td>\n",
       "      <td>4586.2</td>\n",
       "      <td>4659.8</td>\n",
       "      <td>41.966,94</td>\n",
       "    </tr>\n",
       "    <tr>\n",
       "      <th>874</th>\n",
       "      <td>Trabajo</td>\n",
       "      <td>MARTHA RAMONA PICHARDO BAEZ</td>\n",
       "      <td>SECRETARIO (A)</td>\n",
       "      <td>FEMENINO</td>\n",
       "      <td>34.000,00</td>\n",
       "      <td>3389.8</td>\n",
       "      <td>3444.2</td>\n",
       "      <td>31.965,60</td>\n",
       "    </tr>\n",
       "    <tr>\n",
       "      <th>875</th>\n",
       "      <td>Trabajo</td>\n",
       "      <td>GREGORIA PAYANO VELEZ (LICDA.)</td>\n",
       "      <td>SECRETARIO (A)</td>\n",
       "      <td>FEMENINO</td>\n",
       "      <td>34.000,00</td>\n",
       "      <td>3389.8</td>\n",
       "      <td>3444.2</td>\n",
       "      <td>31.965,60</td>\n",
       "    </tr>\n",
       "    <tr>\n",
       "      <th>876</th>\n",
       "      <td>Trabajo</td>\n",
       "      <td>DORKA RAMIREZ RODRIGUEZ</td>\n",
       "      <td>AUXILIAR ADMINISTRATIVO I</td>\n",
       "      <td>FEMENINO</td>\n",
       "      <td>34.000,00</td>\n",
       "      <td>3389.8</td>\n",
       "      <td>3444.2</td>\n",
       "      <td>31.965,60</td>\n",
       "    </tr>\n",
       "  </tbody>\n",
       "</table>\n",
       "<p>11041 rows × 8 columns</p>\n",
       "</div>"
      ],
      "text/plain": [
       "    Ministerio                             Nombre                      Cargo  \\\n",
       "0        Mujer             MAYRA JIMENEZ DE MATOS   MINISTRO (A) DE LA MUJER   \n",
       "1        Mujer           EMILIA ALTAGRACIA SANTOS          MENSAJERO INTERNO   \n",
       "2        Mujer               MARCELINA PEREZ PEÑA                 SECRETARIA   \n",
       "3        Mujer         CARMEN MARIA PEREZ SANCHEZ                     ASESOR   \n",
       "4        Mujer              MAGDELINE NUÑEZ REYES       SECRETARIA EJECUTIVA   \n",
       "..         ...                                ...                        ...   \n",
       "872    Trabajo  FERNANDO EMILIO SANTANA SEPULVEDA                   ANALISTA   \n",
       "873    Trabajo         VITERBO ANTONIO PEÑA RAMON     SOPORTE ADMINISTRATIVO   \n",
       "874    Trabajo        MARTHA RAMONA PICHARDO BAEZ             SECRETARIO (A)   \n",
       "875    Trabajo     GREGORIA PAYANO VELEZ (LICDA.)             SECRETARIO (A)   \n",
       "876    Trabajo            DORKA RAMIREZ RODRIGUEZ  AUXILIAR ADMINISTRATIVO I   \n",
       "\n",
       "          Sexo Sueldo bruto     AFP     SFS Sueldo neto  \n",
       "0    FEMENINO      300000.0  8610.0  4943.8   221471.46  \n",
       "1    FEMENINO       25000.0   717.5   760.0     23497.5  \n",
       "2    FEMENINO       27000.0   774.9   820.8     25279.3  \n",
       "3    FEMENINO       23000.0   660.1   699.2     20222.7  \n",
       "4    FEMENINO       40000.0  1148.0  1216.0    37168.35  \n",
       "..         ...          ...     ...     ...         ...  \n",
       "872  MASCULINO    41.000,00  4087.7  4153.3   37.968,11  \n",
       "873  MASCULINO    46.000,00  4586.2  4659.8   41.966,94  \n",
       "874   FEMENINO    34.000,00  3389.8  3444.2   31.965,60  \n",
       "875   FEMENINO    34.000,00  3389.8  3444.2   31.965,60  \n",
       "876   FEMENINO    34.000,00  3389.8  3444.2   31.965,60  \n",
       "\n",
       "[11041 rows x 8 columns]"
      ]
     },
     "execution_count": 114,
     "metadata": {},
     "output_type": "execute_result"
    }
   ],
   "source": [
    "df_ministerios"
   ]
  },
  {
   "cell_type": "markdown",
   "metadata": {},
   "source": [
    "## Procesamiento de datos"
   ]
  },
  {
   "cell_type": "code",
   "execution_count": 115,
   "metadata": {},
   "outputs": [],
   "source": [
    "# Normalizando la caracteristica Sexo\n",
    "df_ministerios.rename(columns={\"Sexo\": \"Es_Masculino\"}, inplace=True)\n",
    "\n",
    "df_ministerios[\"Es_Masculino\"] = df_ministerios[\"Es_Masculino\"].apply(lambda genero:  0 if \"f\" in genero.lower() else 1).astype(\"int64\")"
   ]
  },
  {
   "cell_type": "code",
   "execution_count": 116,
   "metadata": {},
   "outputs": [
    {
     "name": "stdout",
     "output_type": "stream",
     "text": [
      "{\"<class 'float'>\": 10164, \"<class 'str'>\": 877}\n"
     ]
    }
   ],
   "source": [
    "# Normalizando la caracteristica Sueldo bruto\n",
    "types = {}\n",
    "for bruto in df_ministerios[\"Sueldo bruto\"]:\n",
    "    tipo = str(type(bruto))\n",
    "    if tipo not in types:\n",
    "        types[tipo] = 0\n",
    "    types[tipo] += 1\n",
    "\n",
    "print(types)"
   ]
  },
  {
   "cell_type": "code",
   "execution_count": 117,
   "metadata": {},
   "outputs": [],
   "source": [
    "def convertir_a_float(bruto):\n",
    "    try:\n",
    "        return float(bruto)\n",
    "    except ValueError:\n",
    "        return float(bruto.replace('.', '').replace(',', '.'))\n",
    "\n",
    "# Aplicar la función a la columna \"Sueldo bruto\"\n",
    "df_ministerios[\"Sueldo bruto\"] = df_ministerios[\"Sueldo bruto\"].apply(convertir_a_float)"
   ]
  },
  {
   "cell_type": "code",
   "execution_count": 118,
   "metadata": {},
   "outputs": [
    {
     "name": "stdout",
     "output_type": "stream",
     "text": [
      "{\"<class 'float'>\": 10164, \"<class 'str'>\": 877}\n"
     ]
    }
   ],
   "source": [
    "# Normalizando la caracteristica Sueldo neto\n",
    "types = {}\n",
    "for bruto in df_ministerios[\"Sueldo neto\"]:\n",
    "    tipo = str(type(bruto))\n",
    "    if tipo not in types:\n",
    "        types[tipo] = 0\n",
    "    types[tipo] += 1\n",
    "\n",
    "print(types)"
   ]
  },
  {
   "cell_type": "code",
   "execution_count": 119,
   "metadata": {},
   "outputs": [],
   "source": [
    "def convertir_a_float(bruto):\n",
    "    try:\n",
    "        return float(bruto)\n",
    "    except ValueError:\n",
    "        return float(bruto.replace('.', '').replace(',', '.'))\n",
    "\n",
    "# Aplicar la función a la columna \"Sueldo bruto\"\n",
    "df_ministerios[\"Sueldo neto\"] = df_ministerios[\"Sueldo neto\"].apply(convertir_a_float)"
   ]
  },
  {
   "cell_type": "code",
   "execution_count": 120,
   "metadata": {},
   "outputs": [
    {
     "name": "stdout",
     "output_type": "stream",
     "text": [
      "df_ministerios is written to CSV File successfully.\n"
     ]
    }
   ],
   "source": [
    "# route\n",
    "file_name = 'Datasets/Clean_Ministerios.csv'\n",
    "\n",
    "# saving the excel\n",
    "df_ministerios.to_csv(file_name)\n",
    "print('df_ministerios is written to CSV File successfully.')"
   ]
  },
  {
   "cell_type": "markdown",
   "metadata": {},
   "source": [
    "### Columnas Categoricas"
   ]
  },
  {
   "cell_type": "code",
   "execution_count": 121,
   "metadata": {},
   "outputs": [
    {
     "data": {
      "text/plain": [
       "Cargo\n",
       "AGENTE  VTP                                                 13.757812\n",
       "AUXILIAR ADMINISTRATIVO                                      6.638891\n",
       "ABOGADO (A) I                                                6.013948\n",
       "CONSERJE                                                     5.678833\n",
       "FISCALIZADOR                                                 4.483290\n",
       "                                                              ...    \n",
       "Coordinador de Organismos Internacionales                    0.009057\n",
       "Analista de Estudios y Políticas Tributarias I               0.009057\n",
       "Analista de Estudios y Proyecciones de la Recaudación II     0.009057\n",
       "Analista Recursos Humanos I                                  0.009057\n",
       "ENCARGADO UNIDAD                                             0.009057\n",
       "Name: proportion, Length: 745, dtype: float64"
      ]
     },
     "execution_count": 121,
     "metadata": {},
     "output_type": "execute_result"
    }
   ],
   "source": [
    "counts = df_ministerios[\"Cargo\"].value_counts(normalize=True)*100\n",
    "counts"
   ]
  },
  {
   "cell_type": "code",
   "execution_count": 122,
   "metadata": {},
   "outputs": [
    {
     "data": {
      "text/plain": [
       "Cargo\n",
       "ABOGADO    845\n",
       "Name: count, dtype: int64"
      ]
     },
     "execution_count": 122,
     "metadata": {},
     "output_type": "execute_result"
    }
   ],
   "source": [
    "df_ministerios[\"Cargo\"].value_counts(normalize=True)*100\n",
    "\n",
    "#Estandarizando los Abogados\n",
    "df_ministerios['Cargo'] = df_ministerios['Cargo'].apply(lambda x: \"ABOGADO\" if re.search(\"ABOGAD\", x) else x)\n",
    "\n",
    "Abogados = df_ministerios[df_ministerios['Cargo'].str.contains(\"ABOGAD\")]['Cargo']\n",
    "Abogados.value_counts()\n",
    "\n",
    "  "
   ]
  },
  {
   "cell_type": "code",
   "execution_count": null,
   "metadata": {},
   "outputs": [],
   "source": [
    "# funcion para normalizar columnas\n",
    "def normalize_column(column_name, field_name, field_new_name, df):\n",
    "    df[column_name] = df[column_name].apply\\\n",
    "    (\n",
    "        lambda x: field_new_name.upper() if re.search(field_name.upper(), str(x.upper())) else x.upper()\n",
    "    )\n",
    "    print(f\"Se normalizó el campo {field_new_name}\")\n"
   ]
  },
  {
   "cell_type": "code",
   "execution_count": 349,
   "metadata": {},
   "outputs": [
    {
     "name": "stdout",
     "output_type": "stream",
     "text": [
      "Se normalizó el campo SECRETARIO\n",
      "Se normalizó el campo SECRETARIO\n"
     ]
    },
    {
     "name": "stderr",
     "output_type": "stream",
     "text": [
      "<>:3: SyntaxWarning: invalid escape sequence '\\.'\n",
      "<>:3: SyntaxWarning: invalid escape sequence '\\.'\n",
      "C:\\Users\\samil\\AppData\\Local\\Temp\\ipykernel_14452\\3284197886.py:3: SyntaxWarning: invalid escape sequence '\\.'\n",
      "  normalize_column('Cargo', \"SEC\\.\", \"SECRETARIO\", df_ministerios)\n"
     ]
    }
   ],
   "source": [
    "# Normalizando el campo secretaria\n",
    "normalize_column('Cargo', \"SECRETARI\", \"SECRETARIO\", df_ministerios)\n",
    "normalize_column('Cargo', \"SEC\\.\", \"SECRETARIO\", df_ministerios)"
   ]
  },
  {
   "cell_type": "code",
   "execution_count": 350,
   "metadata": {},
   "outputs": [
    {
     "data": {
      "text/plain": [
       "Cargo\n",
       "SECRETARIO    733\n",
       "Name: count, dtype: int64"
      ]
     },
     "execution_count": 350,
     "metadata": {},
     "output_type": "execute_result"
    }
   ],
   "source": [
    "# Normalizando el campo secretario\n",
    "Secretario = df_ministerios[df_ministerios['Cargo'].str.contains(\"SECRETARI\")]['Cargo']\n",
    "Secretario.value_counts()"
   ]
  },
  {
   "cell_type": "code",
   "execution_count": 132,
   "metadata": {},
   "outputs": [
    {
     "name": "stdout",
     "output_type": "stream",
     "text": [
      "Se normalizó el campo ANALISTA\n"
     ]
    }
   ],
   "source": [
    "# Normalizando campo analista\n",
    "normalize_column('Cargo', \"ANALIST\", \"ANALISTA\", df_ministerios)"
   ]
  },
  {
   "cell_type": "code",
   "execution_count": 134,
   "metadata": {},
   "outputs": [
    {
     "data": {
      "text/plain": [
       "Cargo\n",
       "ANALISTA    375\n",
       "Name: count, dtype: int64"
      ]
     },
     "execution_count": 134,
     "metadata": {},
     "output_type": "execute_result"
    }
   ],
   "source": [
    "# revisando los valores de analista\n",
    "Analista = df_ministerios[df_ministerios['Cargo'].str.contains(\"ANALIST\")]['Cargo']\n",
    "Analista.value_counts()"
   ]
  },
  {
   "cell_type": "code",
   "execution_count": 146,
   "metadata": {},
   "outputs": [
    {
     "name": "stdout",
     "output_type": "stream",
     "text": [
      "Se normalizó el campo ENCARGADO\n",
      "Se normalizó el campo ENCARGADO\n"
     ]
    },
    {
     "name": "stderr",
     "output_type": "stream",
     "text": [
      "<>:3: SyntaxWarning: invalid escape sequence '\\.'\n",
      "<>:3: SyntaxWarning: invalid escape sequence '\\.'\n",
      "C:\\Users\\samil\\AppData\\Local\\Temp\\ipykernel_14452\\2804071411.py:3: SyntaxWarning: invalid escape sequence '\\.'\n",
      "  normalize_column('Cargo', \"ENC\\.\", \"ENCARGADO\", df_ministerios)\n"
     ]
    }
   ],
   "source": [
    "# Normalizando campo ENCARGADO \n",
    "normalize_column('Cargo', \"ENCARGAD\", \"ENCARGADO\", df_ministerios)\n",
    "normalize_column('Cargo', \"ENC\\.\", \"ENCARGADO\", df_ministerios)"
   ]
  },
  {
   "cell_type": "code",
   "execution_count": 147,
   "metadata": {},
   "outputs": [
    {
     "data": {
      "text/plain": [
       "Cargo\n",
       "ENCARGADO    720\n",
       "Name: count, dtype: int64"
      ]
     },
     "execution_count": 147,
     "metadata": {},
     "output_type": "execute_result"
    }
   ],
   "source": [
    "# revisando los valores de encargado\n",
    "Encargado = df_ministerios[df_ministerios['Cargo'].str.contains(\"ENCARGAD\")]['Cargo']\n",
    "Encargado.value_counts()"
   ]
  },
  {
   "cell_type": "code",
   "execution_count": 138,
   "metadata": {},
   "outputs": [
    {
     "name": "stdout",
     "output_type": "stream",
     "text": [
      "Se normalizó el campo COORDINADOR\n"
     ]
    }
   ],
   "source": [
    "# Normalizando campo coordinador \n",
    "normalize_column('Cargo', \"COORDINAD\", \"COORDINADOR\", df_ministerios)"
   ]
  },
  {
   "cell_type": "code",
   "execution_count": 151,
   "metadata": {},
   "outputs": [
    {
     "data": {
      "text/plain": [
       "Cargo\n",
       "COORDINADOR    166\n",
       "Name: count, dtype: int64"
      ]
     },
     "execution_count": 151,
     "metadata": {},
     "output_type": "execute_result"
    }
   ],
   "source": [
    "# revisando los valores de coordinador\n",
    "Coordinador = df_ministerios[df_ministerios['Cargo'].str.contains(\"COORDINAD\")]['Cargo']\n",
    "Coordinador.value_counts()"
   ]
  },
  {
   "cell_type": "code",
   "execution_count": 156,
   "metadata": {},
   "outputs": [
    {
     "name": "stdout",
     "output_type": "stream",
     "text": [
      "Se normalizó el campo FISCALIZADOR\n"
     ]
    }
   ],
   "source": [
    "# Normalizando campo Fiscalizador \n",
    "normalize_column('Cargo', \"FISCALIZAD\", \"FISCALIZADOR\", df_ministerios)"
   ]
  },
  {
   "cell_type": "code",
   "execution_count": 157,
   "metadata": {},
   "outputs": [
    {
     "data": {
      "text/plain": [
       "Cargo\n",
       "FISCALIZADOR    498\n",
       "Name: count, dtype: int64"
      ]
     },
     "execution_count": 157,
     "metadata": {},
     "output_type": "execute_result"
    }
   ],
   "source": [
    "# revisando Fiscalizador\n",
    "Fiscalizador = df_ministerios[df_ministerios['Cargo'].str.contains(\"FISCALIZAD\")]['Cargo']\n",
    "Fiscalizador.value_counts()"
   ]
  },
  {
   "cell_type": "code",
   "execution_count": 165,
   "metadata": {},
   "outputs": [
    {
     "name": "stdout",
     "output_type": "stream",
     "text": [
      "Se normalizó el campo INSPECTOR\n"
     ]
    }
   ],
   "source": [
    "# Normalizando campo INSPECTOR \n",
    "normalize_column('Cargo', \"INSPECT\", \"INSPECTOR\", df_ministerios)"
   ]
  },
  {
   "cell_type": "code",
   "execution_count": null,
   "metadata": {},
   "outputs": [
    {
     "name": "stdout",
     "output_type": "stream",
     "text": [
      "Se normalizó el campo INSPECTOR\n"
     ]
    }
   ],
   "source": [
    "# Normalizando campo INSPECTOR \n",
    "normalize_column('Cargo', \"INSPECT\", \"INSPECTOR\", df_ministerios)"
   ]
  },
  {
   "cell_type": "code",
   "execution_count": 171,
   "metadata": {},
   "outputs": [
    {
     "name": "stdout",
     "output_type": "stream",
     "text": [
      "Se normalizó el campo SUPERVISOR\n"
     ]
    }
   ],
   "source": [
    "# Normalizando campo SUPERVISOR \n",
    "normalize_column('Cargo', \"SUPERVI\", \"SUPERVISOR\", df_ministerios)"
   ]
  },
  {
   "cell_type": "code",
   "execution_count": 172,
   "metadata": {},
   "outputs": [
    {
     "data": {
      "text/plain": [
       "Cargo\n",
       "SUPERVISOR    279\n",
       "Name: count, dtype: int64"
      ]
     },
     "execution_count": 172,
     "metadata": {},
     "output_type": "execute_result"
    }
   ],
   "source": [
    "# revisando SUPERVISOR\n",
    "var = df_ministerios[df_ministerios['Cargo'].str.contains(\"SUPERVI\")]['Cargo']\n",
    "var.value_counts()"
   ]
  },
  {
   "cell_type": "code",
   "execution_count": 178,
   "metadata": {},
   "outputs": [
    {
     "name": "stdout",
     "output_type": "stream",
     "text": [
      "Se normalizó el campo CHOFER\n"
     ]
    }
   ],
   "source": [
    "# Normalizando campo CHOFER \n",
    "normalize_column('Cargo', \"CHOF\", \"CHOFER\", df_ministerios)"
   ]
  },
  {
   "cell_type": "code",
   "execution_count": 179,
   "metadata": {},
   "outputs": [
    {
     "data": {
      "text/plain": [
       "Cargo\n",
       "CHOFER    497\n",
       "Name: count, dtype: int64"
      ]
     },
     "execution_count": 179,
     "metadata": {},
     "output_type": "execute_result"
    }
   ],
   "source": [
    "# revisando chofer\n",
    "var = df_ministerios[df_ministerios['Cargo'].str.contains(\"CHOF\")]['Cargo']\n",
    "var.value_counts()"
   ]
  },
  {
   "cell_type": "code",
   "execution_count": 183,
   "metadata": {},
   "outputs": [
    {
     "name": "stdout",
     "output_type": "stream",
     "text": [
      "Se normalizó el campo ADMINISTRADOR\n"
     ]
    }
   ],
   "source": [
    "# Normalizando campo ADMINISTRADOR \n",
    "normalize_column('Cargo', \"ADMINISTRAD\", \"ADMINISTRADOR\", df_ministerios)"
   ]
  },
  {
   "cell_type": "code",
   "execution_count": 184,
   "metadata": {},
   "outputs": [
    {
     "data": {
      "text/plain": [
       "Cargo\n",
       "ADMINISTRADOR    35\n",
       "Name: count, dtype: int64"
      ]
     },
     "execution_count": 184,
     "metadata": {},
     "output_type": "execute_result"
    }
   ],
   "source": [
    "# revisando ADMINISTRADOR\n",
    "var = df_ministerios[df_ministerios['Cargo'].str.contains(\"ADMINISTRAD\")]['Cargo']\n",
    "var.value_counts()"
   ]
  },
  {
   "cell_type": "code",
   "execution_count": 189,
   "metadata": {},
   "outputs": [
    {
     "name": "stdout",
     "output_type": "stream",
     "text": [
      "Se normalizó el campo DISEÑADOR\n"
     ]
    }
   ],
   "source": [
    "# Normalizando campo INSPECTOR \n",
    "normalize_column('Cargo', \"DISE\", \"DISEÑADOR\", df_ministerios)"
   ]
  },
  {
   "cell_type": "code",
   "execution_count": 190,
   "metadata": {},
   "outputs": [
    {
     "data": {
      "text/plain": [
       "Cargo\n",
       "DISEÑADOR    18\n",
       "Name: count, dtype: int64"
      ]
     },
     "execution_count": 190,
     "metadata": {},
     "output_type": "execute_result"
    }
   ],
   "source": [
    "# revisando DISEÑADOR\n",
    "var = df_ministerios[df_ministerios['Cargo'].str.contains(\"DISE\")]['Cargo']\n",
    "var.value_counts()"
   ]
  },
  {
   "cell_type": "code",
   "execution_count": 215,
   "metadata": {},
   "outputs": [
    {
     "name": "stdout",
     "output_type": "stream",
     "text": [
      "Se normalizó el campo OPERADOR\n"
     ]
    }
   ],
   "source": [
    "# Normalizando campo OPERADOR \n",
    "normalize_column('Cargo', \"OPERAD\", \"OPERADOR\", df_ministerios)"
   ]
  },
  {
   "cell_type": "code",
   "execution_count": 217,
   "metadata": {},
   "outputs": [
    {
     "data": {
      "text/plain": [
       "Cargo\n",
       "OPERADOR    22\n",
       "Name: count, dtype: int64"
      ]
     },
     "execution_count": 217,
     "metadata": {},
     "output_type": "execute_result"
    }
   ],
   "source": [
    "# revisando OPERADOR\n",
    "var = df_ministerios[df_ministerios['Cargo'].str.contains(\"OPERAD\")]['Cargo']\n",
    "var.value_counts()"
   ]
  },
  {
   "cell_type": "code",
   "execution_count": 312,
   "metadata": {},
   "outputs": [
    {
     "name": "stdout",
     "output_type": "stream",
     "text": [
      "Se normalizó el campo AUXILIAR\n"
     ]
    }
   ],
   "source": [
    "# Normalizando campo AUXILIAR  \n",
    "normalize_column('Cargo', \"AUX\", \"AUXILIAR\", df_ministerios)"
   ]
  },
  {
   "cell_type": "code",
   "execution_count": 313,
   "metadata": {},
   "outputs": [
    {
     "data": {
      "text/plain": [
       "Cargo\n",
       "AUXILIAR    1177\n",
       "Name: count, dtype: int64"
      ]
     },
     "execution_count": 313,
     "metadata": {},
     "output_type": "execute_result"
    }
   ],
   "source": [
    "# revisando AUXILIAR \n",
    "var = df_ministerios[df_ministerios['Cargo'].str.contains(\"AUXILI\")]['Cargo']\n",
    "var.value_counts()"
   ]
  },
  {
   "cell_type": "code",
   "execution_count": 227,
   "metadata": {},
   "outputs": [
    {
     "name": "stdout",
     "output_type": "stream",
     "text": [
      "Se normalizó el campo ORIENTADOR\n"
     ]
    }
   ],
   "source": [
    "# Normalizando campo ORIENTADOR \n",
    "normalize_column('Cargo', \"ORIENT\", \"ORIENTADOR\", df_ministerios)"
   ]
  },
  {
   "cell_type": "code",
   "execution_count": 228,
   "metadata": {},
   "outputs": [
    {
     "data": {
      "text/plain": [
       "Cargo\n",
       "ORIENTADOR    7\n",
       "Name: count, dtype: int64"
      ]
     },
     "execution_count": 228,
     "metadata": {},
     "output_type": "execute_result"
    }
   ],
   "source": [
    "# revisando ORIENTADOR\n",
    "var = df_ministerios[df_ministerios['Cargo'].str.contains(\"ORIENT\")]['Cargo']\n",
    "var.value_counts()"
   ]
  },
  {
   "cell_type": "code",
   "execution_count": 233,
   "metadata": {},
   "outputs": [
    {
     "name": "stdout",
     "output_type": "stream",
     "text": [
      "Se normalizó el campo MENSAJERO\n"
     ]
    }
   ],
   "source": [
    "# Normalizando campo MENSAJERO  \n",
    "normalize_column('Cargo', \"MENSAJ\", \"MENSAJERO\", df_ministerios)"
   ]
  },
  {
   "cell_type": "code",
   "execution_count": 234,
   "metadata": {},
   "outputs": [
    {
     "data": {
      "text/plain": [
       "Cargo\n",
       "MENSAJERO    304\n",
       "Name: count, dtype: int64"
      ]
     },
     "execution_count": 234,
     "metadata": {},
     "output_type": "execute_result"
    }
   ],
   "source": [
    "# revisando MENSAJERO\n",
    "var = df_ministerios[df_ministerios['Cargo'].str.contains(\"MENSAJ\")]['Cargo']\n",
    "var.value_counts()"
   ]
  },
  {
   "cell_type": "code",
   "execution_count": 274,
   "metadata": {},
   "outputs": [
    {
     "name": "stdout",
     "output_type": "stream",
     "text": [
      "Se normalizó el campo SUBDIRECTOR\n",
      "Se normalizó el campo SUBDIRECTOR\n"
     ]
    }
   ],
   "source": [
    "# Normalizando campo SUBDIRECTOR   \n",
    "normalize_column('Cargo', \"SUBDIREC\", \"SUBDIRECTOR\", df_ministerios)\n",
    "normalize_column('Cargo', \"SUB-DIREC\", \"SUBDIRECTOR\", df_ministerios)"
   ]
  },
  {
   "cell_type": "code",
   "execution_count": 275,
   "metadata": {},
   "outputs": [
    {
     "data": {
      "text/plain": [
       "Cargo\n",
       "SUBDIRECTOR    110\n",
       "Name: count, dtype: int64"
      ]
     },
     "execution_count": 275,
     "metadata": {},
     "output_type": "execute_result"
    }
   ],
   "source": [
    "# revisando SUBDIRECTOR\n",
    "var = df_ministerios[df_ministerios['Cargo'].str.contains(\"SUBDIREC\")]['Cargo']\n",
    "var.value_counts()"
   ]
  },
  {
   "cell_type": "code",
   "execution_count": 246,
   "metadata": {},
   "outputs": [
    {
     "name": "stdout",
     "output_type": "stream",
     "text": [
      "Se normalizó el campo SOPORTE\n"
     ]
    }
   ],
   "source": [
    "# Normalizando campo SOPORTE  \n",
    "normalize_column('Cargo', \"SOPOR\", \"SOPORTE\", df_ministerios)"
   ]
  },
  {
   "cell_type": "code",
   "execution_count": 247,
   "metadata": {},
   "outputs": [
    {
     "data": {
      "text/plain": [
       "Cargo\n",
       "SOPORTE    99\n",
       "Name: count, dtype: int64"
      ]
     },
     "execution_count": 247,
     "metadata": {},
     "output_type": "execute_result"
    }
   ],
   "source": [
    "# revisando SOPORTE\n",
    "var = df_ministerios[df_ministerios['Cargo'].str.contains(\"SOPOR\")]['Cargo']\n",
    "var.value_counts()"
   ]
  },
  {
   "cell_type": "code",
   "execution_count": 332,
   "metadata": {},
   "outputs": [
    {
     "name": "stdout",
     "output_type": "stream",
     "text": [
      "Se normalizó el campo VICEMINISTRO\n"
     ]
    }
   ],
   "source": [
    "# Normalizando campo VICEMINISTRO                   \n",
    "normalize_column('Cargo', \"VICE\", \"VICEMINISTRO\", df_ministerios)"
   ]
  },
  {
   "cell_type": "code",
   "execution_count": 262,
   "metadata": {},
   "outputs": [
    {
     "data": {
      "text/plain": [
       "Cargo\n",
       "VICEMINISTRO    19\n",
       "Name: count, dtype: int64"
      ]
     },
     "execution_count": 262,
     "metadata": {},
     "output_type": "execute_result"
    }
   ],
   "source": [
    "# revisando VICEMINISTRO                 \n",
    "var = df_ministerios[df_ministerios['Cargo'].str.contains(\"VICEMINIS\")]['Cargo']\n",
    "var.value_counts()"
   ]
  },
  {
   "cell_type": "code",
   "execution_count": 308,
   "metadata": {},
   "outputs": [
    {
     "name": "stdout",
     "output_type": "stream",
     "text": [
      "Se normalizó el campo TECNICO\n",
      "Se normalizó el campo TECNICO\n"
     ]
    }
   ],
   "source": [
    "# Normalizando campo TECNICO   \n",
    "normalize_column('Cargo', \"TECNI\", \"TECNICO\", df_ministerios)\n",
    "normalize_column('Cargo', \"TÉCNI\", \"TECNICO\", df_ministerios)"
   ]
  },
  {
   "cell_type": "code",
   "execution_count": 309,
   "metadata": {},
   "outputs": [
    {
     "data": {
      "text/plain": [
       "Cargo\n",
       "TECNICO    481\n",
       "Name: count, dtype: int64"
      ]
     },
     "execution_count": 309,
     "metadata": {},
     "output_type": "execute_result"
    }
   ],
   "source": [
    "# revisando TECNICO\n",
    "var = df_ministerios[df_ministerios['Cargo'].str.contains(\"TECNI\")]['Cargo']\n",
    "var.value_counts()"
   ]
  },
  {
   "cell_type": "code",
   "execution_count": 286,
   "metadata": {},
   "outputs": [
    {
     "name": "stdout",
     "output_type": "stream",
     "text": [
      "Se normalizó el campo DIRECTOR\n",
      "Se normalizó el campo DIRECTOR\n",
      "Se normalizó el campo DIRECTOR\n"
     ]
    },
    {
     "name": "stderr",
     "output_type": "stream",
     "text": [
      "<>:4: SyntaxWarning: invalid escape sequence '\\('\n",
      "<>:4: SyntaxWarning: invalid escape sequence '\\('\n",
      "C:\\Users\\samil\\AppData\\Local\\Temp\\ipykernel_14452\\2228616404.py:4: SyntaxWarning: invalid escape sequence '\\('\n",
      "  normalize_column('Cargo', \"DIRECTOR\\(A\\)\", \"DIRECTOR\", df_ministerios)\n"
     ]
    }
   ],
   "source": [
    "# Normalizando campo   \n",
    "normalize_column('Cargo', \"DIRECTOR \", \"DIRECTOR\", df_ministerios)\n",
    "normalize_column('Cargo', \"DIRECTORA\", \"DIRECTOR\", df_ministerios)\n",
    "normalize_column('Cargo', \"DIRECTOR\\(A\\)\", \"DIRECTOR\", df_ministerios)"
   ]
  },
  {
   "cell_type": "code",
   "execution_count": 287,
   "metadata": {},
   "outputs": [
    {
     "data": {
      "text/plain": [
       "Cargo\n",
       "SUBDIRECTOR    111\n",
       "DIRECTOR        81\n",
       "Name: count, dtype: int64"
      ]
     },
     "execution_count": 287,
     "metadata": {},
     "output_type": "execute_result"
    }
   ],
   "source": [
    "# revisando ORIENTADOR\n",
    "var = df_ministerios[df_ministerios['Cargo'].str.contains(\"DIRECTOR\")]['Cargo']\n",
    "var.value_counts()"
   ]
  },
  {
   "cell_type": "code",
   "execution_count": 395,
   "metadata": {},
   "outputs": [
    {
     "name": "stdout",
     "output_type": "stream",
     "text": [
      "Se normalizó el campo PSICOLOGO\n"
     ]
    }
   ],
   "source": [
    "# Normalizando campo psicologo\n",
    "normalize_column('Cargo', \"PSICO\", \"PSICOLOGO\", df_ministerios)"
   ]
  },
  {
   "cell_type": "code",
   "execution_count": 296,
   "metadata": {},
   "outputs": [
    {
     "data": {
      "text/plain": [
       "Cargo\n",
       "PSICOLOGO    19\n",
       "Name: count, dtype: int64"
      ]
     },
     "execution_count": 296,
     "metadata": {},
     "output_type": "execute_result"
    }
   ],
   "source": [
    "# revisando PSIICOLOGO\n",
    "var = df_ministerios[df_ministerios['Cargo'].str.contains(\"PSICO\")]['Cargo']\n",
    "var.value_counts()"
   ]
  },
  {
   "cell_type": "code",
   "execution_count": 301,
   "metadata": {},
   "outputs": [
    {
     "name": "stdout",
     "output_type": "stream",
     "text": [
      "Se normalizó el campo ASESOR\n"
     ]
    }
   ],
   "source": [
    "# Normalizando campo ASESOR \n",
    "normalize_column('Cargo', \"ASES\", \"ASESOR\", df_ministerios)"
   ]
  },
  {
   "cell_type": "code",
   "execution_count": 302,
   "metadata": {},
   "outputs": [
    {
     "data": {
      "text/plain": [
       "Cargo\n",
       "ASESOR    26\n",
       "Name: count, dtype: int64"
      ]
     },
     "execution_count": 302,
     "metadata": {},
     "output_type": "execute_result"
    }
   ],
   "source": [
    "# revisando ASESOR \n",
    "var = df_ministerios[df_ministerios['Cargo'].str.contains(\"ASES\")]['Cargo']\n",
    "var.value_counts()"
   ]
  },
  {
   "cell_type": "code",
   "execution_count": 337,
   "metadata": {},
   "outputs": [
    {
     "name": "stdout",
     "output_type": "stream",
     "text": [
      "Se normalizó el campo MINISTRO\n"
     ]
    }
   ],
   "source": [
    "# Normalizando campo MINISTRO \n",
    "normalize_column('Cargo', \"MINISTRO \", \"MINISTRO\", df_ministerios)"
   ]
  },
  {
   "cell_type": "code",
   "execution_count": 338,
   "metadata": {},
   "outputs": [
    {
     "data": {
      "text/plain": [
       "Cargo\n",
       "VICEMINISTRO    22\n",
       "MINISTRO         4\n",
       "Name: count, dtype: int64"
      ]
     },
     "execution_count": 338,
     "metadata": {},
     "output_type": "execute_result"
    }
   ],
   "source": [
    "# revisando MINISTRO \n",
    "var = df_ministerios[df_ministerios['Cargo'].str.contains(\"MINISTRO\")]['Cargo']\n",
    "var.value_counts()"
   ]
  },
  {
   "cell_type": "code",
   "execution_count": 344,
   "metadata": {},
   "outputs": [
    {
     "name": "stdout",
     "output_type": "stream",
     "text": [
      "Se normalizó el campo AGENTE\n"
     ]
    }
   ],
   "source": [
    "# Normalizando campo AGENTE  \n",
    "normalize_column('Cargo', \"AGENT\", \"AGENTE\", df_ministerios)"
   ]
  },
  {
   "cell_type": "code",
   "execution_count": 345,
   "metadata": {},
   "outputs": [
    {
     "data": {
      "text/plain": [
       "Cargo\n",
       "AGENTE    1548\n",
       "Name: count, dtype: int64"
      ]
     },
     "execution_count": 345,
     "metadata": {},
     "output_type": "execute_result"
    }
   ],
   "source": [
    "# revisando AGENTE \n",
    "var = df_ministerios[df_ministerios['Cargo'].str.contains(\"AGENTE\")]['Cargo']\n",
    "var.value_counts()"
   ]
  },
  {
   "cell_type": "code",
   "execution_count": 355,
   "metadata": {},
   "outputs": [
    {
     "name": "stdout",
     "output_type": "stream",
     "text": [
      "Se normalizó el campo INGENIERO\n"
     ]
    }
   ],
   "source": [
    "# Normalizando campo ingeniero\n",
    "normalize_column('Cargo', \"INGENI\", \"INGENIERO\", df_ministerios)"
   ]
  },
  {
   "cell_type": "code",
   "execution_count": 356,
   "metadata": {},
   "outputs": [
    {
     "data": {
      "text/plain": [
       "Cargo\n",
       "INGENIERO    19\n",
       "Name: count, dtype: int64"
      ]
     },
     "execution_count": 356,
     "metadata": {},
     "output_type": "execute_result"
    }
   ],
   "source": [
    "# revisando ORIENTADOR\n",
    "var = df_ministerios[df_ministerios['Cargo'].str.contains(\"INGENIERO\")]['Cargo']\n",
    "var.value_counts()"
   ]
  },
  {
   "cell_type": "code",
   "execution_count": 366,
   "metadata": {},
   "outputs": [
    {
     "name": "stdout",
     "output_type": "stream",
     "text": [
      "Se normalizó el campo PROCURADOR\n"
     ]
    }
   ],
   "source": [
    "# Normalizando campo PROCURADOR\n",
    "normalize_column('Cargo', \"PROCURA\", \"PROCURADOR\", df_ministerios)"
   ]
  },
  {
   "cell_type": "code",
   "execution_count": 367,
   "metadata": {},
   "outputs": [
    {
     "data": {
      "text/plain": [
       "Cargo\n",
       "PROCURADOR    712\n",
       "Name: count, dtype: int64"
      ]
     },
     "execution_count": 367,
     "metadata": {},
     "output_type": "execute_result"
    }
   ],
   "source": [
    "# revisando PROCURADOR \n",
    "var = df_ministerios[df_ministerios['Cargo'].str.contains(\"PROCURA\")]['Cargo']\n",
    "var.value_counts()"
   ]
  },
  {
   "cell_type": "code",
   "execution_count": 376,
   "metadata": {},
   "outputs": [
    {
     "name": "stdout",
     "output_type": "stream",
     "text": [
      "Se normalizó el campo PROGRAMADOR\n"
     ]
    }
   ],
   "source": [
    "# Normalizando campo PROGRAMADOR\n",
    "normalize_column('Cargo', \"PROGRAM\", \"PROGRAMADOR\", df_ministerios)"
   ]
  },
  {
   "cell_type": "code",
   "execution_count": 377,
   "metadata": {},
   "outputs": [
    {
     "data": {
      "text/plain": [
       "Cargo\n",
       "PROGRAMADOR    7\n",
       "Name: count, dtype: int64"
      ]
     },
     "execution_count": 377,
     "metadata": {},
     "output_type": "execute_result"
    }
   ],
   "source": [
    "# revisando PROGRAMADOR \n",
    "var = df_ministerios[df_ministerios['Cargo'].str.contains(\"PROGRAM\")]['Cargo']\n",
    "var.value_counts()"
   ]
  },
  {
   "cell_type": "code",
   "execution_count": 403,
   "metadata": {},
   "outputs": [
    {
     "name": "stdout",
     "output_type": "stream",
     "text": [
      "Se normalizó el campo MEDICO\n",
      "Se normalizó el campo MEDICO\n"
     ]
    }
   ],
   "source": [
    "# Normalizando campo MEDICO\n",
    "normalize_column('Cargo', \"MEDIC\", \"MEDICO\", df_ministerios)\n",
    "normalize_column('Cargo', \"MÉDIC\", \"MEDICO\", df_ministerios)"
   ]
  },
  {
   "cell_type": "code",
   "execution_count": 404,
   "metadata": {},
   "outputs": [
    {
     "data": {
      "text/plain": [
       "Cargo\n",
       "MEDICO    237\n",
       "Name: count, dtype: int64"
      ]
     },
     "execution_count": 404,
     "metadata": {},
     "output_type": "execute_result"
    }
   ],
   "source": [
    "# revisando MEDICO \n",
    "var = df_ministerios[df_ministerios['Cargo'].str.contains(\"MEDIC\")]['Cargo']\n",
    "var.value_counts()"
   ]
  },
  {
   "cell_type": "code",
   "execution_count": 408,
   "metadata": {},
   "outputs": [
    {
     "name": "stdout",
     "output_type": "stream",
     "text": [
      "Se normalizó el campo PARALEGAL\n"
     ]
    }
   ],
   "source": [
    "# Normalizando campo PARALEGAL\n",
    "normalize_column('Cargo', \"PARA\", \"PARALEGAL\", df_ministerios)"
   ]
  },
  {
   "cell_type": "code",
   "execution_count": 409,
   "metadata": {},
   "outputs": [
    {
     "data": {
      "text/plain": [
       "Cargo\n",
       "PARALEGAL    96\n",
       "Name: count, dtype: int64"
      ]
     },
     "execution_count": 409,
     "metadata": {},
     "output_type": "execute_result"
    }
   ],
   "source": [
    "# revisando PARALEGAL \n",
    "var = df_ministerios[df_ministerios['Cargo'].str.contains(\"PARA\")]['Cargo']\n",
    "var.value_counts()"
   ]
  },
  {
   "cell_type": "code",
   "execution_count": 413,
   "metadata": {},
   "outputs": [
    {
     "name": "stdout",
     "output_type": "stream",
     "text": [
      "Se normalizó el campo EDUCADOR\n"
     ]
    }
   ],
   "source": [
    "#NORMALIZANDO EL CAMPO educador\n",
    "normalize_column('Cargo', \"EDUC\", \"EDUCADOR\", df_ministerios)"
   ]
  },
  {
   "cell_type": "code",
   "execution_count": 414,
   "metadata": {},
   "outputs": [
    {
     "data": {
      "text/plain": [
       "Cargo\n",
       "EDUCADOR    90\n",
       "Name: count, dtype: int64"
      ]
     },
     "execution_count": 414,
     "metadata": {},
     "output_type": "execute_result"
    }
   ],
   "source": [
    "# revisando ASESOR \n",
    "var = df_ministerios[df_ministerios['Cargo'].str.contains(\"EDUC\")]['Cargo']\n",
    "var.value_counts()"
   ]
  },
  {
   "cell_type": "code",
   "execution_count": 415,
   "metadata": {},
   "outputs": [
    {
     "data": {
      "text/plain": [
       "Cargo\n",
       "EDUCADOR    90\n",
       "Name: count, dtype: int64"
      ]
     },
     "execution_count": 415,
     "metadata": {},
     "output_type": "execute_result"
    }
   ],
   "source": [
    "var = df_ministerios[df_ministerios['Cargo'].str.contains(\"EDUC\")]['Cargo']\n",
    "var.value_counts()"
   ]
  },
  {
   "cell_type": "code",
   "execution_count": 417,
   "metadata": {},
   "outputs": [
    {
     "data": {
      "text/plain": [
       "Cargo\n",
       "DIRECTOR                                    0.733629\n",
       "RECEPCIONISTA                               0.624943\n",
       "AYUDANTE DE MANTENIMIENTO                   0.525315\n",
       "ENFERMERO (A)                               0.389457\n",
       "REPRESENTANTE LOCAL                         0.326057\n",
       "                                              ...   \n",
       "WEB MASTER                                  0.009057\n",
       "IMPLEMENTADOR                               0.009057\n",
       "GESTOR DE DISPONIBILIDAD DE APLICACIONES    0.009057\n",
       "ESPECIALISTA EN PROYECTOS                   0.009057\n",
       "GERENTE DE PLANIFICACIÓN Y DESARROLLO       0.009057\n",
       "Name: proportion, Length: 96, dtype: float64"
      ]
     },
     "execution_count": 417,
     "metadata": {},
     "output_type": "execute_result"
    }
   ],
   "source": [
    "values = df_ministerios['Cargo'].value_counts(normalize=True)*100\n",
    "\n",
    "values [values < 0.80]"
   ]
  }
 ],
 "metadata": {
  "kernelspec": {
   "display_name": "Python 3",
   "language": "python",
   "name": "python3"
  },
  "language_info": {
   "codemirror_mode": {
    "name": "ipython",
    "version": 3
   },
   "file_extension": ".py",
   "mimetype": "text/x-python",
   "name": "python",
   "nbconvert_exporter": "python",
   "pygments_lexer": "ipython3",
   "version": "3.12.2"
  }
 },
 "nbformat": 4,
 "nbformat_minor": 2
}
