{
 "cells": [
  {
   "cell_type": "code",
   "execution_count": null,
   "metadata": {},
   "outputs": [],
   "source": [
    "\n",
    "import numpy as np\n",
    "import pandas as pd\n",
    "import matplotlib.pyplot as plt\n",
    "import re\n",
    "import seaborn as sns"
   ]
  },
  {
   "cell_type": "code",
   "execution_count": null,
   "metadata": {},
   "outputs": [],
   "source": [
    "df_hacienda = pd.read_csv(\"Datasets/Minis_Hacienda.csv\")\n",
    "df_juventud = pd.read_csv(\"Datasets/Minis_Juventud.csv\")\n",
    "df_mujer = pd.read_csv(\"Datasets/Minis_Mujer.csv\")\n",
    "df_publico = pd.read_csv(\"Datasets/Minis_Publico.csv\")\n",
    "df_trabajo = pd.read_csv(\"Datasets/Minis_Trabajo.csv\")\n",
    "\n"
   ]
  },
  {
   "cell_type": "code",
   "execution_count": null,
   "metadata": {},
   "outputs": [],
   "source": [
    "df_mujer.drop(columns=['Unnamed: 0'], axis=1 , inplace=True)\n",
    "df_mujer.info()"
   ]
  },
  {
   "cell_type": "code",
   "execution_count": null,
   "metadata": {},
   "outputs": [],
   "source": [
    "df_hacienda.drop(columns=['Unnamed: 0'], axis=1 , inplace=True)\n",
    "df_hacienda.info()"
   ]
  },
  {
   "cell_type": "code",
   "execution_count": null,
   "metadata": {},
   "outputs": [],
   "source": [
    "df_publico.drop(columns=['Unnamed: 0'], axis=1 , inplace=True)\n",
    "df_publico.info()"
   ]
  },
  {
   "cell_type": "code",
   "execution_count": null,
   "metadata": {},
   "outputs": [],
   "source": [
    "#Juventud\n",
    "df_juventud.insert(0,'Ministerio','Juventud')\n",
    "df_juventud.info()\n"
   ]
  },
  {
   "cell_type": "code",
   "execution_count": null,
   "metadata": {},
   "outputs": [],
   "source": [
    "#Mujer\n",
    "df_mujer.insert(0,'Ministerio','Mujer')\n",
    "df_mujer.info()"
   ]
  },
  {
   "cell_type": "code",
   "execution_count": null,
   "metadata": {},
   "outputs": [],
   "source": [
    "#Hacienda\n",
    "\n",
    "df_hacienda.insert(0,'Ministerio','Hacienda')\n",
    "df_hacienda.info()"
   ]
  },
  {
   "cell_type": "code",
   "execution_count": null,
   "metadata": {},
   "outputs": [],
   "source": [
    "#Publico\n",
    "df_publico.insert(0,'Ministerio','Publico')\n",
    "df_publico.info()"
   ]
  },
  {
   "cell_type": "code",
   "execution_count": null,
   "metadata": {},
   "outputs": [],
   "source": [
    "#Trabajo\n",
    "df_trabajo.insert(0,'Ministerio','Trabajo')\n",
    "df_trabajo.info()\n",
    "\n"
   ]
  },
  {
   "cell_type": "code",
   "execution_count": null,
   "metadata": {},
   "outputs": [],
   "source": []
  }
 ],
 "metadata": {
  "kernelspec": {
   "display_name": "Python 3",
   "language": "python",
   "name": "python3"
  },
  "language_info": {
   "codemirror_mode": {
    "name": "ipython",
    "version": 3
   },
   "file_extension": ".py",
   "mimetype": "text/x-python",
   "name": "python",
   "nbconvert_exporter": "python",
   "pygments_lexer": "ipython3",
   "version": "3.12.2"
  }
 },
 "nbformat": 4,
 "nbformat_minor": 2
}
