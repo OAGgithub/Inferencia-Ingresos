{
 "cells": [
  {
   "cell_type": "markdown",
   "metadata": {},
   "source": [
    "# Inferencia de Ingresos"
   ]
  },
  {
   "cell_type": "markdown",
   "metadata": {},
   "source": [
    "## Importando datasets"
   ]
  },
  {
   "cell_type": "code",
   "execution_count": 631,
   "metadata": {},
   "outputs": [],
   "source": [
    "import numpy as np\n",
    "import pandas as pd\n",
    "import matplotlib.pyplot as plt\n",
    "import re\n",
    "import seaborn as sns"
   ]
  },
  {
   "cell_type": "code",
   "execution_count": 632,
   "metadata": {},
   "outputs": [],
   "source": [
    "df_hacienda = pd.read_csv(\"Datasets/clean/Clean_Minis_Hacienda.csv\")\n",
    "df_juventud = pd.read_csv(\"Datasets/clean/Clean_Minis_Juventud.csv\")\n",
    "df_mujer = pd.read_csv(\"Datasets/clean/Clean_Minis_Mujer.csv\")\n",
    "df_publico = pd.read_csv(\"Datasets/clean/Clean_Minis_Publico.csv\")\n",
    "df_trabajo = pd.read_csv(\"Datasets/clean/Clean_Minis_Trabajo.csv\")"
   ]
  },
  {
   "cell_type": "code",
   "execution_count": 633,
   "metadata": {},
   "outputs": [
    {
     "name": "stdout",
     "output_type": "stream",
     "text": [
      "<class 'pandas.core.frame.DataFrame'>\n",
      "RangeIndex: 330 entries, 0 to 329\n",
      "Data columns (total 8 columns):\n",
      " #   Column        Non-Null Count  Dtype  \n",
      "---  ------        --------------  -----  \n",
      " 0   Nombre        330 non-null    object \n",
      " 1   Cargo         330 non-null    object \n",
      " 2   Departamento  330 non-null    object \n",
      " 3   Sexo          330 non-null    object \n",
      " 4   Sueldo bruto  330 non-null    float64\n",
      " 5   AFP           330 non-null    float64\n",
      " 6   SFS           330 non-null    float64\n",
      " 7   Sueldo neto   330 non-null    float64\n",
      "dtypes: float64(4), object(4)\n",
      "memory usage: 20.8+ KB\n"
     ]
    }
   ],
   "source": [
    "df_mujer.drop(columns=['Unnamed: 0'], axis=1 , inplace=True)\n",
    "df_mujer.info()"
   ]
  },
  {
   "cell_type": "code",
   "execution_count": 634,
   "metadata": {},
   "outputs": [
    {
     "name": "stdout",
     "output_type": "stream",
     "text": [
      "<class 'pandas.core.frame.DataFrame'>\n",
      "RangeIndex: 777 entries, 0 to 776\n",
      "Data columns (total 8 columns):\n",
      " #   Column        Non-Null Count  Dtype  \n",
      "---  ------        --------------  -----  \n",
      " 0   Nombre        777 non-null    object \n",
      " 1   Cargo         777 non-null    object \n",
      " 2   Departamento  777 non-null    object \n",
      " 3   Sexo          777 non-null    object \n",
      " 4   Sueldo bruto  777 non-null    float64\n",
      " 5   AFP           777 non-null    float64\n",
      " 6   SFS           777 non-null    float64\n",
      " 7   Sueldo neto   777 non-null    float64\n",
      "dtypes: float64(4), object(4)\n",
      "memory usage: 48.7+ KB\n"
     ]
    }
   ],
   "source": [
    "df_hacienda.drop(columns=['Unnamed: 0'], axis=1 , inplace=True)\n",
    "df_hacienda.info()"
   ]
  },
  {
   "cell_type": "code",
   "execution_count": 635,
   "metadata": {},
   "outputs": [
    {
     "name": "stdout",
     "output_type": "stream",
     "text": [
      "<class 'pandas.core.frame.DataFrame'>\n",
      "RangeIndex: 8767 entries, 0 to 8766\n",
      "Data columns (total 8 columns):\n",
      " #   Column        Non-Null Count  Dtype  \n",
      "---  ------        --------------  -----  \n",
      " 0   Nombre        8767 non-null   object \n",
      " 1   Cargo         8767 non-null   object \n",
      " 2   Departamento  8767 non-null   object \n",
      " 3   Sexo          8767 non-null   object \n",
      " 4   Sueldo bruto  8767 non-null   float64\n",
      " 5   AFP           8767 non-null   float64\n",
      " 6   SFS           8767 non-null   float64\n",
      " 7   Sueldo neto   8767 non-null   float64\n",
      "dtypes: float64(4), object(4)\n",
      "memory usage: 548.1+ KB\n"
     ]
    }
   ],
   "source": [
    "df_publico.drop(columns=['Unnamed: 0'], axis=1 , inplace=True)\n",
    "df_publico.info()"
   ]
  },
  {
   "cell_type": "code",
   "execution_count": 636,
   "metadata": {},
   "outputs": [
    {
     "name": "stdout",
     "output_type": "stream",
     "text": [
      "<class 'pandas.core.frame.DataFrame'>\n",
      "RangeIndex: 290 entries, 0 to 289\n",
      "Data columns (total 9 columns):\n",
      " #   Column        Non-Null Count  Dtype  \n",
      "---  ------        --------------  -----  \n",
      " 0   Ministerio    290 non-null    object \n",
      " 1   Nombre        290 non-null    object \n",
      " 2   Cargo         290 non-null    object \n",
      " 3   Departamento  290 non-null    object \n",
      " 4   Sexo          290 non-null    object \n",
      " 5   Sueldo bruto  290 non-null    float64\n",
      " 6   AFP           290 non-null    float64\n",
      " 7   SFS           290 non-null    float64\n",
      " 8   Sueldo neto   290 non-null    float64\n",
      "dtypes: float64(4), object(5)\n",
      "memory usage: 20.5+ KB\n"
     ]
    }
   ],
   "source": [
    "#Juventud\n",
    "df_juventud.insert(0,'Ministerio','Juventud')\n",
    "df_juventud.info()"
   ]
  },
  {
   "cell_type": "code",
   "execution_count": 637,
   "metadata": {},
   "outputs": [
    {
     "name": "stdout",
     "output_type": "stream",
     "text": [
      "<class 'pandas.core.frame.DataFrame'>\n",
      "RangeIndex: 330 entries, 0 to 329\n",
      "Data columns (total 9 columns):\n",
      " #   Column        Non-Null Count  Dtype  \n",
      "---  ------        --------------  -----  \n",
      " 0   Ministerio    330 non-null    object \n",
      " 1   Nombre        330 non-null    object \n",
      " 2   Cargo         330 non-null    object \n",
      " 3   Departamento  330 non-null    object \n",
      " 4   Sexo          330 non-null    object \n",
      " 5   Sueldo bruto  330 non-null    float64\n",
      " 6   AFP           330 non-null    float64\n",
      " 7   SFS           330 non-null    float64\n",
      " 8   Sueldo neto   330 non-null    float64\n",
      "dtypes: float64(4), object(5)\n",
      "memory usage: 23.3+ KB\n"
     ]
    }
   ],
   "source": [
    "#Mujer\n",
    "df_mujer.insert(0,'Ministerio','Mujer')\n",
    "df_mujer.info()"
   ]
  },
  {
   "cell_type": "code",
   "execution_count": 638,
   "metadata": {},
   "outputs": [
    {
     "name": "stdout",
     "output_type": "stream",
     "text": [
      "<class 'pandas.core.frame.DataFrame'>\n",
      "RangeIndex: 777 entries, 0 to 776\n",
      "Data columns (total 9 columns):\n",
      " #   Column        Non-Null Count  Dtype  \n",
      "---  ------        --------------  -----  \n",
      " 0   Ministerio    777 non-null    object \n",
      " 1   Nombre        777 non-null    object \n",
      " 2   Cargo         777 non-null    object \n",
      " 3   Departamento  777 non-null    object \n",
      " 4   Sexo          777 non-null    object \n",
      " 5   Sueldo bruto  777 non-null    float64\n",
      " 6   AFP           777 non-null    float64\n",
      " 7   SFS           777 non-null    float64\n",
      " 8   Sueldo neto   777 non-null    float64\n",
      "dtypes: float64(4), object(5)\n",
      "memory usage: 54.8+ KB\n"
     ]
    }
   ],
   "source": [
    "#Hacienda\n",
    "df_hacienda.insert(0,'Ministerio','Hacienda')\n",
    "df_hacienda.info()"
   ]
  },
  {
   "cell_type": "code",
   "execution_count": 639,
   "metadata": {},
   "outputs": [
    {
     "name": "stdout",
     "output_type": "stream",
     "text": [
      "<class 'pandas.core.frame.DataFrame'>\n",
      "RangeIndex: 8767 entries, 0 to 8766\n",
      "Data columns (total 9 columns):\n",
      " #   Column        Non-Null Count  Dtype  \n",
      "---  ------        --------------  -----  \n",
      " 0   Ministerio    8767 non-null   object \n",
      " 1   Nombre        8767 non-null   object \n",
      " 2   Cargo         8767 non-null   object \n",
      " 3   Departamento  8767 non-null   object \n",
      " 4   Sexo          8767 non-null   object \n",
      " 5   Sueldo bruto  8767 non-null   float64\n",
      " 6   AFP           8767 non-null   float64\n",
      " 7   SFS           8767 non-null   float64\n",
      " 8   Sueldo neto   8767 non-null   float64\n",
      "dtypes: float64(4), object(5)\n",
      "memory usage: 616.6+ KB\n"
     ]
    }
   ],
   "source": [
    "#Publico\n",
    "df_publico.insert(0,'Ministerio','Publico')\n",
    "df_publico.info()"
   ]
  },
  {
   "cell_type": "code",
   "execution_count": 640,
   "metadata": {},
   "outputs": [
    {
     "name": "stdout",
     "output_type": "stream",
     "text": [
      "<class 'pandas.core.frame.DataFrame'>\n",
      "RangeIndex: 877 entries, 0 to 876\n",
      "Data columns (total 9 columns):\n",
      " #   Column        Non-Null Count  Dtype  \n",
      "---  ------        --------------  -----  \n",
      " 0   Ministerio    877 non-null    object \n",
      " 1   Nombre        877 non-null    object \n",
      " 2   Cargo         877 non-null    object \n",
      " 3   Departamento  877 non-null    object \n",
      " 4   Sexo          877 non-null    object \n",
      " 5   Sueldo bruto  877 non-null    object \n",
      " 6   AFP           877 non-null    float64\n",
      " 7   SFS           877 non-null    float64\n",
      " 8   Sueldo neto   877 non-null    object \n",
      "dtypes: float64(2), object(7)\n",
      "memory usage: 61.8+ KB\n"
     ]
    }
   ],
   "source": [
    "#Trabajo\n",
    "df_trabajo.insert(0,'Ministerio','Trabajo')\n",
    "df_trabajo.info()"
   ]
  },
  {
   "cell_type": "markdown",
   "metadata": {},
   "source": [
    "## Unificación de datasets"
   ]
  },
  {
   "cell_type": "code",
   "execution_count": 641,
   "metadata": {},
   "outputs": [
    {
     "name": "stdout",
     "output_type": "stream",
     "text": [
      "<class 'pandas.core.frame.DataFrame'>\n",
      "Index: 11041 entries, 0 to 876\n",
      "Data columns (total 7 columns):\n",
      " #   Column        Non-Null Count  Dtype  \n",
      "---  ------        --------------  -----  \n",
      " 0   Ministerio    11041 non-null  object \n",
      " 1   Cargo         11041 non-null  object \n",
      " 2   Sexo          11041 non-null  object \n",
      " 3   Sueldo bruto  11041 non-null  object \n",
      " 4   AFP           11041 non-null  float64\n",
      " 5   SFS           11041 non-null  float64\n",
      " 6   Sueldo neto   11041 non-null  object \n",
      "dtypes: float64(2), object(5)\n",
      "memory usage: 690.1+ KB\n"
     ]
    }
   ],
   "source": [
    "df_ministerios = pd.concat([df_mujer, df_hacienda, df_publico, df_juventud, df_trabajo])\n",
    "df_ministerios.drop(columns= ['Departamento','Nombre'], axis=1,inplace= True)\n",
    "df_ministerios.info()"
   ]
  },
  {
   "cell_type": "code",
   "execution_count": 642,
   "metadata": {},
   "outputs": [
    {
     "data": {
      "text/html": [
       "<div>\n",
       "<style scoped>\n",
       "    .dataframe tbody tr th:only-of-type {\n",
       "        vertical-align: middle;\n",
       "    }\n",
       "\n",
       "    .dataframe tbody tr th {\n",
       "        vertical-align: top;\n",
       "    }\n",
       "\n",
       "    .dataframe thead th {\n",
       "        text-align: right;\n",
       "    }\n",
       "</style>\n",
       "<table border=\"1\" class=\"dataframe\">\n",
       "  <thead>\n",
       "    <tr style=\"text-align: right;\">\n",
       "      <th></th>\n",
       "      <th>Ministerio</th>\n",
       "      <th>Cargo</th>\n",
       "      <th>Sexo</th>\n",
       "      <th>Sueldo bruto</th>\n",
       "      <th>AFP</th>\n",
       "      <th>SFS</th>\n",
       "      <th>Sueldo neto</th>\n",
       "    </tr>\n",
       "  </thead>\n",
       "  <tbody>\n",
       "    <tr>\n",
       "      <th>0</th>\n",
       "      <td>Mujer</td>\n",
       "      <td>MINISTRO (A) DE LA MUJER</td>\n",
       "      <td>FEMENINO</td>\n",
       "      <td>300000.0</td>\n",
       "      <td>8610.0</td>\n",
       "      <td>4943.8</td>\n",
       "      <td>221471.46</td>\n",
       "    </tr>\n",
       "    <tr>\n",
       "      <th>1</th>\n",
       "      <td>Mujer</td>\n",
       "      <td>MENSAJERO INTERNO</td>\n",
       "      <td>FEMENINO</td>\n",
       "      <td>25000.0</td>\n",
       "      <td>717.5</td>\n",
       "      <td>760.0</td>\n",
       "      <td>23497.5</td>\n",
       "    </tr>\n",
       "    <tr>\n",
       "      <th>2</th>\n",
       "      <td>Mujer</td>\n",
       "      <td>SECRETARIA</td>\n",
       "      <td>FEMENINO</td>\n",
       "      <td>27000.0</td>\n",
       "      <td>774.9</td>\n",
       "      <td>820.8</td>\n",
       "      <td>25279.3</td>\n",
       "    </tr>\n",
       "    <tr>\n",
       "      <th>3</th>\n",
       "      <td>Mujer</td>\n",
       "      <td>ASESOR</td>\n",
       "      <td>FEMENINO</td>\n",
       "      <td>23000.0</td>\n",
       "      <td>660.1</td>\n",
       "      <td>699.2</td>\n",
       "      <td>20222.7</td>\n",
       "    </tr>\n",
       "    <tr>\n",
       "      <th>4</th>\n",
       "      <td>Mujer</td>\n",
       "      <td>SECRETARIA EJECUTIVA</td>\n",
       "      <td>FEMENINO</td>\n",
       "      <td>40000.0</td>\n",
       "      <td>1148.0</td>\n",
       "      <td>1216.0</td>\n",
       "      <td>37168.35</td>\n",
       "    </tr>\n",
       "    <tr>\n",
       "      <th>...</th>\n",
       "      <td>...</td>\n",
       "      <td>...</td>\n",
       "      <td>...</td>\n",
       "      <td>...</td>\n",
       "      <td>...</td>\n",
       "      <td>...</td>\n",
       "      <td>...</td>\n",
       "    </tr>\n",
       "    <tr>\n",
       "      <th>872</th>\n",
       "      <td>Trabajo</td>\n",
       "      <td>ANALISTA</td>\n",
       "      <td>MASCULINO</td>\n",
       "      <td>41.000,00</td>\n",
       "      <td>4087.7</td>\n",
       "      <td>4153.3</td>\n",
       "      <td>37.968,11</td>\n",
       "    </tr>\n",
       "    <tr>\n",
       "      <th>873</th>\n",
       "      <td>Trabajo</td>\n",
       "      <td>SOPORTE ADMINISTRATIVO</td>\n",
       "      <td>MASCULINO</td>\n",
       "      <td>46.000,00</td>\n",
       "      <td>4586.2</td>\n",
       "      <td>4659.8</td>\n",
       "      <td>41.966,94</td>\n",
       "    </tr>\n",
       "    <tr>\n",
       "      <th>874</th>\n",
       "      <td>Trabajo</td>\n",
       "      <td>SECRETARIO (A)</td>\n",
       "      <td>FEMENINO</td>\n",
       "      <td>34.000,00</td>\n",
       "      <td>3389.8</td>\n",
       "      <td>3444.2</td>\n",
       "      <td>31.965,60</td>\n",
       "    </tr>\n",
       "    <tr>\n",
       "      <th>875</th>\n",
       "      <td>Trabajo</td>\n",
       "      <td>SECRETARIO (A)</td>\n",
       "      <td>FEMENINO</td>\n",
       "      <td>34.000,00</td>\n",
       "      <td>3389.8</td>\n",
       "      <td>3444.2</td>\n",
       "      <td>31.965,60</td>\n",
       "    </tr>\n",
       "    <tr>\n",
       "      <th>876</th>\n",
       "      <td>Trabajo</td>\n",
       "      <td>AUXILIAR ADMINISTRATIVO I</td>\n",
       "      <td>FEMENINO</td>\n",
       "      <td>34.000,00</td>\n",
       "      <td>3389.8</td>\n",
       "      <td>3444.2</td>\n",
       "      <td>31.965,60</td>\n",
       "    </tr>\n",
       "  </tbody>\n",
       "</table>\n",
       "<p>11041 rows × 7 columns</p>\n",
       "</div>"
      ],
      "text/plain": [
       "    Ministerio                      Cargo       Sexo Sueldo bruto     AFP  \\\n",
       "0        Mujer   MINISTRO (A) DE LA MUJER  FEMENINO      300000.0  8610.0   \n",
       "1        Mujer          MENSAJERO INTERNO  FEMENINO       25000.0   717.5   \n",
       "2        Mujer                 SECRETARIA  FEMENINO       27000.0   774.9   \n",
       "3        Mujer                     ASESOR  FEMENINO       23000.0   660.1   \n",
       "4        Mujer       SECRETARIA EJECUTIVA  FEMENINO       40000.0  1148.0   \n",
       "..         ...                        ...        ...          ...     ...   \n",
       "872    Trabajo                   ANALISTA  MASCULINO    41.000,00  4087.7   \n",
       "873    Trabajo     SOPORTE ADMINISTRATIVO  MASCULINO    46.000,00  4586.2   \n",
       "874    Trabajo             SECRETARIO (A)   FEMENINO    34.000,00  3389.8   \n",
       "875    Trabajo             SECRETARIO (A)   FEMENINO    34.000,00  3389.8   \n",
       "876    Trabajo  AUXILIAR ADMINISTRATIVO I   FEMENINO    34.000,00  3389.8   \n",
       "\n",
       "        SFS Sueldo neto  \n",
       "0    4943.8   221471.46  \n",
       "1     760.0     23497.5  \n",
       "2     820.8     25279.3  \n",
       "3     699.2     20222.7  \n",
       "4    1216.0    37168.35  \n",
       "..      ...         ...  \n",
       "872  4153.3   37.968,11  \n",
       "873  4659.8   41.966,94  \n",
       "874  3444.2   31.965,60  \n",
       "875  3444.2   31.965,60  \n",
       "876  3444.2   31.965,60  \n",
       "\n",
       "[11041 rows x 7 columns]"
      ]
     },
     "execution_count": 642,
     "metadata": {},
     "output_type": "execute_result"
    }
   ],
   "source": [
    "df_ministerios"
   ]
  },
  {
   "cell_type": "markdown",
   "metadata": {},
   "source": [
    "## Procesamiento de datos"
   ]
  },
  {
   "cell_type": "code",
   "execution_count": 643,
   "metadata": {},
   "outputs": [],
   "source": [
    "# Normalizando la caracteristica Sexo\n",
    "df_ministerios.rename(columns={\"Sexo\": \"Es_Masculino\"}, inplace=True)\n",
    "\n",
    "df_ministerios[\"Es_Masculino\"] = df_ministerios[\"Es_Masculino\"].apply(lambda genero:  0 if \"f\" in genero.lower() else 1).astype(\"int64\")"
   ]
  },
  {
   "cell_type": "code",
   "execution_count": 644,
   "metadata": {},
   "outputs": [
    {
     "name": "stdout",
     "output_type": "stream",
     "text": [
      "{\"<class 'float'>\": 10164, \"<class 'str'>\": 877}\n"
     ]
    }
   ],
   "source": [
    "# Normalizando la caracteristica Sueldo bruto\n",
    "types = {}\n",
    "for bruto in df_ministerios[\"Sueldo bruto\"]:\n",
    "    tipo = str(type(bruto))\n",
    "    if tipo not in types:\n",
    "        types[tipo] = 0\n",
    "    types[tipo] += 1\n",
    "\n",
    "print(types)"
   ]
  },
  {
   "cell_type": "code",
   "execution_count": 645,
   "metadata": {},
   "outputs": [],
   "source": [
    "def convertir_a_float(bruto):\n",
    "    try:\n",
    "        return float(bruto)\n",
    "    except ValueError:\n",
    "        return float(bruto.replace('.', '').replace(',', '.'))\n",
    "\n",
    "# Aplicar la función a la columna \"Sueldo bruto\"\n",
    "df_ministerios[\"Sueldo bruto\"] = df_ministerios[\"Sueldo bruto\"].apply(convertir_a_float)"
   ]
  },
  {
   "cell_type": "code",
   "execution_count": 646,
   "metadata": {},
   "outputs": [
    {
     "name": "stdout",
     "output_type": "stream",
     "text": [
      "{\"<class 'float'>\": 10164, \"<class 'str'>\": 877}\n"
     ]
    }
   ],
   "source": [
    "# Normalizando la caracteristica Sueldo neto\n",
    "types = {}\n",
    "for bruto in df_ministerios[\"Sueldo neto\"]:\n",
    "    tipo = str(type(bruto))\n",
    "    if tipo not in types:\n",
    "        types[tipo] = 0\n",
    "    types[tipo] += 1\n",
    "\n",
    "print(types)"
   ]
  },
  {
   "cell_type": "code",
   "execution_count": 647,
   "metadata": {},
   "outputs": [],
   "source": [
    "def convertir_a_float(bruto):\n",
    "    try:\n",
    "        return float(bruto)\n",
    "    except ValueError:\n",
    "        return float(bruto.replace('.', '').replace(',', '.'))\n",
    "\n",
    "# Aplicar la función a la columna \"Sueldo bruto\"\n",
    "df_ministerios[\"Sueldo neto\"] = df_ministerios[\"Sueldo neto\"].apply(convertir_a_float)"
   ]
  },
  {
   "cell_type": "code",
   "execution_count": 648,
   "metadata": {},
   "outputs": [
    {
     "name": "stdout",
     "output_type": "stream",
     "text": [
      "df_ministerios is written to CSV File successfully.\n"
     ]
    }
   ],
   "source": [
    "# route\n",
    "file_name = 'Datasets/Clean_Ministerios.csv'\n",
    "\n",
    "# saving the excel\n",
    "df_ministerios.to_csv(file_name)\n",
    "print('df_ministerios is written to CSV File successfully.')"
   ]
  },
  {
   "cell_type": "markdown",
   "metadata": {},
   "source": [
    "### Columnas Categoricas"
   ]
  },
  {
   "cell_type": "code",
   "execution_count": 649,
   "metadata": {},
   "outputs": [
    {
     "data": {
      "text/plain": [
       "Cargo\n",
       "AGENTE  VTP                                                 13.757812\n",
       "AUXILIAR ADMINISTRATIVO                                      6.638891\n",
       "ABOGADO (A) I                                                6.013948\n",
       "CONSERJE                                                     5.678833\n",
       "FISCALIZADOR                                                 4.483290\n",
       "                                                              ...    \n",
       "Coordinador de Organismos Internacionales                    0.009057\n",
       "Analista de Estudios y Políticas Tributarias I               0.009057\n",
       "Analista de Estudios y Proyecciones de la Recaudación II     0.009057\n",
       "Analista Recursos Humanos I                                  0.009057\n",
       "ENCARGADO UNIDAD                                             0.009057\n",
       "Name: proportion, Length: 745, dtype: float64"
      ]
     },
     "execution_count": 649,
     "metadata": {},
     "output_type": "execute_result"
    }
   ],
   "source": [
    "counts = df_ministerios[\"Cargo\"].value_counts(normalize=True)*100\n",
    "counts"
   ]
  },
  {
   "cell_type": "code",
   "execution_count": 650,
   "metadata": {},
   "outputs": [
    {
     "data": {
      "text/plain": [
       "Cargo\n",
       "ABOGADO    845\n",
       "Name: count, dtype: int64"
      ]
     },
     "execution_count": 650,
     "metadata": {},
     "output_type": "execute_result"
    }
   ],
   "source": [
    "df_ministerios[\"Cargo\"].value_counts(normalize=True)*100\n",
    "\n",
    "#Estandarizando los Abogados\n",
    "df_ministerios['Cargo'] = df_ministerios['Cargo'].apply(lambda x: \"ABOGADO\" if re.search(\"ABOGAD\", x) else x)\n",
    "\n",
    "Abogados = df_ministerios[df_ministerios['Cargo'].str.contains(\"ABOGAD\")]['Cargo']\n",
    "Abogados.value_counts()\n",
    "\n",
    "  "
   ]
  },
  {
   "cell_type": "code",
   "execution_count": 651,
   "metadata": {},
   "outputs": [],
   "source": [
    "# funcion para normalizar columnas\n",
    "def normalize_column(column_name, field_name, field_new_name, df):\n",
    "    df[column_name] = df[column_name].apply\\\n",
    "    (\n",
    "        lambda x: field_new_name.upper() if re.search(field_name.upper(), str(x.upper())) else x.upper()\n",
    "    )\n",
    "    print(f\"Se normalizó el campo {field_new_name}\")\n"
   ]
  },
  {
   "cell_type": "code",
   "execution_count": 652,
   "metadata": {},
   "outputs": [
    {
     "name": "stdout",
     "output_type": "stream",
     "text": [
      "Se normalizó el campo SECRETARIO\n",
      "Se normalizó el campo SECRETARIO\n"
     ]
    },
    {
     "name": "stderr",
     "output_type": "stream",
     "text": [
      "<>:3: SyntaxWarning: invalid escape sequence '\\.'\n",
      "<>:3: SyntaxWarning: invalid escape sequence '\\.'\n",
      "C:\\Users\\oniel\\AppData\\Local\\Temp\\ipykernel_21076\\3284197886.py:3: SyntaxWarning: invalid escape sequence '\\.'\n",
      "  normalize_column('Cargo', \"SEC\\.\", \"SECRETARIO\", df_ministerios)\n"
     ]
    }
   ],
   "source": [
    "# Normalizando el campo secretaria\n",
    "normalize_column('Cargo', \"SECRETARI\", \"SECRETARIO\", df_ministerios)\n",
    "normalize_column('Cargo', \"SEC\\.\", \"SECRETARIO\", df_ministerios)"
   ]
  },
  {
   "cell_type": "code",
   "execution_count": 653,
   "metadata": {},
   "outputs": [
    {
     "data": {
      "text/plain": [
       "Cargo\n",
       "SECRETARIO    733\n",
       "Name: count, dtype: int64"
      ]
     },
     "execution_count": 653,
     "metadata": {},
     "output_type": "execute_result"
    }
   ],
   "source": [
    "# Normalizando el campo secretario\n",
    "Secretario = df_ministerios[df_ministerios['Cargo'].str.contains(\"SECRETARI\")]['Cargo']\n",
    "Secretario.value_counts()"
   ]
  },
  {
   "cell_type": "code",
   "execution_count": 654,
   "metadata": {},
   "outputs": [
    {
     "name": "stdout",
     "output_type": "stream",
     "text": [
      "Se normalizó el campo ANALISTA\n"
     ]
    }
   ],
   "source": [
    "# Normalizando campo analista\n",
    "normalize_column('Cargo', \"ANALIST\", \"ANALISTA\", df_ministerios)"
   ]
  },
  {
   "cell_type": "code",
   "execution_count": 655,
   "metadata": {},
   "outputs": [
    {
     "data": {
      "text/plain": [
       "Cargo\n",
       "ANALISTA    375\n",
       "Name: count, dtype: int64"
      ]
     },
     "execution_count": 655,
     "metadata": {},
     "output_type": "execute_result"
    }
   ],
   "source": [
    "# revisando los valores de analista\n",
    "Analista = df_ministerios[df_ministerios['Cargo'].str.contains(\"ANALIST\")]['Cargo']\n",
    "Analista.value_counts()"
   ]
  },
  {
   "cell_type": "code",
   "execution_count": 656,
   "metadata": {},
   "outputs": [
    {
     "name": "stdout",
     "output_type": "stream",
     "text": [
      "Se normalizó el campo ENCARGADO\n",
      "Se normalizó el campo ENCARGADO\n"
     ]
    },
    {
     "name": "stderr",
     "output_type": "stream",
     "text": [
      "<>:3: SyntaxWarning: invalid escape sequence '\\.'\n",
      "<>:3: SyntaxWarning: invalid escape sequence '\\.'\n",
      "C:\\Users\\oniel\\AppData\\Local\\Temp\\ipykernel_21076\\2804071411.py:3: SyntaxWarning: invalid escape sequence '\\.'\n",
      "  normalize_column('Cargo', \"ENC\\.\", \"ENCARGADO\", df_ministerios)\n"
     ]
    }
   ],
   "source": [
    "# Normalizando campo ENCARGADO \n",
    "normalize_column('Cargo', \"ENCARGAD\", \"ENCARGADO\", df_ministerios)\n",
    "normalize_column('Cargo', \"ENC\\.\", \"ENCARGADO\", df_ministerios)"
   ]
  },
  {
   "cell_type": "code",
   "execution_count": 657,
   "metadata": {},
   "outputs": [
    {
     "data": {
      "text/plain": [
       "Cargo\n",
       "ENCARGADO    720\n",
       "Name: count, dtype: int64"
      ]
     },
     "execution_count": 657,
     "metadata": {},
     "output_type": "execute_result"
    }
   ],
   "source": [
    "# revisando los valores de encargado\n",
    "Encargado = df_ministerios[df_ministerios['Cargo'].str.contains(\"ENCARGAD\")]['Cargo']\n",
    "Encargado.value_counts()"
   ]
  },
  {
   "cell_type": "code",
   "execution_count": 658,
   "metadata": {},
   "outputs": [
    {
     "name": "stdout",
     "output_type": "stream",
     "text": [
      "Se normalizó el campo COORDINADOR\n"
     ]
    }
   ],
   "source": [
    "# Normalizando campo coordinador \n",
    "normalize_column('Cargo', \"COORDINAD\", \"COORDINADOR\", df_ministerios)"
   ]
  },
  {
   "cell_type": "code",
   "execution_count": 659,
   "metadata": {},
   "outputs": [
    {
     "data": {
      "text/plain": [
       "Cargo\n",
       "COORDINADOR    166\n",
       "Name: count, dtype: int64"
      ]
     },
     "execution_count": 659,
     "metadata": {},
     "output_type": "execute_result"
    }
   ],
   "source": [
    "# revisando los valores de coordinador\n",
    "Coordinador = df_ministerios[df_ministerios['Cargo'].str.contains(\"COORDINAD\")]['Cargo']\n",
    "Coordinador.value_counts()"
   ]
  },
  {
   "cell_type": "code",
   "execution_count": 660,
   "metadata": {},
   "outputs": [
    {
     "name": "stdout",
     "output_type": "stream",
     "text": [
      "Se normalizó el campo FISCALIZADOR\n"
     ]
    }
   ],
   "source": [
    "# Normalizando campo Fiscalizador \n",
    "normalize_column('Cargo', \"FISCALIZAD\", \"FISCALIZADOR\", df_ministerios)"
   ]
  },
  {
   "cell_type": "code",
   "execution_count": 661,
   "metadata": {},
   "outputs": [
    {
     "data": {
      "text/plain": [
       "Cargo\n",
       "FISCALIZADOR    498\n",
       "Name: count, dtype: int64"
      ]
     },
     "execution_count": 661,
     "metadata": {},
     "output_type": "execute_result"
    }
   ],
   "source": [
    "# revisando Fiscalizador\n",
    "Fiscalizador = df_ministerios[df_ministerios['Cargo'].str.contains(\"FISCALIZAD\")]['Cargo']\n",
    "Fiscalizador.value_counts()"
   ]
  },
  {
   "cell_type": "code",
   "execution_count": 662,
   "metadata": {},
   "outputs": [
    {
     "name": "stdout",
     "output_type": "stream",
     "text": [
      "Se normalizó el campo INSPECTOR\n"
     ]
    }
   ],
   "source": [
    "# Normalizando campo INSPECTOR \n",
    "normalize_column('Cargo', \"INSPECT\", \"INSPECTOR\", df_ministerios)"
   ]
  },
  {
   "cell_type": "code",
   "execution_count": 663,
   "metadata": {},
   "outputs": [
    {
     "name": "stdout",
     "output_type": "stream",
     "text": [
      "Se normalizó el campo INSPECTOR\n"
     ]
    }
   ],
   "source": [
    "# Normalizando campo INSPECTOR \n",
    "normalize_column('Cargo', \"INSPECT\", \"INSPECTOR\", df_ministerios)"
   ]
  },
  {
   "cell_type": "code",
   "execution_count": 664,
   "metadata": {},
   "outputs": [
    {
     "name": "stdout",
     "output_type": "stream",
     "text": [
      "Se normalizó el campo SUPERVISOR\n"
     ]
    }
   ],
   "source": [
    "# Normalizando campo SUPERVISOR \n",
    "normalize_column('Cargo', \"SUPERVI\", \"SUPERVISOR\", df_ministerios)"
   ]
  },
  {
   "cell_type": "code",
   "execution_count": 665,
   "metadata": {},
   "outputs": [
    {
     "data": {
      "text/plain": [
       "Cargo\n",
       "SUPERVISOR    279\n",
       "Name: count, dtype: int64"
      ]
     },
     "execution_count": 665,
     "metadata": {},
     "output_type": "execute_result"
    }
   ],
   "source": [
    "# revisando SUPERVISOR\n",
    "var = df_ministerios[df_ministerios['Cargo'].str.contains(\"SUPERVI\")]['Cargo']\n",
    "var.value_counts()"
   ]
  },
  {
   "cell_type": "code",
   "execution_count": 666,
   "metadata": {},
   "outputs": [
    {
     "name": "stdout",
     "output_type": "stream",
     "text": [
      "Se normalizó el campo CHOFER\n"
     ]
    }
   ],
   "source": [
    "# Normalizando campo CHOFER \n",
    "normalize_column('Cargo', \"CHOF\", \"CHOFER\", df_ministerios)"
   ]
  },
  {
   "cell_type": "code",
   "execution_count": 667,
   "metadata": {},
   "outputs": [
    {
     "data": {
      "text/plain": [
       "Cargo\n",
       "CHOFER    497\n",
       "Name: count, dtype: int64"
      ]
     },
     "execution_count": 667,
     "metadata": {},
     "output_type": "execute_result"
    }
   ],
   "source": [
    "# revisando chofer\n",
    "var = df_ministerios[df_ministerios['Cargo'].str.contains(\"CHOF\")]['Cargo']\n",
    "var.value_counts()"
   ]
  },
  {
   "cell_type": "code",
   "execution_count": 668,
   "metadata": {},
   "outputs": [
    {
     "name": "stdout",
     "output_type": "stream",
     "text": [
      "Se normalizó el campo ADMINISTRADOR\n"
     ]
    }
   ],
   "source": [
    "# Normalizando campo ADMINISTRADOR \n",
    "normalize_column('Cargo', \"ADMINISTRAD\", \"ADMINISTRADOR\", df_ministerios)"
   ]
  },
  {
   "cell_type": "code",
   "execution_count": 669,
   "metadata": {},
   "outputs": [
    {
     "data": {
      "text/plain": [
       "Cargo\n",
       "ADMINISTRADOR    35\n",
       "Name: count, dtype: int64"
      ]
     },
     "execution_count": 669,
     "metadata": {},
     "output_type": "execute_result"
    }
   ],
   "source": [
    "# revisando ADMINISTRADOR\n",
    "var = df_ministerios[df_ministerios['Cargo'].str.contains(\"ADMINISTRAD\")]['Cargo']\n",
    "var.value_counts()"
   ]
  },
  {
   "cell_type": "code",
   "execution_count": 670,
   "metadata": {},
   "outputs": [
    {
     "name": "stdout",
     "output_type": "stream",
     "text": [
      "Se normalizó el campo DISEÑADOR\n"
     ]
    }
   ],
   "source": [
    "# Normalizando campo INSPECTOR \n",
    "normalize_column('Cargo', \"DISE\", \"DISEÑADOR\", df_ministerios)"
   ]
  },
  {
   "cell_type": "code",
   "execution_count": 671,
   "metadata": {},
   "outputs": [
    {
     "data": {
      "text/plain": [
       "Cargo\n",
       "DISEÑADOR    18\n",
       "Name: count, dtype: int64"
      ]
     },
     "execution_count": 671,
     "metadata": {},
     "output_type": "execute_result"
    }
   ],
   "source": [
    "# revisando DISEÑADOR\n",
    "var = df_ministerios[df_ministerios['Cargo'].str.contains(\"DISE\")]['Cargo']\n",
    "var.value_counts()"
   ]
  },
  {
   "cell_type": "code",
   "execution_count": 672,
   "metadata": {},
   "outputs": [
    {
     "name": "stdout",
     "output_type": "stream",
     "text": [
      "Se normalizó el campo OPERADOR\n"
     ]
    }
   ],
   "source": [
    "# Normalizando campo OPERADOR \n",
    "normalize_column('Cargo', \"OPERAD\", \"OPERADOR\", df_ministerios)"
   ]
  },
  {
   "cell_type": "code",
   "execution_count": 673,
   "metadata": {},
   "outputs": [
    {
     "data": {
      "text/plain": [
       "Cargo\n",
       "OPERADOR    22\n",
       "Name: count, dtype: int64"
      ]
     },
     "execution_count": 673,
     "metadata": {},
     "output_type": "execute_result"
    }
   ],
   "source": [
    "# revisando OPERADOR\n",
    "var = df_ministerios[df_ministerios['Cargo'].str.contains(\"OPERAD\")]['Cargo']\n",
    "var.value_counts()"
   ]
  },
  {
   "cell_type": "code",
   "execution_count": 674,
   "metadata": {},
   "outputs": [
    {
     "name": "stdout",
     "output_type": "stream",
     "text": [
      "Se normalizó el campo AUXILIAR\n"
     ]
    }
   ],
   "source": [
    "# Normalizando campo AUXILIAR  \n",
    "normalize_column('Cargo', \"AUX\", \"AUXILIAR\", df_ministerios)"
   ]
  },
  {
   "cell_type": "code",
   "execution_count": 675,
   "metadata": {},
   "outputs": [
    {
     "data": {
      "text/plain": [
       "Cargo\n",
       "AUXILIAR    1176\n",
       "Name: count, dtype: int64"
      ]
     },
     "execution_count": 675,
     "metadata": {},
     "output_type": "execute_result"
    }
   ],
   "source": [
    "# revisando AUXILIAR \n",
    "var = df_ministerios[df_ministerios['Cargo'].str.contains(\"AUXILI\")]['Cargo']\n",
    "var.value_counts()"
   ]
  },
  {
   "cell_type": "code",
   "execution_count": 676,
   "metadata": {},
   "outputs": [
    {
     "name": "stdout",
     "output_type": "stream",
     "text": [
      "Se normalizó el campo ORIENTADOR\n"
     ]
    }
   ],
   "source": [
    "# Normalizando campo ORIENTADOR \n",
    "normalize_column('Cargo', \"ORIENT\", \"ORIENTADOR\", df_ministerios)"
   ]
  },
  {
   "cell_type": "code",
   "execution_count": 677,
   "metadata": {},
   "outputs": [
    {
     "data": {
      "text/plain": [
       "Cargo\n",
       "ORIENTADOR    7\n",
       "Name: count, dtype: int64"
      ]
     },
     "execution_count": 677,
     "metadata": {},
     "output_type": "execute_result"
    }
   ],
   "source": [
    "# revisando ORIENTADOR\n",
    "var = df_ministerios[df_ministerios['Cargo'].str.contains(\"ORIENT\")]['Cargo']\n",
    "var.value_counts()"
   ]
  },
  {
   "cell_type": "code",
   "execution_count": 678,
   "metadata": {},
   "outputs": [
    {
     "name": "stdout",
     "output_type": "stream",
     "text": [
      "Se normalizó el campo MENSAJERO\n"
     ]
    }
   ],
   "source": [
    "# Normalizando campo MENSAJERO  \n",
    "normalize_column('Cargo', \"MENSAJ\", \"MENSAJERO\", df_ministerios)"
   ]
  },
  {
   "cell_type": "code",
   "execution_count": 679,
   "metadata": {},
   "outputs": [
    {
     "data": {
      "text/plain": [
       "Cargo\n",
       "MENSAJERO    304\n",
       "Name: count, dtype: int64"
      ]
     },
     "execution_count": 679,
     "metadata": {},
     "output_type": "execute_result"
    }
   ],
   "source": [
    "# revisando MENSAJERO\n",
    "var = df_ministerios[df_ministerios['Cargo'].str.contains(\"MENSAJ\")]['Cargo']\n",
    "var.value_counts()"
   ]
  },
  {
   "cell_type": "code",
   "execution_count": 680,
   "metadata": {},
   "outputs": [
    {
     "name": "stdout",
     "output_type": "stream",
     "text": [
      "Se normalizó el campo SUBDIRECTOR\n",
      "Se normalizó el campo SUBDIRECTOR\n"
     ]
    }
   ],
   "source": [
    "# Normalizando campo SUBDIRECTOR   \n",
    "normalize_column('Cargo', \"SUBDIREC\", \"SUBDIRECTOR\", df_ministerios)\n",
    "normalize_column('Cargo', \"SUB-DIREC\", \"SUBDIRECTOR\", df_ministerios)"
   ]
  },
  {
   "cell_type": "code",
   "execution_count": 681,
   "metadata": {},
   "outputs": [
    {
     "data": {
      "text/plain": [
       "Cargo\n",
       "SUBDIRECTOR    110\n",
       "Name: count, dtype: int64"
      ]
     },
     "execution_count": 681,
     "metadata": {},
     "output_type": "execute_result"
    }
   ],
   "source": [
    "# revisando SUBDIRECTOR\n",
    "var = df_ministerios[df_ministerios['Cargo'].str.contains(\"SUBDIREC\")]['Cargo']\n",
    "var.value_counts()"
   ]
  },
  {
   "cell_type": "code",
   "execution_count": 682,
   "metadata": {},
   "outputs": [
    {
     "name": "stdout",
     "output_type": "stream",
     "text": [
      "Se normalizó el campo SOPORTE\n"
     ]
    }
   ],
   "source": [
    "# Normalizando campo SOPORTE  \n",
    "normalize_column('Cargo', \"SOPOR\", \"SOPORTE\", df_ministerios)"
   ]
  },
  {
   "cell_type": "code",
   "execution_count": 683,
   "metadata": {},
   "outputs": [
    {
     "data": {
      "text/plain": [
       "Cargo\n",
       "SOPORTE    99\n",
       "Name: count, dtype: int64"
      ]
     },
     "execution_count": 683,
     "metadata": {},
     "output_type": "execute_result"
    }
   ],
   "source": [
    "# revisando SOPORTE\n",
    "var = df_ministerios[df_ministerios['Cargo'].str.contains(\"SOPOR\")]['Cargo']\n",
    "var.value_counts()"
   ]
  },
  {
   "cell_type": "code",
   "execution_count": 684,
   "metadata": {},
   "outputs": [
    {
     "name": "stdout",
     "output_type": "stream",
     "text": [
      "Se normalizó el campo VICEMINISTRO\n"
     ]
    }
   ],
   "source": [
    "# Normalizando campo VICEMINISTRO                   \n",
    "normalize_column('Cargo', \"VICE\", \"VICEMINISTRO\", df_ministerios)"
   ]
  },
  {
   "cell_type": "code",
   "execution_count": 685,
   "metadata": {},
   "outputs": [
    {
     "data": {
      "text/plain": [
       "Cargo\n",
       "VICEMINISTRO    31\n",
       "Name: count, dtype: int64"
      ]
     },
     "execution_count": 685,
     "metadata": {},
     "output_type": "execute_result"
    }
   ],
   "source": [
    "# revisando VICEMINISTRO                 \n",
    "var = df_ministerios[df_ministerios['Cargo'].str.contains(\"VICEMINIS\")]['Cargo']\n",
    "var.value_counts()"
   ]
  },
  {
   "cell_type": "code",
   "execution_count": 686,
   "metadata": {},
   "outputs": [
    {
     "name": "stdout",
     "output_type": "stream",
     "text": [
      "Se normalizó el campo TECNICO\n",
      "Se normalizó el campo TECNICO\n"
     ]
    }
   ],
   "source": [
    "# Normalizando campo TECNICO   \n",
    "normalize_column('Cargo', \"TECNI\", \"TECNICO\", df_ministerios)\n",
    "normalize_column('Cargo', \"TÉCNI\", \"TECNICO\", df_ministerios)"
   ]
  },
  {
   "cell_type": "code",
   "execution_count": 687,
   "metadata": {},
   "outputs": [
    {
     "data": {
      "text/plain": [
       "Cargo\n",
       "TECNICO    482\n",
       "Name: count, dtype: int64"
      ]
     },
     "execution_count": 687,
     "metadata": {},
     "output_type": "execute_result"
    }
   ],
   "source": [
    "# revisando TECNICO\n",
    "var = df_ministerios[df_ministerios['Cargo'].str.contains(\"TECNI\")]['Cargo']\n",
    "var.value_counts()"
   ]
  },
  {
   "cell_type": "code",
   "execution_count": 688,
   "metadata": {},
   "outputs": [
    {
     "name": "stdout",
     "output_type": "stream",
     "text": [
      "Se normalizó el campo DIRECTOR\n",
      "Se normalizó el campo DIRECTOR\n",
      "Se normalizó el campo DIRECTOR\n"
     ]
    },
    {
     "name": "stderr",
     "output_type": "stream",
     "text": [
      "<>:4: SyntaxWarning: invalid escape sequence '\\('\n",
      "<>:4: SyntaxWarning: invalid escape sequence '\\('\n",
      "C:\\Users\\oniel\\AppData\\Local\\Temp\\ipykernel_21076\\2228616404.py:4: SyntaxWarning: invalid escape sequence '\\('\n",
      "  normalize_column('Cargo', \"DIRECTOR\\(A\\)\", \"DIRECTOR\", df_ministerios)\n"
     ]
    }
   ],
   "source": [
    "# Normalizando campo   \n",
    "normalize_column('Cargo', \"DIRECTOR \", \"DIRECTOR\", df_ministerios)\n",
    "normalize_column('Cargo', \"DIRECTORA\", \"DIRECTOR\", df_ministerios)\n",
    "normalize_column('Cargo', \"DIRECTOR\\(A\\)\", \"DIRECTOR\", df_ministerios)"
   ]
  },
  {
   "cell_type": "code",
   "execution_count": 689,
   "metadata": {},
   "outputs": [
    {
     "data": {
      "text/plain": [
       "Cargo\n",
       "SUBDIRECTOR     110\n",
       "DIRECTOR         80\n",
       "SUB DIRECTOR      1\n",
       "Name: count, dtype: int64"
      ]
     },
     "execution_count": 689,
     "metadata": {},
     "output_type": "execute_result"
    }
   ],
   "source": [
    "# revisando ORIENTADOR\n",
    "var = df_ministerios[df_ministerios['Cargo'].str.contains(\"DIRECTOR\")]['Cargo']\n",
    "var.value_counts()"
   ]
  },
  {
   "cell_type": "code",
   "execution_count": 690,
   "metadata": {},
   "outputs": [
    {
     "name": "stdout",
     "output_type": "stream",
     "text": [
      "Se normalizó el campo PSICOLOGO\n"
     ]
    }
   ],
   "source": [
    "# Normalizando campo psicologo\n",
    "normalize_column('Cargo', \"PSICO\", \"PSICOLOGO\", df_ministerios)"
   ]
  },
  {
   "cell_type": "code",
   "execution_count": 691,
   "metadata": {},
   "outputs": [
    {
     "data": {
      "text/plain": [
       "Cargo\n",
       "PSICOLOGO    19\n",
       "Name: count, dtype: int64"
      ]
     },
     "execution_count": 691,
     "metadata": {},
     "output_type": "execute_result"
    }
   ],
   "source": [
    "# revisando PSIICOLOGO\n",
    "var = df_ministerios[df_ministerios['Cargo'].str.contains(\"PSICO\")]['Cargo']\n",
    "var.value_counts()"
   ]
  },
  {
   "cell_type": "code",
   "execution_count": 692,
   "metadata": {},
   "outputs": [
    {
     "name": "stdout",
     "output_type": "stream",
     "text": [
      "Se normalizó el campo ASESOR\n"
     ]
    }
   ],
   "source": [
    "# Normalizando campo ASESOR \n",
    "normalize_column('Cargo', \"ASES\", \"ASESOR\", df_ministerios)"
   ]
  },
  {
   "cell_type": "code",
   "execution_count": 693,
   "metadata": {},
   "outputs": [
    {
     "data": {
      "text/plain": [
       "Cargo\n",
       "ASESOR    26\n",
       "Name: count, dtype: int64"
      ]
     },
     "execution_count": 693,
     "metadata": {},
     "output_type": "execute_result"
    }
   ],
   "source": [
    "# revisando ASESOR \n",
    "var = df_ministerios[df_ministerios['Cargo'].str.contains(\"ASES\")]['Cargo']\n",
    "var.value_counts()"
   ]
  },
  {
   "cell_type": "code",
   "execution_count": 694,
   "metadata": {},
   "outputs": [
    {
     "name": "stdout",
     "output_type": "stream",
     "text": [
      "Se normalizó el campo MINISTRO\n"
     ]
    }
   ],
   "source": [
    "# Normalizando campo MINISTRO \n",
    "normalize_column('Cargo', \"MINISTRO \", \"MINISTRO\", df_ministerios)"
   ]
  },
  {
   "cell_type": "code",
   "execution_count": 695,
   "metadata": {},
   "outputs": [
    {
     "data": {
      "text/plain": [
       "Cargo\n",
       "VICEMINISTRO              31\n",
       "MINISTRO                   4\n",
       "ASISTENTE DEL MINISTRO     1\n",
       "Name: count, dtype: int64"
      ]
     },
     "execution_count": 695,
     "metadata": {},
     "output_type": "execute_result"
    }
   ],
   "source": [
    "# revisando MINISTRO \n",
    "var = df_ministerios[df_ministerios['Cargo'].str.contains(\"MINISTRO\")]['Cargo']\n",
    "var.value_counts()"
   ]
  },
  {
   "cell_type": "code",
   "execution_count": 696,
   "metadata": {},
   "outputs": [
    {
     "name": "stdout",
     "output_type": "stream",
     "text": [
      "Se normalizó el campo AGENTE\n"
     ]
    }
   ],
   "source": [
    "# Normalizando campo AGENTE  \n",
    "normalize_column('Cargo', \"AGENT\", \"AGENTE\", df_ministerios)"
   ]
  },
  {
   "cell_type": "code",
   "execution_count": 697,
   "metadata": {},
   "outputs": [
    {
     "data": {
      "text/plain": [
       "Cargo\n",
       "AGENTE    1546\n",
       "Name: count, dtype: int64"
      ]
     },
     "execution_count": 697,
     "metadata": {},
     "output_type": "execute_result"
    }
   ],
   "source": [
    "# revisando AGENTE \n",
    "var = df_ministerios[df_ministerios['Cargo'].str.contains(\"AGENTE\")]['Cargo']\n",
    "var.value_counts()"
   ]
  },
  {
   "cell_type": "code",
   "execution_count": 698,
   "metadata": {},
   "outputs": [
    {
     "name": "stdout",
     "output_type": "stream",
     "text": [
      "Se normalizó el campo INGENIERO\n"
     ]
    }
   ],
   "source": [
    "# Normalizando campo ingeniero\n",
    "normalize_column('Cargo', \"INGENI\", \"INGENIERO\", df_ministerios)"
   ]
  },
  {
   "cell_type": "code",
   "execution_count": 699,
   "metadata": {},
   "outputs": [
    {
     "data": {
      "text/plain": [
       "Cargo\n",
       "INGENIERO    19\n",
       "Name: count, dtype: int64"
      ]
     },
     "execution_count": 699,
     "metadata": {},
     "output_type": "execute_result"
    }
   ],
   "source": [
    "# revisando ORIENTADOR\n",
    "var = df_ministerios[df_ministerios['Cargo'].str.contains(\"INGENIERO\")]['Cargo']\n",
    "var.value_counts()"
   ]
  },
  {
   "cell_type": "code",
   "execution_count": 700,
   "metadata": {},
   "outputs": [
    {
     "name": "stdout",
     "output_type": "stream",
     "text": [
      "Se normalizó el campo PROCURADOR\n"
     ]
    }
   ],
   "source": [
    "# Normalizando campo PROCURADOR\n",
    "normalize_column('Cargo', \"PROCURA\", \"PROCURADOR\", df_ministerios)"
   ]
  },
  {
   "cell_type": "code",
   "execution_count": 701,
   "metadata": {},
   "outputs": [
    {
     "data": {
      "text/plain": [
       "Cargo\n",
       "PROCURADOR    712\n",
       "Name: count, dtype: int64"
      ]
     },
     "execution_count": 701,
     "metadata": {},
     "output_type": "execute_result"
    }
   ],
   "source": [
    "# revisando PROCURADOR \n",
    "var = df_ministerios[df_ministerios['Cargo'].str.contains(\"PROCURA\")]['Cargo']\n",
    "var.value_counts()"
   ]
  },
  {
   "cell_type": "code",
   "execution_count": 702,
   "metadata": {},
   "outputs": [
    {
     "name": "stdout",
     "output_type": "stream",
     "text": [
      "Se normalizó el campo PROGRAMADOR\n"
     ]
    }
   ],
   "source": [
    "# Normalizando campo PROGRAMADOR\n",
    "normalize_column('Cargo', \"PROGRAM\", \"PROGRAMADOR\", df_ministerios)"
   ]
  },
  {
   "cell_type": "code",
   "execution_count": 703,
   "metadata": {},
   "outputs": [
    {
     "data": {
      "text/plain": [
       "Cargo\n",
       "PROGRAMADOR    7\n",
       "Name: count, dtype: int64"
      ]
     },
     "execution_count": 703,
     "metadata": {},
     "output_type": "execute_result"
    }
   ],
   "source": [
    "# revisando PROGRAMADOR \n",
    "var = df_ministerios[df_ministerios['Cargo'].str.contains(\"PROGRAM\")]['Cargo']\n",
    "var.value_counts()"
   ]
  },
  {
   "cell_type": "code",
   "execution_count": 704,
   "metadata": {},
   "outputs": [
    {
     "name": "stdout",
     "output_type": "stream",
     "text": [
      "Se normalizó el campo MEDICO\n",
      "Se normalizó el campo MEDICO\n"
     ]
    }
   ],
   "source": [
    "# Normalizando campo MEDICO\n",
    "normalize_column('Cargo', \"MEDIC\", \"MEDICO\", df_ministerios)\n",
    "normalize_column('Cargo', \"MÉDIC\", \"MEDICO\", df_ministerios)"
   ]
  },
  {
   "cell_type": "code",
   "execution_count": 705,
   "metadata": {},
   "outputs": [
    {
     "data": {
      "text/plain": [
       "Cargo\n",
       "MEDICO    237\n",
       "Name: count, dtype: int64"
      ]
     },
     "execution_count": 705,
     "metadata": {},
     "output_type": "execute_result"
    }
   ],
   "source": [
    "# revisando MEDICO \n",
    "var = df_ministerios[df_ministerios['Cargo'].str.contains(\"MEDIC\")]['Cargo']\n",
    "var.value_counts()"
   ]
  },
  {
   "cell_type": "code",
   "execution_count": 706,
   "metadata": {},
   "outputs": [
    {
     "name": "stdout",
     "output_type": "stream",
     "text": [
      "Se normalizó el campo PARALEGAL\n"
     ]
    }
   ],
   "source": [
    "# Normalizando campo PARALEGAL\n",
    "normalize_column('Cargo', \"PARA\", \"PARALEGAL\", df_ministerios)"
   ]
  },
  {
   "cell_type": "code",
   "execution_count": 707,
   "metadata": {},
   "outputs": [
    {
     "data": {
      "text/plain": [
       "Cargo\n",
       "PARALEGAL    96\n",
       "Name: count, dtype: int64"
      ]
     },
     "execution_count": 707,
     "metadata": {},
     "output_type": "execute_result"
    }
   ],
   "source": [
    "# revisando PARALEGAL \n",
    "var = df_ministerios[df_ministerios['Cargo'].str.contains(\"PARA\")]['Cargo']\n",
    "var.value_counts()"
   ]
  },
  {
   "cell_type": "code",
   "execution_count": 708,
   "metadata": {},
   "outputs": [
    {
     "name": "stdout",
     "output_type": "stream",
     "text": [
      "Se normalizó el campo EDUCADOR\n"
     ]
    }
   ],
   "source": [
    "#NORMALIZANDO EL CAMPO educador\n",
    "normalize_column('Cargo', \"EDUC\", \"EDUCADOR\", df_ministerios)"
   ]
  },
  {
   "cell_type": "code",
   "execution_count": 709,
   "metadata": {},
   "outputs": [
    {
     "data": {
      "text/plain": [
       "Cargo\n",
       "EDUCADOR    90\n",
       "Name: count, dtype: int64"
      ]
     },
     "execution_count": 709,
     "metadata": {},
     "output_type": "execute_result"
    }
   ],
   "source": [
    "# revisando ASESOR \n",
    "var = df_ministerios[df_ministerios['Cargo'].str.contains(\"EDUC\")]['Cargo']\n",
    "var.value_counts()"
   ]
  },
  {
   "cell_type": "code",
   "execution_count": 710,
   "metadata": {},
   "outputs": [
    {
     "data": {
      "text/plain": [
       "Cargo\n",
       "EDUCADOR    90\n",
       "Name: count, dtype: int64"
      ]
     },
     "execution_count": 710,
     "metadata": {},
     "output_type": "execute_result"
    }
   ],
   "source": [
    "var = df_ministerios[df_ministerios['Cargo'].str.contains(\"EDUC\")]['Cargo']\n",
    "var.value_counts()"
   ]
  },
  {
   "cell_type": "code",
   "execution_count": 711,
   "metadata": {},
   "outputs": [
    {
     "data": {
      "text/plain": [
       "Cargo\n",
       "AGENTE          1546\n",
       "OTROS           1484\n",
       "AUXILIAR        1176\n",
       "ABOGADO          845\n",
       "SECRETARIO       733\n",
       "ENCARGADO        720\n",
       "PROCURADOR       712\n",
       "CONSERJE         694\n",
       "FISCALIZADOR     498\n",
       "CHOFER           497\n",
       "TECNICO          482\n",
       "ANALISTA         375\n",
       "MENSAJERO        304\n",
       "SUPERVISOR       279\n",
       "MEDICO           237\n",
       "INSPECTOR        179\n",
       "COORDINADOR      166\n",
       "COCINERO (A)     114\n",
       "Name: count, dtype: int64"
      ]
     },
     "execution_count": 711,
     "metadata": {},
     "output_type": "execute_result"
    }
   ],
   "source": [
    "values = df_ministerios['Cargo'].value_counts(normalize=True)*100\n",
    "\n",
    "#NORMALIZANDO EL CAMPO OTROS\n",
    "Otros = list(values[values < 1].index)\n",
    "df_ministerios['Cargo'] = df_ministerios['Cargo'].apply(lambda x: \"OTROS\" if x in Otros else x)\n",
    "df_ministerios['Cargo'].value_counts()"
   ]
  },
  {
   "cell_type": "code",
   "execution_count": 712,
   "metadata": {},
   "outputs": [
    {
     "name": "stdout",
     "output_type": "stream",
     "text": [
      "<class 'pandas.core.frame.DataFrame'>\n",
      "Index: 11041 entries, 0 to 876\n",
      "Data columns (total 7 columns):\n",
      " #   Column        Non-Null Count  Dtype  \n",
      "---  ------        --------------  -----  \n",
      " 0   Ministerio    11041 non-null  object \n",
      " 1   Cargo         11041 non-null  object \n",
      " 2   Es_Masculino  11041 non-null  int64  \n",
      " 3   Sueldo bruto  11041 non-null  float64\n",
      " 4   AFP           11041 non-null  float64\n",
      " 5   SFS           11041 non-null  float64\n",
      " 6   Sueldo neto   11041 non-null  float64\n",
      "dtypes: float64(4), int64(1), object(2)\n",
      "memory usage: 690.1+ KB\n"
     ]
    }
   ],
   "source": [
    "df_ministerios.info()\n"
   ]
  },
  {
   "cell_type": "code",
   "execution_count": 713,
   "metadata": {},
   "outputs": [
    {
     "data": {
      "text/html": [
       "<div>\n",
       "<style scoped>\n",
       "    .dataframe tbody tr th:only-of-type {\n",
       "        vertical-align: middle;\n",
       "    }\n",
       "\n",
       "    .dataframe tbody tr th {\n",
       "        vertical-align: top;\n",
       "    }\n",
       "\n",
       "    .dataframe thead th {\n",
       "        text-align: right;\n",
       "    }\n",
       "</style>\n",
       "<table border=\"1\" class=\"dataframe\">\n",
       "  <thead>\n",
       "    <tr style=\"text-align: right;\">\n",
       "      <th></th>\n",
       "      <th>Es_Masculino</th>\n",
       "      <th>Sueldo bruto</th>\n",
       "      <th>AFP</th>\n",
       "      <th>SFS</th>\n",
       "      <th>Sueldo neto</th>\n",
       "    </tr>\n",
       "  </thead>\n",
       "  <tbody>\n",
       "    <tr>\n",
       "      <th>count</th>\n",
       "      <td>11041.000000</td>\n",
       "      <td>11041.000000</td>\n",
       "      <td>11041.000000</td>\n",
       "      <td>11041.000000</td>\n",
       "      <td>11041.000000</td>\n",
       "    </tr>\n",
       "    <tr>\n",
       "      <th>mean</th>\n",
       "      <td>0.475500</td>\n",
       "      <td>47360.289612</td>\n",
       "      <td>1616.553441</td>\n",
       "      <td>1672.755674</td>\n",
       "      <td>34515.534398</td>\n",
       "    </tr>\n",
       "    <tr>\n",
       "      <th>std</th>\n",
       "      <td>0.499422</td>\n",
       "      <td>38078.971738</td>\n",
       "      <td>1644.187799</td>\n",
       "      <td>1612.606948</td>\n",
       "      <td>26663.789775</td>\n",
       "    </tr>\n",
       "    <tr>\n",
       "      <th>min</th>\n",
       "      <td>0.000000</td>\n",
       "      <td>3600.000000</td>\n",
       "      <td>103.320000</td>\n",
       "      <td>109.440000</td>\n",
       "      <td>1364.810000</td>\n",
       "    </tr>\n",
       "    <tr>\n",
       "      <th>25%</th>\n",
       "      <td>0.000000</td>\n",
       "      <td>26000.000000</td>\n",
       "      <td>746.200000</td>\n",
       "      <td>790.400000</td>\n",
       "      <td>18556.380000</td>\n",
       "    </tr>\n",
       "    <tr>\n",
       "      <th>50%</th>\n",
       "      <td>0.000000</td>\n",
       "      <td>32000.000000</td>\n",
       "      <td>947.100000</td>\n",
       "      <td>1003.200000</td>\n",
       "      <td>24597.480000</td>\n",
       "    </tr>\n",
       "    <tr>\n",
       "      <th>75%</th>\n",
       "      <td>1.000000</td>\n",
       "      <td>50000.000000</td>\n",
       "      <td>1865.500000</td>\n",
       "      <td>1976.000000</td>\n",
       "      <td>40166.000000</td>\n",
       "    </tr>\n",
       "    <tr>\n",
       "      <th>max</th>\n",
       "      <td>1.000000</td>\n",
       "      <td>350000.000000</td>\n",
       "      <td>29910.000000</td>\n",
       "      <td>26213.800000</td>\n",
       "      <td>263183.270000</td>\n",
       "    </tr>\n",
       "  </tbody>\n",
       "</table>\n",
       "</div>"
      ],
      "text/plain": [
       "       Es_Masculino   Sueldo bruto           AFP           SFS    Sueldo neto\n",
       "count  11041.000000   11041.000000  11041.000000  11041.000000   11041.000000\n",
       "mean       0.475500   47360.289612   1616.553441   1672.755674   34515.534398\n",
       "std        0.499422   38078.971738   1644.187799   1612.606948   26663.789775\n",
       "min        0.000000    3600.000000    103.320000    109.440000    1364.810000\n",
       "25%        0.000000   26000.000000    746.200000    790.400000   18556.380000\n",
       "50%        0.000000   32000.000000    947.100000   1003.200000   24597.480000\n",
       "75%        1.000000   50000.000000   1865.500000   1976.000000   40166.000000\n",
       "max        1.000000  350000.000000  29910.000000  26213.800000  263183.270000"
      ]
     },
     "execution_count": 713,
     "metadata": {},
     "output_type": "execute_result"
    }
   ],
   "source": [
    "df_ministerios.describe()"
   ]
  },
  {
   "cell_type": "markdown",
   "metadata": {},
   "source": [
    "## Encoding & scaling:"
   ]
  },
  {
   "cell_type": "code",
   "execution_count": 714,
   "metadata": {},
   "outputs": [],
   "source": [
    "from sklearn.preprocessing import OneHotEncoder, OrdinalEncoder, MinMaxScaler, StandardScaler"
   ]
  },
  {
   "cell_type": "code",
   "execution_count": 715,
   "metadata": {},
   "outputs": [],
   "source": [
    "import pandas as pd"
   ]
  },
  {
   "cell_type": "code",
   "execution_count": null,
   "metadata": {},
   "outputs": [],
   "source": []
  },
  {
   "cell_type": "code",
   "execution_count": 716,
   "metadata": {},
   "outputs": [],
   "source": [
    "df = df_ministerios.reset_index(drop=True)"
   ]
  },
  {
   "cell_type": "code",
   "execution_count": 717,
   "metadata": {},
   "outputs": [],
   "source": [
    "X = df_ministerios.drop(\"Sueldo neto\", axis=1)\n",
    "y = df_ministerios[\"Sueldo neto\"]"
   ]
  },
  {
   "cell_type": "code",
   "execution_count": 718,
   "metadata": {},
   "outputs": [],
   "source": [
    "categorical_features = X.select_dtypes(\"object\").columns\n",
    "numerical_features = X.select_dtypes(\"number\").columns"
   ]
  },
  {
   "cell_type": "code",
   "execution_count": 719,
   "metadata": {},
   "outputs": [
    {
     "data": {
      "text/html": [
       "<div>\n",
       "<style scoped>\n",
       "    .dataframe tbody tr th:only-of-type {\n",
       "        vertical-align: middle;\n",
       "    }\n",
       "\n",
       "    .dataframe tbody tr th {\n",
       "        vertical-align: top;\n",
       "    }\n",
       "\n",
       "    .dataframe thead th {\n",
       "        text-align: right;\n",
       "    }\n",
       "</style>\n",
       "<table border=\"1\" class=\"dataframe\">\n",
       "  <thead>\n",
       "    <tr style=\"text-align: right;\">\n",
       "      <th></th>\n",
       "      <th>Ministerio_Hacienda</th>\n",
       "      <th>Ministerio_Juventud</th>\n",
       "      <th>Ministerio_Mujer</th>\n",
       "      <th>Ministerio_Publico</th>\n",
       "      <th>Ministerio_Trabajo</th>\n",
       "      <th>Cargo_ABOGADO</th>\n",
       "      <th>Cargo_AGENTE</th>\n",
       "      <th>Cargo_ANALISTA</th>\n",
       "      <th>Cargo_AUXILIAR</th>\n",
       "      <th>Cargo_CHOFER</th>\n",
       "      <th>...</th>\n",
       "      <th>Cargo_ENCARGADO</th>\n",
       "      <th>Cargo_FISCALIZADOR</th>\n",
       "      <th>Cargo_INSPECTOR</th>\n",
       "      <th>Cargo_MEDICO</th>\n",
       "      <th>Cargo_MENSAJERO</th>\n",
       "      <th>Cargo_OTROS</th>\n",
       "      <th>Cargo_PROCURADOR</th>\n",
       "      <th>Cargo_SECRETARIO</th>\n",
       "      <th>Cargo_SUPERVISOR</th>\n",
       "      <th>Cargo_TECNICO</th>\n",
       "    </tr>\n",
       "  </thead>\n",
       "  <tbody>\n",
       "    <tr>\n",
       "      <th>0</th>\n",
       "      <td>0.0</td>\n",
       "      <td>0.0</td>\n",
       "      <td>1.0</td>\n",
       "      <td>0.0</td>\n",
       "      <td>0.0</td>\n",
       "      <td>0.0</td>\n",
       "      <td>0.0</td>\n",
       "      <td>0.0</td>\n",
       "      <td>0.0</td>\n",
       "      <td>0.0</td>\n",
       "      <td>...</td>\n",
       "      <td>0.0</td>\n",
       "      <td>0.0</td>\n",
       "      <td>0.0</td>\n",
       "      <td>0.0</td>\n",
       "      <td>0.0</td>\n",
       "      <td>1.0</td>\n",
       "      <td>0.0</td>\n",
       "      <td>0.0</td>\n",
       "      <td>0.0</td>\n",
       "      <td>0.0</td>\n",
       "    </tr>\n",
       "    <tr>\n",
       "      <th>1</th>\n",
       "      <td>0.0</td>\n",
       "      <td>0.0</td>\n",
       "      <td>1.0</td>\n",
       "      <td>0.0</td>\n",
       "      <td>0.0</td>\n",
       "      <td>0.0</td>\n",
       "      <td>0.0</td>\n",
       "      <td>0.0</td>\n",
       "      <td>0.0</td>\n",
       "      <td>0.0</td>\n",
       "      <td>...</td>\n",
       "      <td>0.0</td>\n",
       "      <td>0.0</td>\n",
       "      <td>0.0</td>\n",
       "      <td>0.0</td>\n",
       "      <td>1.0</td>\n",
       "      <td>0.0</td>\n",
       "      <td>0.0</td>\n",
       "      <td>0.0</td>\n",
       "      <td>0.0</td>\n",
       "      <td>0.0</td>\n",
       "    </tr>\n",
       "    <tr>\n",
       "      <th>2</th>\n",
       "      <td>0.0</td>\n",
       "      <td>0.0</td>\n",
       "      <td>1.0</td>\n",
       "      <td>0.0</td>\n",
       "      <td>0.0</td>\n",
       "      <td>0.0</td>\n",
       "      <td>0.0</td>\n",
       "      <td>0.0</td>\n",
       "      <td>0.0</td>\n",
       "      <td>0.0</td>\n",
       "      <td>...</td>\n",
       "      <td>0.0</td>\n",
       "      <td>0.0</td>\n",
       "      <td>0.0</td>\n",
       "      <td>0.0</td>\n",
       "      <td>0.0</td>\n",
       "      <td>0.0</td>\n",
       "      <td>0.0</td>\n",
       "      <td>1.0</td>\n",
       "      <td>0.0</td>\n",
       "      <td>0.0</td>\n",
       "    </tr>\n",
       "    <tr>\n",
       "      <th>3</th>\n",
       "      <td>0.0</td>\n",
       "      <td>0.0</td>\n",
       "      <td>1.0</td>\n",
       "      <td>0.0</td>\n",
       "      <td>0.0</td>\n",
       "      <td>0.0</td>\n",
       "      <td>0.0</td>\n",
       "      <td>0.0</td>\n",
       "      <td>0.0</td>\n",
       "      <td>0.0</td>\n",
       "      <td>...</td>\n",
       "      <td>0.0</td>\n",
       "      <td>0.0</td>\n",
       "      <td>0.0</td>\n",
       "      <td>0.0</td>\n",
       "      <td>0.0</td>\n",
       "      <td>1.0</td>\n",
       "      <td>0.0</td>\n",
       "      <td>0.0</td>\n",
       "      <td>0.0</td>\n",
       "      <td>0.0</td>\n",
       "    </tr>\n",
       "    <tr>\n",
       "      <th>4</th>\n",
       "      <td>0.0</td>\n",
       "      <td>0.0</td>\n",
       "      <td>1.0</td>\n",
       "      <td>0.0</td>\n",
       "      <td>0.0</td>\n",
       "      <td>0.0</td>\n",
       "      <td>0.0</td>\n",
       "      <td>0.0</td>\n",
       "      <td>0.0</td>\n",
       "      <td>0.0</td>\n",
       "      <td>...</td>\n",
       "      <td>0.0</td>\n",
       "      <td>0.0</td>\n",
       "      <td>0.0</td>\n",
       "      <td>0.0</td>\n",
       "      <td>0.0</td>\n",
       "      <td>0.0</td>\n",
       "      <td>0.0</td>\n",
       "      <td>1.0</td>\n",
       "      <td>0.0</td>\n",
       "      <td>0.0</td>\n",
       "    </tr>\n",
       "    <tr>\n",
       "      <th>...</th>\n",
       "      <td>...</td>\n",
       "      <td>...</td>\n",
       "      <td>...</td>\n",
       "      <td>...</td>\n",
       "      <td>...</td>\n",
       "      <td>...</td>\n",
       "      <td>...</td>\n",
       "      <td>...</td>\n",
       "      <td>...</td>\n",
       "      <td>...</td>\n",
       "      <td>...</td>\n",
       "      <td>...</td>\n",
       "      <td>...</td>\n",
       "      <td>...</td>\n",
       "      <td>...</td>\n",
       "      <td>...</td>\n",
       "      <td>...</td>\n",
       "      <td>...</td>\n",
       "      <td>...</td>\n",
       "      <td>...</td>\n",
       "      <td>...</td>\n",
       "    </tr>\n",
       "    <tr>\n",
       "      <th>11036</th>\n",
       "      <td>0.0</td>\n",
       "      <td>0.0</td>\n",
       "      <td>0.0</td>\n",
       "      <td>0.0</td>\n",
       "      <td>1.0</td>\n",
       "      <td>0.0</td>\n",
       "      <td>0.0</td>\n",
       "      <td>1.0</td>\n",
       "      <td>0.0</td>\n",
       "      <td>0.0</td>\n",
       "      <td>...</td>\n",
       "      <td>0.0</td>\n",
       "      <td>0.0</td>\n",
       "      <td>0.0</td>\n",
       "      <td>0.0</td>\n",
       "      <td>0.0</td>\n",
       "      <td>0.0</td>\n",
       "      <td>0.0</td>\n",
       "      <td>0.0</td>\n",
       "      <td>0.0</td>\n",
       "      <td>0.0</td>\n",
       "    </tr>\n",
       "    <tr>\n",
       "      <th>11037</th>\n",
       "      <td>0.0</td>\n",
       "      <td>0.0</td>\n",
       "      <td>0.0</td>\n",
       "      <td>0.0</td>\n",
       "      <td>1.0</td>\n",
       "      <td>0.0</td>\n",
       "      <td>0.0</td>\n",
       "      <td>0.0</td>\n",
       "      <td>0.0</td>\n",
       "      <td>0.0</td>\n",
       "      <td>...</td>\n",
       "      <td>0.0</td>\n",
       "      <td>0.0</td>\n",
       "      <td>0.0</td>\n",
       "      <td>0.0</td>\n",
       "      <td>0.0</td>\n",
       "      <td>1.0</td>\n",
       "      <td>0.0</td>\n",
       "      <td>0.0</td>\n",
       "      <td>0.0</td>\n",
       "      <td>0.0</td>\n",
       "    </tr>\n",
       "    <tr>\n",
       "      <th>11038</th>\n",
       "      <td>0.0</td>\n",
       "      <td>0.0</td>\n",
       "      <td>0.0</td>\n",
       "      <td>0.0</td>\n",
       "      <td>1.0</td>\n",
       "      <td>0.0</td>\n",
       "      <td>0.0</td>\n",
       "      <td>0.0</td>\n",
       "      <td>0.0</td>\n",
       "      <td>0.0</td>\n",
       "      <td>...</td>\n",
       "      <td>0.0</td>\n",
       "      <td>0.0</td>\n",
       "      <td>0.0</td>\n",
       "      <td>0.0</td>\n",
       "      <td>0.0</td>\n",
       "      <td>0.0</td>\n",
       "      <td>0.0</td>\n",
       "      <td>1.0</td>\n",
       "      <td>0.0</td>\n",
       "      <td>0.0</td>\n",
       "    </tr>\n",
       "    <tr>\n",
       "      <th>11039</th>\n",
       "      <td>0.0</td>\n",
       "      <td>0.0</td>\n",
       "      <td>0.0</td>\n",
       "      <td>0.0</td>\n",
       "      <td>1.0</td>\n",
       "      <td>0.0</td>\n",
       "      <td>0.0</td>\n",
       "      <td>0.0</td>\n",
       "      <td>0.0</td>\n",
       "      <td>0.0</td>\n",
       "      <td>...</td>\n",
       "      <td>0.0</td>\n",
       "      <td>0.0</td>\n",
       "      <td>0.0</td>\n",
       "      <td>0.0</td>\n",
       "      <td>0.0</td>\n",
       "      <td>0.0</td>\n",
       "      <td>0.0</td>\n",
       "      <td>1.0</td>\n",
       "      <td>0.0</td>\n",
       "      <td>0.0</td>\n",
       "    </tr>\n",
       "    <tr>\n",
       "      <th>11040</th>\n",
       "      <td>0.0</td>\n",
       "      <td>0.0</td>\n",
       "      <td>0.0</td>\n",
       "      <td>0.0</td>\n",
       "      <td>1.0</td>\n",
       "      <td>0.0</td>\n",
       "      <td>0.0</td>\n",
       "      <td>0.0</td>\n",
       "      <td>1.0</td>\n",
       "      <td>0.0</td>\n",
       "      <td>...</td>\n",
       "      <td>0.0</td>\n",
       "      <td>0.0</td>\n",
       "      <td>0.0</td>\n",
       "      <td>0.0</td>\n",
       "      <td>0.0</td>\n",
       "      <td>0.0</td>\n",
       "      <td>0.0</td>\n",
       "      <td>0.0</td>\n",
       "      <td>0.0</td>\n",
       "      <td>0.0</td>\n",
       "    </tr>\n",
       "  </tbody>\n",
       "</table>\n",
       "<p>11041 rows × 23 columns</p>\n",
       "</div>"
      ],
      "text/plain": [
       "       Ministerio_Hacienda  Ministerio_Juventud  Ministerio_Mujer  \\\n",
       "0                      0.0                  0.0               1.0   \n",
       "1                      0.0                  0.0               1.0   \n",
       "2                      0.0                  0.0               1.0   \n",
       "3                      0.0                  0.0               1.0   \n",
       "4                      0.0                  0.0               1.0   \n",
       "...                    ...                  ...               ...   \n",
       "11036                  0.0                  0.0               0.0   \n",
       "11037                  0.0                  0.0               0.0   \n",
       "11038                  0.0                  0.0               0.0   \n",
       "11039                  0.0                  0.0               0.0   \n",
       "11040                  0.0                  0.0               0.0   \n",
       "\n",
       "       Ministerio_Publico  Ministerio_Trabajo  Cargo_ABOGADO  Cargo_AGENTE  \\\n",
       "0                     0.0                 0.0            0.0           0.0   \n",
       "1                     0.0                 0.0            0.0           0.0   \n",
       "2                     0.0                 0.0            0.0           0.0   \n",
       "3                     0.0                 0.0            0.0           0.0   \n",
       "4                     0.0                 0.0            0.0           0.0   \n",
       "...                   ...                 ...            ...           ...   \n",
       "11036                 0.0                 1.0            0.0           0.0   \n",
       "11037                 0.0                 1.0            0.0           0.0   \n",
       "11038                 0.0                 1.0            0.0           0.0   \n",
       "11039                 0.0                 1.0            0.0           0.0   \n",
       "11040                 0.0                 1.0            0.0           0.0   \n",
       "\n",
       "       Cargo_ANALISTA  Cargo_AUXILIAR  Cargo_CHOFER  ...  Cargo_ENCARGADO  \\\n",
       "0                 0.0             0.0           0.0  ...              0.0   \n",
       "1                 0.0             0.0           0.0  ...              0.0   \n",
       "2                 0.0             0.0           0.0  ...              0.0   \n",
       "3                 0.0             0.0           0.0  ...              0.0   \n",
       "4                 0.0             0.0           0.0  ...              0.0   \n",
       "...               ...             ...           ...  ...              ...   \n",
       "11036             1.0             0.0           0.0  ...              0.0   \n",
       "11037             0.0             0.0           0.0  ...              0.0   \n",
       "11038             0.0             0.0           0.0  ...              0.0   \n",
       "11039             0.0             0.0           0.0  ...              0.0   \n",
       "11040             0.0             1.0           0.0  ...              0.0   \n",
       "\n",
       "       Cargo_FISCALIZADOR  Cargo_INSPECTOR  Cargo_MEDICO  Cargo_MENSAJERO  \\\n",
       "0                     0.0              0.0           0.0              0.0   \n",
       "1                     0.0              0.0           0.0              1.0   \n",
       "2                     0.0              0.0           0.0              0.0   \n",
       "3                     0.0              0.0           0.0              0.0   \n",
       "4                     0.0              0.0           0.0              0.0   \n",
       "...                   ...              ...           ...              ...   \n",
       "11036                 0.0              0.0           0.0              0.0   \n",
       "11037                 0.0              0.0           0.0              0.0   \n",
       "11038                 0.0              0.0           0.0              0.0   \n",
       "11039                 0.0              0.0           0.0              0.0   \n",
       "11040                 0.0              0.0           0.0              0.0   \n",
       "\n",
       "       Cargo_OTROS  Cargo_PROCURADOR  Cargo_SECRETARIO  Cargo_SUPERVISOR  \\\n",
       "0              1.0               0.0               0.0               0.0   \n",
       "1              0.0               0.0               0.0               0.0   \n",
       "2              0.0               0.0               1.0               0.0   \n",
       "3              1.0               0.0               0.0               0.0   \n",
       "4              0.0               0.0               1.0               0.0   \n",
       "...            ...               ...               ...               ...   \n",
       "11036          0.0               0.0               0.0               0.0   \n",
       "11037          1.0               0.0               0.0               0.0   \n",
       "11038          0.0               0.0               1.0               0.0   \n",
       "11039          0.0               0.0               1.0               0.0   \n",
       "11040          0.0               0.0               0.0               0.0   \n",
       "\n",
       "       Cargo_TECNICO  \n",
       "0                0.0  \n",
       "1                0.0  \n",
       "2                0.0  \n",
       "3                0.0  \n",
       "4                0.0  \n",
       "...              ...  \n",
       "11036            0.0  \n",
       "11037            0.0  \n",
       "11038            0.0  \n",
       "11039            0.0  \n",
       "11040            0.0  \n",
       "\n",
       "[11041 rows x 23 columns]"
      ]
     },
     "execution_count": 719,
     "metadata": {},
     "output_type": "execute_result"
    }
   ],
   "source": [
    "encoder = OneHotEncoder()\n",
    "encoded_df = encoder.fit_transform(X[categorical_features])\n",
    "encoded_df = pd.DataFrame(encoded_df.toarray(), columns=encoder.get_feature_names_out())\n",
    "encoded_df"
   ]
  },
  {
   "cell_type": "code",
   "execution_count": null,
   "metadata": {},
   "outputs": [],
   "source": []
  },
  {
   "cell_type": "code",
   "execution_count": 720,
   "metadata": {},
   "outputs": [
    {
     "data": {
      "text/html": [
       "<div>\n",
       "<style scoped>\n",
       "    .dataframe tbody tr th:only-of-type {\n",
       "        vertical-align: middle;\n",
       "    }\n",
       "\n",
       "    .dataframe tbody tr th {\n",
       "        vertical-align: top;\n",
       "    }\n",
       "\n",
       "    .dataframe thead th {\n",
       "        text-align: right;\n",
       "    }\n",
       "</style>\n",
       "<table border=\"1\" class=\"dataframe\">\n",
       "  <thead>\n",
       "    <tr style=\"text-align: right;\">\n",
       "      <th></th>\n",
       "      <th>Ministerio</th>\n",
       "      <th>Cargo</th>\n",
       "    </tr>\n",
       "  </thead>\n",
       "  <tbody>\n",
       "    <tr>\n",
       "      <th>0</th>\n",
       "      <td>Mujer</td>\n",
       "      <td>OTROS</td>\n",
       "    </tr>\n",
       "    <tr>\n",
       "      <th>1</th>\n",
       "      <td>Mujer</td>\n",
       "      <td>MENSAJERO</td>\n",
       "    </tr>\n",
       "    <tr>\n",
       "      <th>2</th>\n",
       "      <td>Mujer</td>\n",
       "      <td>SECRETARIO</td>\n",
       "    </tr>\n",
       "    <tr>\n",
       "      <th>3</th>\n",
       "      <td>Mujer</td>\n",
       "      <td>OTROS</td>\n",
       "    </tr>\n",
       "    <tr>\n",
       "      <th>4</th>\n",
       "      <td>Mujer</td>\n",
       "      <td>SECRETARIO</td>\n",
       "    </tr>\n",
       "    <tr>\n",
       "      <th>...</th>\n",
       "      <td>...</td>\n",
       "      <td>...</td>\n",
       "    </tr>\n",
       "    <tr>\n",
       "      <th>872</th>\n",
       "      <td>Trabajo</td>\n",
       "      <td>ANALISTA</td>\n",
       "    </tr>\n",
       "    <tr>\n",
       "      <th>873</th>\n",
       "      <td>Trabajo</td>\n",
       "      <td>OTROS</td>\n",
       "    </tr>\n",
       "    <tr>\n",
       "      <th>874</th>\n",
       "      <td>Trabajo</td>\n",
       "      <td>SECRETARIO</td>\n",
       "    </tr>\n",
       "    <tr>\n",
       "      <th>875</th>\n",
       "      <td>Trabajo</td>\n",
       "      <td>SECRETARIO</td>\n",
       "    </tr>\n",
       "    <tr>\n",
       "      <th>876</th>\n",
       "      <td>Trabajo</td>\n",
       "      <td>AUXILIAR</td>\n",
       "    </tr>\n",
       "  </tbody>\n",
       "</table>\n",
       "<p>11041 rows × 2 columns</p>\n",
       "</div>"
      ],
      "text/plain": [
       "    Ministerio       Cargo\n",
       "0        Mujer       OTROS\n",
       "1        Mujer   MENSAJERO\n",
       "2        Mujer  SECRETARIO\n",
       "3        Mujer       OTROS\n",
       "4        Mujer  SECRETARIO\n",
       "..         ...         ...\n",
       "872    Trabajo    ANALISTA\n",
       "873    Trabajo       OTROS\n",
       "874    Trabajo  SECRETARIO\n",
       "875    Trabajo  SECRETARIO\n",
       "876    Trabajo    AUXILIAR\n",
       "\n",
       "[11041 rows x 2 columns]"
      ]
     },
     "execution_count": 720,
     "metadata": {},
     "output_type": "execute_result"
    }
   ],
   "source": [
    "X[categorical_features]"
   ]
  },
  {
   "cell_type": "code",
   "execution_count": 721,
   "metadata": {},
   "outputs": [
    {
     "data": {
      "text/html": [
       "<div>\n",
       "<style scoped>\n",
       "    .dataframe tbody tr th:only-of-type {\n",
       "        vertical-align: middle;\n",
       "    }\n",
       "\n",
       "    .dataframe tbody tr th {\n",
       "        vertical-align: top;\n",
       "    }\n",
       "\n",
       "    .dataframe thead th {\n",
       "        text-align: right;\n",
       "    }\n",
       "</style>\n",
       "<table border=\"1\" class=\"dataframe\">\n",
       "  <thead>\n",
       "    <tr style=\"text-align: right;\">\n",
       "      <th></th>\n",
       "      <th>Es_Masculino</th>\n",
       "      <th>Sueldo bruto</th>\n",
       "      <th>AFP</th>\n",
       "      <th>SFS</th>\n",
       "    </tr>\n",
       "  </thead>\n",
       "  <tbody>\n",
       "    <tr>\n",
       "      <th>count</th>\n",
       "      <td>11041.000000</td>\n",
       "      <td>11041.000000</td>\n",
       "      <td>11041.000000</td>\n",
       "      <td>11041.000000</td>\n",
       "    </tr>\n",
       "    <tr>\n",
       "      <th>mean</th>\n",
       "      <td>0.475500</td>\n",
       "      <td>47360.289612</td>\n",
       "      <td>1616.553441</td>\n",
       "      <td>1672.755674</td>\n",
       "    </tr>\n",
       "    <tr>\n",
       "      <th>std</th>\n",
       "      <td>0.499422</td>\n",
       "      <td>38078.971738</td>\n",
       "      <td>1644.187799</td>\n",
       "      <td>1612.606948</td>\n",
       "    </tr>\n",
       "    <tr>\n",
       "      <th>min</th>\n",
       "      <td>0.000000</td>\n",
       "      <td>3600.000000</td>\n",
       "      <td>103.320000</td>\n",
       "      <td>109.440000</td>\n",
       "    </tr>\n",
       "    <tr>\n",
       "      <th>25%</th>\n",
       "      <td>0.000000</td>\n",
       "      <td>26000.000000</td>\n",
       "      <td>746.200000</td>\n",
       "      <td>790.400000</td>\n",
       "    </tr>\n",
       "    <tr>\n",
       "      <th>50%</th>\n",
       "      <td>0.000000</td>\n",
       "      <td>32000.000000</td>\n",
       "      <td>947.100000</td>\n",
       "      <td>1003.200000</td>\n",
       "    </tr>\n",
       "    <tr>\n",
       "      <th>75%</th>\n",
       "      <td>1.000000</td>\n",
       "      <td>50000.000000</td>\n",
       "      <td>1865.500000</td>\n",
       "      <td>1976.000000</td>\n",
       "    </tr>\n",
       "    <tr>\n",
       "      <th>max</th>\n",
       "      <td>1.000000</td>\n",
       "      <td>350000.000000</td>\n",
       "      <td>29910.000000</td>\n",
       "      <td>26213.800000</td>\n",
       "    </tr>\n",
       "  </tbody>\n",
       "</table>\n",
       "</div>"
      ],
      "text/plain": [
       "       Es_Masculino   Sueldo bruto           AFP           SFS\n",
       "count  11041.000000   11041.000000  11041.000000  11041.000000\n",
       "mean       0.475500   47360.289612   1616.553441   1672.755674\n",
       "std        0.499422   38078.971738   1644.187799   1612.606948\n",
       "min        0.000000    3600.000000    103.320000    109.440000\n",
       "25%        0.000000   26000.000000    746.200000    790.400000\n",
       "50%        0.000000   32000.000000    947.100000   1003.200000\n",
       "75%        1.000000   50000.000000   1865.500000   1976.000000\n",
       "max        1.000000  350000.000000  29910.000000  26213.800000"
      ]
     },
     "execution_count": 721,
     "metadata": {},
     "output_type": "execute_result"
    }
   ],
   "source": [
    "X[numerical_features].describe()"
   ]
  },
  {
   "cell_type": "code",
   "execution_count": 722,
   "metadata": {},
   "outputs": [
    {
     "data": {
      "text/html": [
       "<div>\n",
       "<style scoped>\n",
       "    .dataframe tbody tr th:only-of-type {\n",
       "        vertical-align: middle;\n",
       "    }\n",
       "\n",
       "    .dataframe tbody tr th {\n",
       "        vertical-align: top;\n",
       "    }\n",
       "\n",
       "    .dataframe thead th {\n",
       "        text-align: right;\n",
       "    }\n",
       "</style>\n",
       "<table border=\"1\" class=\"dataframe\">\n",
       "  <thead>\n",
       "    <tr style=\"text-align: right;\">\n",
       "      <th></th>\n",
       "      <th>Es_Masculino</th>\n",
       "      <th>Sueldo bruto</th>\n",
       "      <th>AFP</th>\n",
       "      <th>SFS</th>\n",
       "    </tr>\n",
       "  </thead>\n",
       "  <tbody>\n",
       "    <tr>\n",
       "      <th>0</th>\n",
       "      <td>-0.952145</td>\n",
       "      <td>6.634926</td>\n",
       "      <td>4.253628</td>\n",
       "      <td>2.028512</td>\n",
       "    </tr>\n",
       "    <tr>\n",
       "      <th>1</th>\n",
       "      <td>-0.952145</td>\n",
       "      <td>-0.587235</td>\n",
       "      <td>-0.546832</td>\n",
       "      <td>-0.566038</td>\n",
       "    </tr>\n",
       "    <tr>\n",
       "      <th>2</th>\n",
       "      <td>-0.952145</td>\n",
       "      <td>-0.534710</td>\n",
       "      <td>-0.511919</td>\n",
       "      <td>-0.528333</td>\n",
       "    </tr>\n",
       "    <tr>\n",
       "      <th>3</th>\n",
       "      <td>-0.952145</td>\n",
       "      <td>-0.639760</td>\n",
       "      <td>-0.581744</td>\n",
       "      <td>-0.603743</td>\n",
       "    </tr>\n",
       "    <tr>\n",
       "      <th>4</th>\n",
       "      <td>-0.952145</td>\n",
       "      <td>-0.193299</td>\n",
       "      <td>-0.284989</td>\n",
       "      <td>-0.283253</td>\n",
       "    </tr>\n",
       "    <tr>\n",
       "      <th>...</th>\n",
       "      <td>...</td>\n",
       "      <td>...</td>\n",
       "      <td>...</td>\n",
       "      <td>...</td>\n",
       "    </tr>\n",
       "    <tr>\n",
       "      <th>11036</th>\n",
       "      <td>1.050261</td>\n",
       "      <td>-0.167036</td>\n",
       "      <td>1.503027</td>\n",
       "      <td>1.538290</td>\n",
       "    </tr>\n",
       "    <tr>\n",
       "      <th>11037</th>\n",
       "      <td>1.050261</td>\n",
       "      <td>-0.035724</td>\n",
       "      <td>1.806230</td>\n",
       "      <td>1.852392</td>\n",
       "    </tr>\n",
       "    <tr>\n",
       "      <th>11038</th>\n",
       "      <td>-0.952145</td>\n",
       "      <td>-0.350873</td>\n",
       "      <td>1.078543</td>\n",
       "      <td>1.098547</td>\n",
       "    </tr>\n",
       "    <tr>\n",
       "      <th>11039</th>\n",
       "      <td>-0.952145</td>\n",
       "      <td>-0.350873</td>\n",
       "      <td>1.078543</td>\n",
       "      <td>1.098547</td>\n",
       "    </tr>\n",
       "    <tr>\n",
       "      <th>11040</th>\n",
       "      <td>-0.952145</td>\n",
       "      <td>-0.350873</td>\n",
       "      <td>1.078543</td>\n",
       "      <td>1.098547</td>\n",
       "    </tr>\n",
       "  </tbody>\n",
       "</table>\n",
       "<p>11041 rows × 4 columns</p>\n",
       "</div>"
      ],
      "text/plain": [
       "       Es_Masculino  Sueldo bruto       AFP       SFS\n",
       "0         -0.952145      6.634926  4.253628  2.028512\n",
       "1         -0.952145     -0.587235 -0.546832 -0.566038\n",
       "2         -0.952145     -0.534710 -0.511919 -0.528333\n",
       "3         -0.952145     -0.639760 -0.581744 -0.603743\n",
       "4         -0.952145     -0.193299 -0.284989 -0.283253\n",
       "...             ...           ...       ...       ...\n",
       "11036      1.050261     -0.167036  1.503027  1.538290\n",
       "11037      1.050261     -0.035724  1.806230  1.852392\n",
       "11038     -0.952145     -0.350873  1.078543  1.098547\n",
       "11039     -0.952145     -0.350873  1.078543  1.098547\n",
       "11040     -0.952145     -0.350873  1.078543  1.098547\n",
       "\n",
       "[11041 rows x 4 columns]"
      ]
     },
     "execution_count": 722,
     "metadata": {},
     "output_type": "execute_result"
    }
   ],
   "source": [
    "scaler = StandardScaler()\n",
    "scaled_df = scaler.fit_transform(df_ministerios[numerical_features])\n",
    "scaled_df = pd.DataFrame(scaled_df, columns=scaler.feature_names_in_)\n",
    "scaled_df"
   ]
  },
  {
   "cell_type": "code",
   "execution_count": 723,
   "metadata": {},
   "outputs": [
    {
     "data": {
      "text/html": [
       "<div>\n",
       "<style scoped>\n",
       "    .dataframe tbody tr th:only-of-type {\n",
       "        vertical-align: middle;\n",
       "    }\n",
       "\n",
       "    .dataframe tbody tr th {\n",
       "        vertical-align: top;\n",
       "    }\n",
       "\n",
       "    .dataframe thead th {\n",
       "        text-align: right;\n",
       "    }\n",
       "</style>\n",
       "<table border=\"1\" class=\"dataframe\">\n",
       "  <thead>\n",
       "    <tr style=\"text-align: right;\">\n",
       "      <th></th>\n",
       "      <th>Ministerio_Hacienda</th>\n",
       "      <th>Ministerio_Juventud</th>\n",
       "      <th>Ministerio_Mujer</th>\n",
       "      <th>Ministerio_Publico</th>\n",
       "      <th>Ministerio_Trabajo</th>\n",
       "      <th>Cargo_ABOGADO</th>\n",
       "      <th>Cargo_AGENTE</th>\n",
       "      <th>Cargo_ANALISTA</th>\n",
       "      <th>Cargo_AUXILIAR</th>\n",
       "      <th>Cargo_CHOFER</th>\n",
       "      <th>...</th>\n",
       "      <th>Cargo_MENSAJERO</th>\n",
       "      <th>Cargo_OTROS</th>\n",
       "      <th>Cargo_PROCURADOR</th>\n",
       "      <th>Cargo_SECRETARIO</th>\n",
       "      <th>Cargo_SUPERVISOR</th>\n",
       "      <th>Cargo_TECNICO</th>\n",
       "      <th>Es_Masculino</th>\n",
       "      <th>Sueldo bruto</th>\n",
       "      <th>AFP</th>\n",
       "      <th>SFS</th>\n",
       "    </tr>\n",
       "  </thead>\n",
       "  <tbody>\n",
       "    <tr>\n",
       "      <th>0</th>\n",
       "      <td>0.0</td>\n",
       "      <td>0.0</td>\n",
       "      <td>1.0</td>\n",
       "      <td>0.0</td>\n",
       "      <td>0.0</td>\n",
       "      <td>0.0</td>\n",
       "      <td>0.0</td>\n",
       "      <td>0.0</td>\n",
       "      <td>0.0</td>\n",
       "      <td>0.0</td>\n",
       "      <td>...</td>\n",
       "      <td>0.0</td>\n",
       "      <td>1.0</td>\n",
       "      <td>0.0</td>\n",
       "      <td>0.0</td>\n",
       "      <td>0.0</td>\n",
       "      <td>0.0</td>\n",
       "      <td>-0.952145</td>\n",
       "      <td>6.634926</td>\n",
       "      <td>4.253628</td>\n",
       "      <td>2.028512</td>\n",
       "    </tr>\n",
       "    <tr>\n",
       "      <th>1</th>\n",
       "      <td>0.0</td>\n",
       "      <td>0.0</td>\n",
       "      <td>1.0</td>\n",
       "      <td>0.0</td>\n",
       "      <td>0.0</td>\n",
       "      <td>0.0</td>\n",
       "      <td>0.0</td>\n",
       "      <td>0.0</td>\n",
       "      <td>0.0</td>\n",
       "      <td>0.0</td>\n",
       "      <td>...</td>\n",
       "      <td>1.0</td>\n",
       "      <td>0.0</td>\n",
       "      <td>0.0</td>\n",
       "      <td>0.0</td>\n",
       "      <td>0.0</td>\n",
       "      <td>0.0</td>\n",
       "      <td>-0.952145</td>\n",
       "      <td>-0.587235</td>\n",
       "      <td>-0.546832</td>\n",
       "      <td>-0.566038</td>\n",
       "    </tr>\n",
       "    <tr>\n",
       "      <th>2</th>\n",
       "      <td>0.0</td>\n",
       "      <td>0.0</td>\n",
       "      <td>1.0</td>\n",
       "      <td>0.0</td>\n",
       "      <td>0.0</td>\n",
       "      <td>0.0</td>\n",
       "      <td>0.0</td>\n",
       "      <td>0.0</td>\n",
       "      <td>0.0</td>\n",
       "      <td>0.0</td>\n",
       "      <td>...</td>\n",
       "      <td>0.0</td>\n",
       "      <td>0.0</td>\n",
       "      <td>0.0</td>\n",
       "      <td>1.0</td>\n",
       "      <td>0.0</td>\n",
       "      <td>0.0</td>\n",
       "      <td>-0.952145</td>\n",
       "      <td>-0.534710</td>\n",
       "      <td>-0.511919</td>\n",
       "      <td>-0.528333</td>\n",
       "    </tr>\n",
       "    <tr>\n",
       "      <th>3</th>\n",
       "      <td>0.0</td>\n",
       "      <td>0.0</td>\n",
       "      <td>1.0</td>\n",
       "      <td>0.0</td>\n",
       "      <td>0.0</td>\n",
       "      <td>0.0</td>\n",
       "      <td>0.0</td>\n",
       "      <td>0.0</td>\n",
       "      <td>0.0</td>\n",
       "      <td>0.0</td>\n",
       "      <td>...</td>\n",
       "      <td>0.0</td>\n",
       "      <td>1.0</td>\n",
       "      <td>0.0</td>\n",
       "      <td>0.0</td>\n",
       "      <td>0.0</td>\n",
       "      <td>0.0</td>\n",
       "      <td>-0.952145</td>\n",
       "      <td>-0.639760</td>\n",
       "      <td>-0.581744</td>\n",
       "      <td>-0.603743</td>\n",
       "    </tr>\n",
       "    <tr>\n",
       "      <th>4</th>\n",
       "      <td>0.0</td>\n",
       "      <td>0.0</td>\n",
       "      <td>1.0</td>\n",
       "      <td>0.0</td>\n",
       "      <td>0.0</td>\n",
       "      <td>0.0</td>\n",
       "      <td>0.0</td>\n",
       "      <td>0.0</td>\n",
       "      <td>0.0</td>\n",
       "      <td>0.0</td>\n",
       "      <td>...</td>\n",
       "      <td>0.0</td>\n",
       "      <td>0.0</td>\n",
       "      <td>0.0</td>\n",
       "      <td>1.0</td>\n",
       "      <td>0.0</td>\n",
       "      <td>0.0</td>\n",
       "      <td>-0.952145</td>\n",
       "      <td>-0.193299</td>\n",
       "      <td>-0.284989</td>\n",
       "      <td>-0.283253</td>\n",
       "    </tr>\n",
       "    <tr>\n",
       "      <th>...</th>\n",
       "      <td>...</td>\n",
       "      <td>...</td>\n",
       "      <td>...</td>\n",
       "      <td>...</td>\n",
       "      <td>...</td>\n",
       "      <td>...</td>\n",
       "      <td>...</td>\n",
       "      <td>...</td>\n",
       "      <td>...</td>\n",
       "      <td>...</td>\n",
       "      <td>...</td>\n",
       "      <td>...</td>\n",
       "      <td>...</td>\n",
       "      <td>...</td>\n",
       "      <td>...</td>\n",
       "      <td>...</td>\n",
       "      <td>...</td>\n",
       "      <td>...</td>\n",
       "      <td>...</td>\n",
       "      <td>...</td>\n",
       "      <td>...</td>\n",
       "    </tr>\n",
       "    <tr>\n",
       "      <th>11036</th>\n",
       "      <td>0.0</td>\n",
       "      <td>0.0</td>\n",
       "      <td>0.0</td>\n",
       "      <td>0.0</td>\n",
       "      <td>1.0</td>\n",
       "      <td>0.0</td>\n",
       "      <td>0.0</td>\n",
       "      <td>1.0</td>\n",
       "      <td>0.0</td>\n",
       "      <td>0.0</td>\n",
       "      <td>...</td>\n",
       "      <td>0.0</td>\n",
       "      <td>0.0</td>\n",
       "      <td>0.0</td>\n",
       "      <td>0.0</td>\n",
       "      <td>0.0</td>\n",
       "      <td>0.0</td>\n",
       "      <td>1.050261</td>\n",
       "      <td>-0.167036</td>\n",
       "      <td>1.503027</td>\n",
       "      <td>1.538290</td>\n",
       "    </tr>\n",
       "    <tr>\n",
       "      <th>11037</th>\n",
       "      <td>0.0</td>\n",
       "      <td>0.0</td>\n",
       "      <td>0.0</td>\n",
       "      <td>0.0</td>\n",
       "      <td>1.0</td>\n",
       "      <td>0.0</td>\n",
       "      <td>0.0</td>\n",
       "      <td>0.0</td>\n",
       "      <td>0.0</td>\n",
       "      <td>0.0</td>\n",
       "      <td>...</td>\n",
       "      <td>0.0</td>\n",
       "      <td>1.0</td>\n",
       "      <td>0.0</td>\n",
       "      <td>0.0</td>\n",
       "      <td>0.0</td>\n",
       "      <td>0.0</td>\n",
       "      <td>1.050261</td>\n",
       "      <td>-0.035724</td>\n",
       "      <td>1.806230</td>\n",
       "      <td>1.852392</td>\n",
       "    </tr>\n",
       "    <tr>\n",
       "      <th>11038</th>\n",
       "      <td>0.0</td>\n",
       "      <td>0.0</td>\n",
       "      <td>0.0</td>\n",
       "      <td>0.0</td>\n",
       "      <td>1.0</td>\n",
       "      <td>0.0</td>\n",
       "      <td>0.0</td>\n",
       "      <td>0.0</td>\n",
       "      <td>0.0</td>\n",
       "      <td>0.0</td>\n",
       "      <td>...</td>\n",
       "      <td>0.0</td>\n",
       "      <td>0.0</td>\n",
       "      <td>0.0</td>\n",
       "      <td>1.0</td>\n",
       "      <td>0.0</td>\n",
       "      <td>0.0</td>\n",
       "      <td>-0.952145</td>\n",
       "      <td>-0.350873</td>\n",
       "      <td>1.078543</td>\n",
       "      <td>1.098547</td>\n",
       "    </tr>\n",
       "    <tr>\n",
       "      <th>11039</th>\n",
       "      <td>0.0</td>\n",
       "      <td>0.0</td>\n",
       "      <td>0.0</td>\n",
       "      <td>0.0</td>\n",
       "      <td>1.0</td>\n",
       "      <td>0.0</td>\n",
       "      <td>0.0</td>\n",
       "      <td>0.0</td>\n",
       "      <td>0.0</td>\n",
       "      <td>0.0</td>\n",
       "      <td>...</td>\n",
       "      <td>0.0</td>\n",
       "      <td>0.0</td>\n",
       "      <td>0.0</td>\n",
       "      <td>1.0</td>\n",
       "      <td>0.0</td>\n",
       "      <td>0.0</td>\n",
       "      <td>-0.952145</td>\n",
       "      <td>-0.350873</td>\n",
       "      <td>1.078543</td>\n",
       "      <td>1.098547</td>\n",
       "    </tr>\n",
       "    <tr>\n",
       "      <th>11040</th>\n",
       "      <td>0.0</td>\n",
       "      <td>0.0</td>\n",
       "      <td>0.0</td>\n",
       "      <td>0.0</td>\n",
       "      <td>1.0</td>\n",
       "      <td>0.0</td>\n",
       "      <td>0.0</td>\n",
       "      <td>0.0</td>\n",
       "      <td>1.0</td>\n",
       "      <td>0.0</td>\n",
       "      <td>...</td>\n",
       "      <td>0.0</td>\n",
       "      <td>0.0</td>\n",
       "      <td>0.0</td>\n",
       "      <td>0.0</td>\n",
       "      <td>0.0</td>\n",
       "      <td>0.0</td>\n",
       "      <td>-0.952145</td>\n",
       "      <td>-0.350873</td>\n",
       "      <td>1.078543</td>\n",
       "      <td>1.098547</td>\n",
       "    </tr>\n",
       "  </tbody>\n",
       "</table>\n",
       "<p>11041 rows × 27 columns</p>\n",
       "</div>"
      ],
      "text/plain": [
       "       Ministerio_Hacienda  Ministerio_Juventud  Ministerio_Mujer  \\\n",
       "0                      0.0                  0.0               1.0   \n",
       "1                      0.0                  0.0               1.0   \n",
       "2                      0.0                  0.0               1.0   \n",
       "3                      0.0                  0.0               1.0   \n",
       "4                      0.0                  0.0               1.0   \n",
       "...                    ...                  ...               ...   \n",
       "11036                  0.0                  0.0               0.0   \n",
       "11037                  0.0                  0.0               0.0   \n",
       "11038                  0.0                  0.0               0.0   \n",
       "11039                  0.0                  0.0               0.0   \n",
       "11040                  0.0                  0.0               0.0   \n",
       "\n",
       "       Ministerio_Publico  Ministerio_Trabajo  Cargo_ABOGADO  Cargo_AGENTE  \\\n",
       "0                     0.0                 0.0            0.0           0.0   \n",
       "1                     0.0                 0.0            0.0           0.0   \n",
       "2                     0.0                 0.0            0.0           0.0   \n",
       "3                     0.0                 0.0            0.0           0.0   \n",
       "4                     0.0                 0.0            0.0           0.0   \n",
       "...                   ...                 ...            ...           ...   \n",
       "11036                 0.0                 1.0            0.0           0.0   \n",
       "11037                 0.0                 1.0            0.0           0.0   \n",
       "11038                 0.0                 1.0            0.0           0.0   \n",
       "11039                 0.0                 1.0            0.0           0.0   \n",
       "11040                 0.0                 1.0            0.0           0.0   \n",
       "\n",
       "       Cargo_ANALISTA  Cargo_AUXILIAR  Cargo_CHOFER  ...  Cargo_MENSAJERO  \\\n",
       "0                 0.0             0.0           0.0  ...              0.0   \n",
       "1                 0.0             0.0           0.0  ...              1.0   \n",
       "2                 0.0             0.0           0.0  ...              0.0   \n",
       "3                 0.0             0.0           0.0  ...              0.0   \n",
       "4                 0.0             0.0           0.0  ...              0.0   \n",
       "...               ...             ...           ...  ...              ...   \n",
       "11036             1.0             0.0           0.0  ...              0.0   \n",
       "11037             0.0             0.0           0.0  ...              0.0   \n",
       "11038             0.0             0.0           0.0  ...              0.0   \n",
       "11039             0.0             0.0           0.0  ...              0.0   \n",
       "11040             0.0             1.0           0.0  ...              0.0   \n",
       "\n",
       "       Cargo_OTROS  Cargo_PROCURADOR  Cargo_SECRETARIO  Cargo_SUPERVISOR  \\\n",
       "0              1.0               0.0               0.0               0.0   \n",
       "1              0.0               0.0               0.0               0.0   \n",
       "2              0.0               0.0               1.0               0.0   \n",
       "3              1.0               0.0               0.0               0.0   \n",
       "4              0.0               0.0               1.0               0.0   \n",
       "...            ...               ...               ...               ...   \n",
       "11036          0.0               0.0               0.0               0.0   \n",
       "11037          1.0               0.0               0.0               0.0   \n",
       "11038          0.0               0.0               1.0               0.0   \n",
       "11039          0.0               0.0               1.0               0.0   \n",
       "11040          0.0               0.0               0.0               0.0   \n",
       "\n",
       "       Cargo_TECNICO  Es_Masculino  Sueldo bruto       AFP       SFS  \n",
       "0                0.0     -0.952145      6.634926  4.253628  2.028512  \n",
       "1                0.0     -0.952145     -0.587235 -0.546832 -0.566038  \n",
       "2                0.0     -0.952145     -0.534710 -0.511919 -0.528333  \n",
       "3                0.0     -0.952145     -0.639760 -0.581744 -0.603743  \n",
       "4                0.0     -0.952145     -0.193299 -0.284989 -0.283253  \n",
       "...              ...           ...           ...       ...       ...  \n",
       "11036            0.0      1.050261     -0.167036  1.503027  1.538290  \n",
       "11037            0.0      1.050261     -0.035724  1.806230  1.852392  \n",
       "11038            0.0     -0.952145     -0.350873  1.078543  1.098547  \n",
       "11039            0.0     -0.952145     -0.350873  1.078543  1.098547  \n",
       "11040            0.0     -0.952145     -0.350873  1.078543  1.098547  \n",
       "\n",
       "[11041 rows x 27 columns]"
      ]
     },
     "execution_count": 723,
     "metadata": {},
     "output_type": "execute_result"
    }
   ],
   "source": [
    "X = pd.concat([encoded_df, scaled_df], axis=1)\n",
    "X"
   ]
  },
  {
   "cell_type": "markdown",
   "metadata": {},
   "source": [
    "## Entrenamiento de los Modelos:"
   ]
  },
  {
   "cell_type": "code",
   "execution_count": 724,
   "metadata": {},
   "outputs": [],
   "source": [
    "from sklearn.ensemble import AdaBoostRegressor, RandomForestRegressor\n",
    "\n",
    "from sklearn.linear_model import (BayesianRidge, Lasso, LinearRegression,\n",
    "                                  Ridge, ridge_regression)\n",
    "from sklearn.metrics import mean_absolute_error, mean_squared_error, r2_score\n",
    "from sklearn.model_selection import train_test_split\n",
    "from sklearn.neighbors import KNeighborsRegressor, NearestNeighbors\n",
    "from sklearn.neural_network import MLPRegressor\n",
    "from sklearn.pipeline import make_pipeline\n",
    "from sklearn.preprocessing import (MinMaxScaler, OneHotEncoder, OrdinalEncoder,\n",
    "                                   StandardScaler)\n",
    "from sklearn.svm import SVR\n",
    "from sklearn.tree import DecisionTreeRegressor"
   ]
  },
  {
   "cell_type": "code",
   "execution_count": 725,
   "metadata": {},
   "outputs": [],
   "source": [
    "X_train, X_test, y_train, y_test = train_test_split(X, y, test_size=0.2)"
   ]
  },
  {
   "cell_type": "code",
   "execution_count": 726,
   "metadata": {},
   "outputs": [],
   "source": [
    "models = [LinearRegression(), Ridge(), BayesianRidge(),Lasso(), KNeighborsRegressor(),DecisionTreeRegressor()\n",
    "          ,RandomForestRegressor(),SVR(),MLPRegressor(),AdaBoostRegressor()]"
   ]
  },
  {
   "cell_type": "code",
   "execution_count": 727,
   "metadata": {},
   "outputs": [
    {
     "name": "stdout",
     "output_type": "stream",
     "text": [
      "LinearRegression()\n",
      "MAE:  5518.510162969669\n",
      "RMSE:  9335.098105978366\n",
      "R2:  0.886331803037278\n",
      "Ridge()\n",
      "MAE:  5518.109092960494\n",
      "RMSE:  9332.911624654682\n",
      "R2:  0.8863850438883101\n",
      "BayesianRidge()\n",
      "MAE:  5518.438573392582\n",
      "RMSE:  9331.017372032757\n",
      "R2:  0.8864311588836256\n",
      "Lasso()\n",
      "MAE:  5516.956090465352\n",
      "RMSE:  9331.389921027108\n",
      "R2:  0.8864220900328258\n",
      "KNeighborsRegressor()\n",
      "MAE:  5686.706020823902\n",
      "RMSE:  9425.628533949943\n",
      "R2:  0.884116437338493\n",
      "DecisionTreeRegressor()\n",
      "MAE:  5501.238702351798\n",
      "RMSE:  9671.75509019142\n",
      "R2:  0.8779854058649504\n",
      "RandomForestRegressor()\n",
      "MAE:  5457.881465734309\n",
      "RMSE:  9490.998337130999\n",
      "R2:  0.8825034829997535\n",
      "SVR()\n",
      "MAE:  16475.637740355556\n",
      "RMSE:  29044.802390642973\n",
      "R2:  -0.1003682488364388\n",
      "MLPRegressor()\n",
      "MAE:  10992.728446260788\n",
      "RMSE:  17490.346292839866\n",
      "R2:  0.6009769217956749\n",
      "AdaBoostRegressor()\n",
      "MAE:  7148.27534166256\n",
      "RMSE:  11972.692269202833\n",
      "R2:  0.8130244418203919\n"
     ]
    },
    {
     "name": "stderr",
     "output_type": "stream",
     "text": [
      "c:\\Python312\\Lib\\site-packages\\sklearn\\neural_network\\_multilayer_perceptron.py:691: ConvergenceWarning: Stochastic Optimizer: Maximum iterations (200) reached and the optimization hasn't converged yet.\n",
      "  warnings.warn(\n"
     ]
    }
   ],
   "source": [
    "\n",
    "for model in models:\n",
    "  model.fit(X_train, y_train)\n",
    "  y_pred = pd.Series(model.predict(X_test))\n",
    "  y_pred.index = y_test.index\n",
    "  print(str(model))\n",
    "  print(\"MAE: \", mean_absolute_error(y_test, y_pred))\n",
    "  print(\"RMSE: \", np.sqrt(mean_squared_error(y_test, y_pred)))\n",
    "  print(\"R2: \", r2_score(y_test, y_pred))"
   ]
  },
  {
   "cell_type": "code",
   "execution_count": 728,
   "metadata": {},
   "outputs": [],
   "source": [
    "y_pred = pd.Series(models[1].predict(X_test))\n",
    "y_pred.index = y_test.index"
   ]
  },
  {
   "cell_type": "code",
   "execution_count": 729,
   "metadata": {},
   "outputs": [
    {
     "data": {
      "text/html": [
       "<div>\n",
       "<style scoped>\n",
       "    .dataframe tbody tr th:only-of-type {\n",
       "        vertical-align: middle;\n",
       "    }\n",
       "\n",
       "    .dataframe tbody tr th {\n",
       "        vertical-align: top;\n",
       "    }\n",
       "\n",
       "    .dataframe thead th {\n",
       "        text-align: right;\n",
       "    }\n",
       "</style>\n",
       "<table border=\"1\" class=\"dataframe\">\n",
       "  <thead>\n",
       "    <tr style=\"text-align: right;\">\n",
       "      <th></th>\n",
       "      <th>Ministerio</th>\n",
       "      <th>Cargo</th>\n",
       "      <th>Es_Masculino</th>\n",
       "      <th>Sueldo bruto</th>\n",
       "      <th>AFP</th>\n",
       "      <th>SFS</th>\n",
       "      <th>Real Sueldo neto</th>\n",
       "      <th>Predicted neto</th>\n",
       "    </tr>\n",
       "  </thead>\n",
       "  <tbody>\n",
       "    <tr>\n",
       "      <th>8207</th>\n",
       "      <td>Publico</td>\n",
       "      <td>OTROS</td>\n",
       "      <td>1</td>\n",
       "      <td>41000.0</td>\n",
       "      <td>1176.7</td>\n",
       "      <td>1246.4</td>\n",
       "      <td>37968.11</td>\n",
       "      <td>33165.166060</td>\n",
       "    </tr>\n",
       "    <tr>\n",
       "      <th>4516</th>\n",
       "      <td>Publico</td>\n",
       "      <td>ANALISTA</td>\n",
       "      <td>0</td>\n",
       "      <td>70000.0</td>\n",
       "      <td>2009.0</td>\n",
       "      <td>2128.0</td>\n",
       "      <td>60469.52</td>\n",
       "      <td>18384.603422</td>\n",
       "    </tr>\n",
       "    <tr>\n",
       "      <th>288</th>\n",
       "      <td>Mujer</td>\n",
       "      <td>ABOGADO</td>\n",
       "      <td>0</td>\n",
       "      <td>50000.0</td>\n",
       "      <td>1435.0</td>\n",
       "      <td>1520.0</td>\n",
       "      <td>36292.53</td>\n",
       "      <td>30713.782498</td>\n",
       "    </tr>\n",
       "    <tr>\n",
       "      <th>115</th>\n",
       "      <td>Mujer</td>\n",
       "      <td>CHOFER</td>\n",
       "      <td>1</td>\n",
       "      <td>25000.0</td>\n",
       "      <td>717.5</td>\n",
       "      <td>760.0</td>\n",
       "      <td>21885.05</td>\n",
       "      <td>24807.409822</td>\n",
       "    </tr>\n",
       "    <tr>\n",
       "      <th>4529</th>\n",
       "      <td>Publico</td>\n",
       "      <td>OTROS</td>\n",
       "      <td>0</td>\n",
       "      <td>50000.0</td>\n",
       "      <td>1435.0</td>\n",
       "      <td>1520.0</td>\n",
       "      <td>42665.18</td>\n",
       "      <td>18384.603422</td>\n",
       "    </tr>\n",
       "    <tr>\n",
       "      <th>...</th>\n",
       "      <td>...</td>\n",
       "      <td>...</td>\n",
       "      <td>...</td>\n",
       "      <td>...</td>\n",
       "      <td>...</td>\n",
       "      <td>...</td>\n",
       "      <td>...</td>\n",
       "      <td>...</td>\n",
       "    </tr>\n",
       "    <tr>\n",
       "      <th>6000</th>\n",
       "      <td>Publico</td>\n",
       "      <td>MEDICO</td>\n",
       "      <td>1</td>\n",
       "      <td>38000.0</td>\n",
       "      <td>1090.6</td>\n",
       "      <td>1155.2</td>\n",
       "      <td>34216.75</td>\n",
       "      <td>40619.475329</td>\n",
       "    </tr>\n",
       "    <tr>\n",
       "      <th>6634</th>\n",
       "      <td>Publico</td>\n",
       "      <td>MENSAJERO</td>\n",
       "      <td>1</td>\n",
       "      <td>20000.0</td>\n",
       "      <td>574.0</td>\n",
       "      <td>608.0</td>\n",
       "      <td>18793.00</td>\n",
       "      <td>80811.077748</td>\n",
       "    </tr>\n",
       "    <tr>\n",
       "      <th>3345</th>\n",
       "      <td>Publico</td>\n",
       "      <td>AGENTE</td>\n",
       "      <td>0</td>\n",
       "      <td>27000.0</td>\n",
       "      <td>774.9</td>\n",
       "      <td>820.8</td>\n",
       "      <td>20970.13</td>\n",
       "      <td>18445.242043</td>\n",
       "    </tr>\n",
       "    <tr>\n",
       "      <th>6662</th>\n",
       "      <td>Publico</td>\n",
       "      <td>AUXILIAR</td>\n",
       "      <td>0</td>\n",
       "      <td>22000.0</td>\n",
       "      <td>631.4</td>\n",
       "      <td>668.8</td>\n",
       "      <td>8399.28</td>\n",
       "      <td>25414.460462</td>\n",
       "    </tr>\n",
       "    <tr>\n",
       "      <th>6495</th>\n",
       "      <td>Publico</td>\n",
       "      <td>FISCALIZADOR</td>\n",
       "      <td>0</td>\n",
       "      <td>90000.0</td>\n",
       "      <td>2583.0</td>\n",
       "      <td>2736.0</td>\n",
       "      <td>74902.88</td>\n",
       "      <td>79818.266712</td>\n",
       "    </tr>\n",
       "  </tbody>\n",
       "</table>\n",
       "<p>2209 rows × 8 columns</p>\n",
       "</div>"
      ],
      "text/plain": [
       "     Ministerio         Cargo  Es_Masculino  Sueldo bruto     AFP     SFS  \\\n",
       "8207    Publico         OTROS             1       41000.0  1176.7  1246.4   \n",
       "4516    Publico      ANALISTA             0       70000.0  2009.0  2128.0   \n",
       "288       Mujer       ABOGADO             0       50000.0  1435.0  1520.0   \n",
       "115       Mujer        CHOFER             1       25000.0   717.5   760.0   \n",
       "4529    Publico         OTROS             0       50000.0  1435.0  1520.0   \n",
       "...         ...           ...           ...           ...     ...     ...   \n",
       "6000    Publico        MEDICO             1       38000.0  1090.6  1155.2   \n",
       "6634    Publico     MENSAJERO             1       20000.0   574.0   608.0   \n",
       "3345    Publico        AGENTE             0       27000.0   774.9   820.8   \n",
       "6662    Publico      AUXILIAR             0       22000.0   631.4   668.8   \n",
       "6495    Publico  FISCALIZADOR             0       90000.0  2583.0  2736.0   \n",
       "\n",
       "      Real Sueldo neto  Predicted neto  \n",
       "8207          37968.11    33165.166060  \n",
       "4516          60469.52    18384.603422  \n",
       "288           36292.53    30713.782498  \n",
       "115           21885.05    24807.409822  \n",
       "4529          42665.18    18384.603422  \n",
       "...                ...             ...  \n",
       "6000          34216.75    40619.475329  \n",
       "6634          18793.00    80811.077748  \n",
       "3345          20970.13    18445.242043  \n",
       "6662           8399.28    25414.460462  \n",
       "6495          74902.88    79818.266712  \n",
       "\n",
       "[2209 rows x 8 columns]"
      ]
     },
     "execution_count": 729,
     "metadata": {},
     "output_type": "execute_result"
    }
   ],
   "source": [
    "results = pd.concat([df.loc[y_test.index], pd.DataFrame(y_pred)], axis=1)\n",
    "results.columns = list(df.columns)[:-1] + [\"Real Sueldo neto\", \"Predicted neto\"]\n",
    "results"
   ]
  },
  {
   "cell_type": "code",
   "execution_count": 730,
   "metadata": {},
   "outputs": [
    {
     "data": {
      "text/plain": [
       "<Axes: xlabel='Real Sueldo neto', ylabel='Predicted neto'>"
      ]
     },
     "execution_count": 730,
     "metadata": {},
     "output_type": "execute_result"
    },
    {
     "data": {
      "image/png": "[encoded data removed]",
      "text/plain": [
       "<Figure size 640x480 with 1 Axes>"
      ]
     },
     "metadata": {},
     "output_type": "display_data"
    }
   ],
   "source": [
    "results.plot(kind='scatter', x='Real Sueldo neto', y='Predicted neto', s=32, alpha=.8)"
   ]
  },
  {
   "cell_type": "code",
   "execution_count": 734,
   "metadata": {},
   "outputs": [
    {
     "data": {
      "text/plain": [
       "10"
      ]
     },
     "execution_count": 734,
     "metadata": {},
     "output_type": "execute_result"
    }
   ],
   "source": [
    "models.__len__()"
   ]
  },
  {
   "cell_type": "code",
   "execution_count": 735,
   "metadata": {},
   "outputs": [],
   "source": [
    "for x in range (0,models.__len__(),1):\n",
    "    import pickle\n",
    "    with open(f\"Models/{models[x]}.pkl\", \"wb\") as file:\n",
    "        pickle.dump(models[x], file)"
   ]
  }
 ],
 "metadata": {
  "kernelspec": {
   "display_name": "Python 3",
   "language": "python",
   "name": "python3"
  },
  "language_info": {
   "codemirror_mode": {
    "name": "ipython",
    "version": 3
   },
   "file_extension": ".py",
   "mimetype": "text/x-python",
   "name": "python",
   "nbconvert_exporter": "python",
   "pygments_lexer": "ipython3",
   "version": "3.12.2"
  }
 },
 "nbformat": 4,
 "nbformat_minor": 2
}
