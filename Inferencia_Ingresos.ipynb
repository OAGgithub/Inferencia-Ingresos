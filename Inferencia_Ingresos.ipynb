{
 "cells": [
  {
   "cell_type": "markdown",
   "metadata": {},
   "source": [
    "# Inferencia de Ingresos"
   ]
  },
  {
   "cell_type": "markdown",
   "metadata": {},
   "source": [
    "## Importando datasets"
   ]
  },
  {
   "cell_type": "code",
   "execution_count": 4,
   "metadata": {},
   "outputs": [],
   "source": [
    "import numpy as np\n",
    "import pandas as pd\n",
    "import matplotlib.pyplot as plt\n",
    "import re\n",
    "import seaborn as sns"
   ]
  },
  {
   "cell_type": "code",
   "execution_count": 5,
   "metadata": {},
   "outputs": [
    {
     "ename": "FileNotFoundError",
     "evalue": "[Errno 2] No such file or directory: 'Datasets/Minis_Hacienda.csv'",
     "output_type": "error",
     "traceback": [
      "\u001b[1;31m---------------------------------------------------------------------------\u001b[0m",
      "\u001b[1;31mFileNotFoundError\u001b[0m                         Traceback (most recent call last)",
      "Cell \u001b[1;32mIn[5], line 1\u001b[0m\n\u001b[1;32m----> 1\u001b[0m df_hacienda \u001b[38;5;241m=\u001b[39m \u001b[43mpd\u001b[49m\u001b[38;5;241;43m.\u001b[39;49m\u001b[43mread_csv\u001b[49m\u001b[43m(\u001b[49m\u001b[38;5;124;43m\"\u001b[39;49m\u001b[38;5;124;43mDatasets/Minis_Hacienda.csv\u001b[39;49m\u001b[38;5;124;43m\"\u001b[39;49m\u001b[43m)\u001b[49m\n\u001b[0;32m      2\u001b[0m df_juventud \u001b[38;5;241m=\u001b[39m pd\u001b[38;5;241m.\u001b[39mread_csv(\u001b[38;5;124m\"\u001b[39m\u001b[38;5;124mDatasets/Minis_Juventud.csv\u001b[39m\u001b[38;5;124m\"\u001b[39m)\n\u001b[0;32m      3\u001b[0m df_mujer \u001b[38;5;241m=\u001b[39m pd\u001b[38;5;241m.\u001b[39mread_csv(\u001b[38;5;124m\"\u001b[39m\u001b[38;5;124mDatasets/Minis_Mujer.csv\u001b[39m\u001b[38;5;124m\"\u001b[39m)\n",
      "File \u001b[1;32mc:\\Python312\\Lib\\site-packages\\pandas\\io\\parsers\\readers.py:1026\u001b[0m, in \u001b[0;36mread_csv\u001b[1;34m(filepath_or_buffer, sep, delimiter, header, names, index_col, usecols, dtype, engine, converters, true_values, false_values, skipinitialspace, skiprows, skipfooter, nrows, na_values, keep_default_na, na_filter, verbose, skip_blank_lines, parse_dates, infer_datetime_format, keep_date_col, date_parser, date_format, dayfirst, cache_dates, iterator, chunksize, compression, thousands, decimal, lineterminator, quotechar, quoting, doublequote, escapechar, comment, encoding, encoding_errors, dialect, on_bad_lines, delim_whitespace, low_memory, memory_map, float_precision, storage_options, dtype_backend)\u001b[0m\n\u001b[0;32m   1013\u001b[0m kwds_defaults \u001b[38;5;241m=\u001b[39m _refine_defaults_read(\n\u001b[0;32m   1014\u001b[0m     dialect,\n\u001b[0;32m   1015\u001b[0m     delimiter,\n\u001b[1;32m   (...)\u001b[0m\n\u001b[0;32m   1022\u001b[0m     dtype_backend\u001b[38;5;241m=\u001b[39mdtype_backend,\n\u001b[0;32m   1023\u001b[0m )\n\u001b[0;32m   1024\u001b[0m kwds\u001b[38;5;241m.\u001b[39mupdate(kwds_defaults)\n\u001b[1;32m-> 1026\u001b[0m \u001b[38;5;28;01mreturn\u001b[39;00m \u001b[43m_read\u001b[49m\u001b[43m(\u001b[49m\u001b[43mfilepath_or_buffer\u001b[49m\u001b[43m,\u001b[49m\u001b[43m \u001b[49m\u001b[43mkwds\u001b[49m\u001b[43m)\u001b[49m\n",
      "File \u001b[1;32mc:\\Python312\\Lib\\site-packages\\pandas\\io\\parsers\\readers.py:620\u001b[0m, in \u001b[0;36m_read\u001b[1;34m(filepath_or_buffer, kwds)\u001b[0m\n\u001b[0;32m    617\u001b[0m _validate_names(kwds\u001b[38;5;241m.\u001b[39mget(\u001b[38;5;124m\"\u001b[39m\u001b[38;5;124mnames\u001b[39m\u001b[38;5;124m\"\u001b[39m, \u001b[38;5;28;01mNone\u001b[39;00m))\n\u001b[0;32m    619\u001b[0m \u001b[38;5;66;03m# Create the parser.\u001b[39;00m\n\u001b[1;32m--> 620\u001b[0m parser \u001b[38;5;241m=\u001b[39m \u001b[43mTextFileReader\u001b[49m\u001b[43m(\u001b[49m\u001b[43mfilepath_or_buffer\u001b[49m\u001b[43m,\u001b[49m\u001b[43m \u001b[49m\u001b[38;5;241;43m*\u001b[39;49m\u001b[38;5;241;43m*\u001b[39;49m\u001b[43mkwds\u001b[49m\u001b[43m)\u001b[49m\n\u001b[0;32m    622\u001b[0m \u001b[38;5;28;01mif\u001b[39;00m chunksize \u001b[38;5;129;01mor\u001b[39;00m iterator:\n\u001b[0;32m    623\u001b[0m     \u001b[38;5;28;01mreturn\u001b[39;00m parser\n",
      "File \u001b[1;32mc:\\Python312\\Lib\\site-packages\\pandas\\io\\parsers\\readers.py:1620\u001b[0m, in \u001b[0;36mTextFileReader.__init__\u001b[1;34m(self, f, engine, **kwds)\u001b[0m\n\u001b[0;32m   1617\u001b[0m     \u001b[38;5;28mself\u001b[39m\u001b[38;5;241m.\u001b[39moptions[\u001b[38;5;124m\"\u001b[39m\u001b[38;5;124mhas_index_names\u001b[39m\u001b[38;5;124m\"\u001b[39m] \u001b[38;5;241m=\u001b[39m kwds[\u001b[38;5;124m\"\u001b[39m\u001b[38;5;124mhas_index_names\u001b[39m\u001b[38;5;124m\"\u001b[39m]\n\u001b[0;32m   1619\u001b[0m \u001b[38;5;28mself\u001b[39m\u001b[38;5;241m.\u001b[39mhandles: IOHandles \u001b[38;5;241m|\u001b[39m \u001b[38;5;28;01mNone\u001b[39;00m \u001b[38;5;241m=\u001b[39m \u001b[38;5;28;01mNone\u001b[39;00m\n\u001b[1;32m-> 1620\u001b[0m \u001b[38;5;28mself\u001b[39m\u001b[38;5;241m.\u001b[39m_engine \u001b[38;5;241m=\u001b[39m \u001b[38;5;28;43mself\u001b[39;49m\u001b[38;5;241;43m.\u001b[39;49m\u001b[43m_make_engine\u001b[49m\u001b[43m(\u001b[49m\u001b[43mf\u001b[49m\u001b[43m,\u001b[49m\u001b[43m \u001b[49m\u001b[38;5;28;43mself\u001b[39;49m\u001b[38;5;241;43m.\u001b[39;49m\u001b[43mengine\u001b[49m\u001b[43m)\u001b[49m\n",
      "File \u001b[1;32mc:\\Python312\\Lib\\site-packages\\pandas\\io\\parsers\\readers.py:1880\u001b[0m, in \u001b[0;36mTextFileReader._make_engine\u001b[1;34m(self, f, engine)\u001b[0m\n\u001b[0;32m   1878\u001b[0m     \u001b[38;5;28;01mif\u001b[39;00m \u001b[38;5;124m\"\u001b[39m\u001b[38;5;124mb\u001b[39m\u001b[38;5;124m\"\u001b[39m \u001b[38;5;129;01mnot\u001b[39;00m \u001b[38;5;129;01min\u001b[39;00m mode:\n\u001b[0;32m   1879\u001b[0m         mode \u001b[38;5;241m+\u001b[39m\u001b[38;5;241m=\u001b[39m \u001b[38;5;124m\"\u001b[39m\u001b[38;5;124mb\u001b[39m\u001b[38;5;124m\"\u001b[39m\n\u001b[1;32m-> 1880\u001b[0m \u001b[38;5;28mself\u001b[39m\u001b[38;5;241m.\u001b[39mhandles \u001b[38;5;241m=\u001b[39m \u001b[43mget_handle\u001b[49m\u001b[43m(\u001b[49m\n\u001b[0;32m   1881\u001b[0m \u001b[43m    \u001b[49m\u001b[43mf\u001b[49m\u001b[43m,\u001b[49m\n\u001b[0;32m   1882\u001b[0m \u001b[43m    \u001b[49m\u001b[43mmode\u001b[49m\u001b[43m,\u001b[49m\n\u001b[0;32m   1883\u001b[0m \u001b[43m    \u001b[49m\u001b[43mencoding\u001b[49m\u001b[38;5;241;43m=\u001b[39;49m\u001b[38;5;28;43mself\u001b[39;49m\u001b[38;5;241;43m.\u001b[39;49m\u001b[43moptions\u001b[49m\u001b[38;5;241;43m.\u001b[39;49m\u001b[43mget\u001b[49m\u001b[43m(\u001b[49m\u001b[38;5;124;43m\"\u001b[39;49m\u001b[38;5;124;43mencoding\u001b[39;49m\u001b[38;5;124;43m\"\u001b[39;49m\u001b[43m,\u001b[49m\u001b[43m \u001b[49m\u001b[38;5;28;43;01mNone\u001b[39;49;00m\u001b[43m)\u001b[49m\u001b[43m,\u001b[49m\n\u001b[0;32m   1884\u001b[0m \u001b[43m    \u001b[49m\u001b[43mcompression\u001b[49m\u001b[38;5;241;43m=\u001b[39;49m\u001b[38;5;28;43mself\u001b[39;49m\u001b[38;5;241;43m.\u001b[39;49m\u001b[43moptions\u001b[49m\u001b[38;5;241;43m.\u001b[39;49m\u001b[43mget\u001b[49m\u001b[43m(\u001b[49m\u001b[38;5;124;43m\"\u001b[39;49m\u001b[38;5;124;43mcompression\u001b[39;49m\u001b[38;5;124;43m\"\u001b[39;49m\u001b[43m,\u001b[49m\u001b[43m \u001b[49m\u001b[38;5;28;43;01mNone\u001b[39;49;00m\u001b[43m)\u001b[49m\u001b[43m,\u001b[49m\n\u001b[0;32m   1885\u001b[0m \u001b[43m    \u001b[49m\u001b[43mmemory_map\u001b[49m\u001b[38;5;241;43m=\u001b[39;49m\u001b[38;5;28;43mself\u001b[39;49m\u001b[38;5;241;43m.\u001b[39;49m\u001b[43moptions\u001b[49m\u001b[38;5;241;43m.\u001b[39;49m\u001b[43mget\u001b[49m\u001b[43m(\u001b[49m\u001b[38;5;124;43m\"\u001b[39;49m\u001b[38;5;124;43mmemory_map\u001b[39;49m\u001b[38;5;124;43m\"\u001b[39;49m\u001b[43m,\u001b[49m\u001b[43m \u001b[49m\u001b[38;5;28;43;01mFalse\u001b[39;49;00m\u001b[43m)\u001b[49m\u001b[43m,\u001b[49m\n\u001b[0;32m   1886\u001b[0m \u001b[43m    \u001b[49m\u001b[43mis_text\u001b[49m\u001b[38;5;241;43m=\u001b[39;49m\u001b[43mis_text\u001b[49m\u001b[43m,\u001b[49m\n\u001b[0;32m   1887\u001b[0m \u001b[43m    \u001b[49m\u001b[43merrors\u001b[49m\u001b[38;5;241;43m=\u001b[39;49m\u001b[38;5;28;43mself\u001b[39;49m\u001b[38;5;241;43m.\u001b[39;49m\u001b[43moptions\u001b[49m\u001b[38;5;241;43m.\u001b[39;49m\u001b[43mget\u001b[49m\u001b[43m(\u001b[49m\u001b[38;5;124;43m\"\u001b[39;49m\u001b[38;5;124;43mencoding_errors\u001b[39;49m\u001b[38;5;124;43m\"\u001b[39;49m\u001b[43m,\u001b[49m\u001b[43m \u001b[49m\u001b[38;5;124;43m\"\u001b[39;49m\u001b[38;5;124;43mstrict\u001b[39;49m\u001b[38;5;124;43m\"\u001b[39;49m\u001b[43m)\u001b[49m\u001b[43m,\u001b[49m\n\u001b[0;32m   1888\u001b[0m \u001b[43m    \u001b[49m\u001b[43mstorage_options\u001b[49m\u001b[38;5;241;43m=\u001b[39;49m\u001b[38;5;28;43mself\u001b[39;49m\u001b[38;5;241;43m.\u001b[39;49m\u001b[43moptions\u001b[49m\u001b[38;5;241;43m.\u001b[39;49m\u001b[43mget\u001b[49m\u001b[43m(\u001b[49m\u001b[38;5;124;43m\"\u001b[39;49m\u001b[38;5;124;43mstorage_options\u001b[39;49m\u001b[38;5;124;43m\"\u001b[39;49m\u001b[43m,\u001b[49m\u001b[43m \u001b[49m\u001b[38;5;28;43;01mNone\u001b[39;49;00m\u001b[43m)\u001b[49m\u001b[43m,\u001b[49m\n\u001b[0;32m   1889\u001b[0m \u001b[43m\u001b[49m\u001b[43m)\u001b[49m\n\u001b[0;32m   1890\u001b[0m \u001b[38;5;28;01massert\u001b[39;00m \u001b[38;5;28mself\u001b[39m\u001b[38;5;241m.\u001b[39mhandles \u001b[38;5;129;01mis\u001b[39;00m \u001b[38;5;129;01mnot\u001b[39;00m \u001b[38;5;28;01mNone\u001b[39;00m\n\u001b[0;32m   1891\u001b[0m f \u001b[38;5;241m=\u001b[39m \u001b[38;5;28mself\u001b[39m\u001b[38;5;241m.\u001b[39mhandles\u001b[38;5;241m.\u001b[39mhandle\n",
      "File \u001b[1;32mc:\\Python312\\Lib\\site-packages\\pandas\\io\\common.py:873\u001b[0m, in \u001b[0;36mget_handle\u001b[1;34m(path_or_buf, mode, encoding, compression, memory_map, is_text, errors, storage_options)\u001b[0m\n\u001b[0;32m    868\u001b[0m \u001b[38;5;28;01melif\u001b[39;00m \u001b[38;5;28misinstance\u001b[39m(handle, \u001b[38;5;28mstr\u001b[39m):\n\u001b[0;32m    869\u001b[0m     \u001b[38;5;66;03m# Check whether the filename is to be opened in binary mode.\u001b[39;00m\n\u001b[0;32m    870\u001b[0m     \u001b[38;5;66;03m# Binary mode does not support 'encoding' and 'newline'.\u001b[39;00m\n\u001b[0;32m    871\u001b[0m     \u001b[38;5;28;01mif\u001b[39;00m ioargs\u001b[38;5;241m.\u001b[39mencoding \u001b[38;5;129;01mand\u001b[39;00m \u001b[38;5;124m\"\u001b[39m\u001b[38;5;124mb\u001b[39m\u001b[38;5;124m\"\u001b[39m \u001b[38;5;129;01mnot\u001b[39;00m \u001b[38;5;129;01min\u001b[39;00m ioargs\u001b[38;5;241m.\u001b[39mmode:\n\u001b[0;32m    872\u001b[0m         \u001b[38;5;66;03m# Encoding\u001b[39;00m\n\u001b[1;32m--> 873\u001b[0m         handle \u001b[38;5;241m=\u001b[39m \u001b[38;5;28;43mopen\u001b[39;49m\u001b[43m(\u001b[49m\n\u001b[0;32m    874\u001b[0m \u001b[43m            \u001b[49m\u001b[43mhandle\u001b[49m\u001b[43m,\u001b[49m\n\u001b[0;32m    875\u001b[0m \u001b[43m            \u001b[49m\u001b[43mioargs\u001b[49m\u001b[38;5;241;43m.\u001b[39;49m\u001b[43mmode\u001b[49m\u001b[43m,\u001b[49m\n\u001b[0;32m    876\u001b[0m \u001b[43m            \u001b[49m\u001b[43mencoding\u001b[49m\u001b[38;5;241;43m=\u001b[39;49m\u001b[43mioargs\u001b[49m\u001b[38;5;241;43m.\u001b[39;49m\u001b[43mencoding\u001b[49m\u001b[43m,\u001b[49m\n\u001b[0;32m    877\u001b[0m \u001b[43m            \u001b[49m\u001b[43merrors\u001b[49m\u001b[38;5;241;43m=\u001b[39;49m\u001b[43merrors\u001b[49m\u001b[43m,\u001b[49m\n\u001b[0;32m    878\u001b[0m \u001b[43m            \u001b[49m\u001b[43mnewline\u001b[49m\u001b[38;5;241;43m=\u001b[39;49m\u001b[38;5;124;43m\"\u001b[39;49m\u001b[38;5;124;43m\"\u001b[39;49m\u001b[43m,\u001b[49m\n\u001b[0;32m    879\u001b[0m \u001b[43m        \u001b[49m\u001b[43m)\u001b[49m\n\u001b[0;32m    880\u001b[0m     \u001b[38;5;28;01melse\u001b[39;00m:\n\u001b[0;32m    881\u001b[0m         \u001b[38;5;66;03m# Binary mode\u001b[39;00m\n\u001b[0;32m    882\u001b[0m         handle \u001b[38;5;241m=\u001b[39m \u001b[38;5;28mopen\u001b[39m(handle, ioargs\u001b[38;5;241m.\u001b[39mmode)\n",
      "\u001b[1;31mFileNotFoundError\u001b[0m: [Errno 2] No such file or directory: 'Datasets/Minis_Hacienda.csv'"
     ]
    }
   ],
   "source": [
    "df_hacienda = pd.read_csv(\"Datasets/Minis_Hacienda.csv\")\n",
    "df_juventud = pd.read_csv(\"Datasets/Minis_Juventud.csv\")\n",
    "df_mujer = pd.read_csv(\"Datasets/Minis_Mujer.csv\")\n",
    "df_publico = pd.read_csv(\"Datasets/Minis_Publico.csv\")\n",
    "df_trabajo = pd.read_csv(\"Datasets/Minis_Trabajo.csv\")"
   ]
  },
  {
   "cell_type": "code",
   "execution_count": null,
   "metadata": {},
   "outputs": [
    {
     "name": "stdout",
     "output_type": "stream",
     "text": [
      "<class 'pandas.core.frame.DataFrame'>\n",
      "RangeIndex: 330 entries, 0 to 329\n",
      "Data columns (total 8 columns):\n",
      " #   Column        Non-Null Count  Dtype  \n",
      "---  ------        --------------  -----  \n",
      " 0   Nombre        330 non-null    object \n",
      " 1   Cargo         330 non-null    object \n",
      " 2   Departamento  330 non-null    object \n",
      " 3   Sexo          330 non-null    object \n",
      " 4   Sueldo bruto  330 non-null    float64\n",
      " 5   AFP           330 non-null    float64\n",
      " 6   SFS           330 non-null    float64\n",
      " 7   Sueldo neto   330 non-null    float64\n",
      "dtypes: float64(4), object(4)\n",
      "memory usage: 20.8+ KB\n"
     ]
    }
   ],
   "source": [
    "df_mujer.drop(columns=['Unnamed: 0'], axis=1 , inplace=True)\n",
    "df_mujer.info()"
   ]
  },
  {
   "cell_type": "code",
   "execution_count": null,
   "metadata": {},
   "outputs": [
    {
     "name": "stdout",
     "output_type": "stream",
     "text": [
      "<class 'pandas.core.frame.DataFrame'>\n",
      "RangeIndex: 777 entries, 0 to 776\n",
      "Data columns (total 8 columns):\n",
      " #   Column        Non-Null Count  Dtype  \n",
      "---  ------        --------------  -----  \n",
      " 0   Nombre        777 non-null    object \n",
      " 1   Cargo         777 non-null    object \n",
      " 2   Departamento  777 non-null    object \n",
      " 3   Sexo          777 non-null    object \n",
      " 4   Sueldo bruto  777 non-null    float64\n",
      " 5   AFP           777 non-null    float64\n",
      " 6   SFS           777 non-null    float64\n",
      " 7   Sueldo neto   777 non-null    float64\n",
      "dtypes: float64(4), object(4)\n",
      "memory usage: 48.7+ KB\n"
     ]
    }
   ],
   "source": [
    "df_hacienda.drop(columns=['Unnamed: 0'], axis=1 , inplace=True)\n",
    "df_hacienda.info()"
   ]
  },
  {
   "cell_type": "code",
   "execution_count": null,
   "metadata": {},
   "outputs": [
    {
     "name": "stdout",
     "output_type": "stream",
     "text": [
      "<class 'pandas.core.frame.DataFrame'>\n",
      "RangeIndex: 8767 entries, 0 to 8766\n",
      "Data columns (total 8 columns):\n",
      " #   Column        Non-Null Count  Dtype  \n",
      "---  ------        --------------  -----  \n",
      " 0   Nombre        8767 non-null   object \n",
      " 1   Cargo         8767 non-null   object \n",
      " 2   Departamento  8767 non-null   object \n",
      " 3   Sexo          8767 non-null   object \n",
      " 4   Sueldo bruto  8767 non-null   float64\n",
      " 5   AFP           8767 non-null   float64\n",
      " 6   SFS           8767 non-null   float64\n",
      " 7   Sueldo neto   8767 non-null   float64\n",
      "dtypes: float64(4), object(4)\n",
      "memory usage: 548.1+ KB\n"
     ]
    }
   ],
   "source": [
    "df_publico.drop(columns=['Unnamed: 0'], axis=1 , inplace=True)\n",
    "df_publico.info()"
   ]
  },
  {
   "cell_type": "code",
   "execution_count": null,
   "metadata": {},
   "outputs": [
    {
     "name": "stdout",
     "output_type": "stream",
     "text": [
      "<class 'pandas.core.frame.DataFrame'>\n",
      "RangeIndex: 290 entries, 0 to 289\n",
      "Data columns (total 9 columns):\n",
      " #   Column        Non-Null Count  Dtype  \n",
      "---  ------        --------------  -----  \n",
      " 0   Ministerio    290 non-null    object \n",
      " 1   Nombre        290 non-null    object \n",
      " 2   Cargo         290 non-null    object \n",
      " 3   Departamento  290 non-null    object \n",
      " 4   Sexo          290 non-null    object \n",
      " 5   Sueldo bruto  290 non-null    float64\n",
      " 6   AFP           290 non-null    float64\n",
      " 7   SFS           290 non-null    float64\n",
      " 8   Sueldo neto   290 non-null    float64\n",
      "dtypes: float64(4), object(5)\n",
      "memory usage: 20.5+ KB\n"
     ]
    }
   ],
   "source": [
    "#Juventud\n",
    "df_juventud.insert(0,'Ministerio','Juventud')\n",
    "df_juventud.info()"
   ]
  },
  {
   "cell_type": "code",
   "execution_count": null,
   "metadata": {},
   "outputs": [
    {
     "name": "stdout",
     "output_type": "stream",
     "text": [
      "<class 'pandas.core.frame.DataFrame'>\n",
      "RangeIndex: 330 entries, 0 to 329\n",
      "Data columns (total 9 columns):\n",
      " #   Column        Non-Null Count  Dtype  \n",
      "---  ------        --------------  -----  \n",
      " 0   Ministerio    330 non-null    object \n",
      " 1   Nombre        330 non-null    object \n",
      " 2   Cargo         330 non-null    object \n",
      " 3   Departamento  330 non-null    object \n",
      " 4   Sexo          330 non-null    object \n",
      " 5   Sueldo bruto  330 non-null    float64\n",
      " 6   AFP           330 non-null    float64\n",
      " 7   SFS           330 non-null    float64\n",
      " 8   Sueldo neto   330 non-null    float64\n",
      "dtypes: float64(4), object(5)\n",
      "memory usage: 23.3+ KB\n"
     ]
    }
   ],
   "source": [
    "#Mujer\n",
    "df_mujer.insert(0,'Ministerio','Mujer')\n",
    "df_mujer.info()"
   ]
  },
  {
   "cell_type": "code",
   "execution_count": null,
   "metadata": {},
   "outputs": [
    {
     "name": "stdout",
     "output_type": "stream",
     "text": [
      "<class 'pandas.core.frame.DataFrame'>\n",
      "RangeIndex: 777 entries, 0 to 776\n",
      "Data columns (total 9 columns):\n",
      " #   Column        Non-Null Count  Dtype  \n",
      "---  ------        --------------  -----  \n",
      " 0   Ministerio    777 non-null    object \n",
      " 1   Nombre        777 non-null    object \n",
      " 2   Cargo         777 non-null    object \n",
      " 3   Departamento  777 non-null    object \n",
      " 4   Sexo          777 non-null    object \n",
      " 5   Sueldo bruto  777 non-null    float64\n",
      " 6   AFP           777 non-null    float64\n",
      " 7   SFS           777 non-null    float64\n",
      " 8   Sueldo neto   777 non-null    float64\n",
      "dtypes: float64(4), object(5)\n",
      "memory usage: 54.8+ KB\n"
     ]
    }
   ],
   "source": [
    "#Hacienda\n",
    "df_hacienda.insert(0,'Ministerio','Hacienda')\n",
    "df_hacienda.info()"
   ]
  },
  {
   "cell_type": "code",
   "execution_count": null,
   "metadata": {},
   "outputs": [
    {
     "name": "stdout",
     "output_type": "stream",
     "text": [
      "<class 'pandas.core.frame.DataFrame'>\n",
      "RangeIndex: 8767 entries, 0 to 8766\n",
      "Data columns (total 9 columns):\n",
      " #   Column        Non-Null Count  Dtype  \n",
      "---  ------        --------------  -----  \n",
      " 0   Ministerio    8767 non-null   object \n",
      " 1   Nombre        8767 non-null   object \n",
      " 2   Cargo         8767 non-null   object \n",
      " 3   Departamento  8767 non-null   object \n",
      " 4   Sexo          8767 non-null   object \n",
      " 5   Sueldo bruto  8767 non-null   float64\n",
      " 6   AFP           8767 non-null   float64\n",
      " 7   SFS           8767 non-null   float64\n",
      " 8   Sueldo neto   8767 non-null   float64\n",
      "dtypes: float64(4), object(5)\n",
      "memory usage: 616.6+ KB\n"
     ]
    }
   ],
   "source": [
    "#Publico\n",
    "df_publico.insert(0,'Ministerio','Publico')\n",
    "df_publico.info()"
   ]
  },
  {
   "cell_type": "code",
   "execution_count": null,
   "metadata": {},
   "outputs": [
    {
     "name": "stdout",
     "output_type": "stream",
     "text": [
      "<class 'pandas.core.frame.DataFrame'>\n",
      "RangeIndex: 877 entries, 0 to 876\n",
      "Data columns (total 9 columns):\n",
      " #   Column        Non-Null Count  Dtype  \n",
      "---  ------        --------------  -----  \n",
      " 0   Ministerio    877 non-null    object \n",
      " 1   Nombre        877 non-null    object \n",
      " 2   Cargo         877 non-null    object \n",
      " 3   Departamento  877 non-null    object \n",
      " 4   Sexo          877 non-null    object \n",
      " 5   Sueldo bruto  877 non-null    object \n",
      " 6   AFP           877 non-null    float64\n",
      " 7   SFS           877 non-null    float64\n",
      " 8   Sueldo neto   877 non-null    object \n",
      "dtypes: float64(2), object(7)\n",
      "memory usage: 61.8+ KB\n"
     ]
    }
   ],
   "source": [
    "#Trabajo\n",
    "df_trabajo.insert(0,'Ministerio','Trabajo')\n",
    "df_trabajo.info()"
   ]
  },
  {
   "cell_type": "markdown",
   "metadata": {},
   "source": [
    "## Unificación de datasets"
   ]
  },
  {
   "cell_type": "code",
   "execution_count": null,
   "metadata": {},
   "outputs": [
    {
     "name": "stdout",
     "output_type": "stream",
     "text": [
      "<class 'pandas.core.frame.DataFrame'>\n",
      "Index: 11041 entries, 0 to 876\n",
      "Data columns (total 7 columns):\n",
      " #   Column        Non-Null Count  Dtype  \n",
      "---  ------        --------------  -----  \n",
      " 0   Ministerio    11041 non-null  object \n",
      " 1   Cargo         11041 non-null  object \n",
      " 2   Sexo          11041 non-null  object \n",
      " 3   Sueldo bruto  11041 non-null  object \n",
      " 4   AFP           11041 non-null  float64\n",
      " 5   SFS           11041 non-null  float64\n",
      " 6   Sueldo neto   11041 non-null  object \n",
      "dtypes: float64(2), object(5)\n",
      "memory usage: 690.1+ KB\n"
     ]
    }
   ],
   "source": [
    "df_ministerios = pd.concat([df_mujer, df_hacienda, df_publico, df_juventud, df_trabajo])\n",
    "df_ministerios.drop(columns= ['Departamento','Nombre'], axis=1,inplace= True)\n",
    "df_ministerios.info()"
   ]
  },
  {
   "cell_type": "code",
   "execution_count": null,
   "metadata": {},
   "outputs": [
    {
     "data": {
      "text/html": [
       "<div>\n",
       "<style scoped>\n",
       "    .dataframe tbody tr th:only-of-type {\n",
       "        vertical-align: middle;\n",
       "    }\n",
       "\n",
       "    .dataframe tbody tr th {\n",
       "        vertical-align: top;\n",
       "    }\n",
       "\n",
       "    .dataframe thead th {\n",
       "        text-align: right;\n",
       "    }\n",
       "</style>\n",
       "<table border=\"1\" class=\"dataframe\">\n",
       "  <thead>\n",
       "    <tr style=\"text-align: right;\">\n",
       "      <th></th>\n",
       "      <th>Ministerio</th>\n",
       "      <th>Cargo</th>\n",
       "      <th>Sexo</th>\n",
       "      <th>Sueldo bruto</th>\n",
       "      <th>AFP</th>\n",
       "      <th>SFS</th>\n",
       "      <th>Sueldo neto</th>\n",
       "    </tr>\n",
       "  </thead>\n",
       "  <tbody>\n",
       "    <tr>\n",
       "      <th>0</th>\n",
       "      <td>Mujer</td>\n",
       "      <td>MINISTRO (A) DE LA MUJER</td>\n",
       "      <td>FEMENINO</td>\n",
       "      <td>300000.0</td>\n",
       "      <td>8610.0</td>\n",
       "      <td>4943.8</td>\n",
       "      <td>221471.46</td>\n",
       "    </tr>\n",
       "    <tr>\n",
       "      <th>1</th>\n",
       "      <td>Mujer</td>\n",
       "      <td>MENSAJERO INTERNO</td>\n",
       "      <td>FEMENINO</td>\n",
       "      <td>25000.0</td>\n",
       "      <td>717.5</td>\n",
       "      <td>760.0</td>\n",
       "      <td>23497.5</td>\n",
       "    </tr>\n",
       "    <tr>\n",
       "      <th>2</th>\n",
       "      <td>Mujer</td>\n",
       "      <td>SECRETARIA</td>\n",
       "      <td>FEMENINO</td>\n",
       "      <td>27000.0</td>\n",
       "      <td>774.9</td>\n",
       "      <td>820.8</td>\n",
       "      <td>25279.3</td>\n",
       "    </tr>\n",
       "    <tr>\n",
       "      <th>3</th>\n",
       "      <td>Mujer</td>\n",
       "      <td>ASESOR</td>\n",
       "      <td>FEMENINO</td>\n",
       "      <td>23000.0</td>\n",
       "      <td>660.1</td>\n",
       "      <td>699.2</td>\n",
       "      <td>20222.7</td>\n",
       "    </tr>\n",
       "    <tr>\n",
       "      <th>4</th>\n",
       "      <td>Mujer</td>\n",
       "      <td>SECRETARIA EJECUTIVA</td>\n",
       "      <td>FEMENINO</td>\n",
       "      <td>40000.0</td>\n",
       "      <td>1148.0</td>\n",
       "      <td>1216.0</td>\n",
       "      <td>37168.35</td>\n",
       "    </tr>\n",
       "    <tr>\n",
       "      <th>...</th>\n",
       "      <td>...</td>\n",
       "      <td>...</td>\n",
       "      <td>...</td>\n",
       "      <td>...</td>\n",
       "      <td>...</td>\n",
       "      <td>...</td>\n",
       "      <td>...</td>\n",
       "    </tr>\n",
       "    <tr>\n",
       "      <th>872</th>\n",
       "      <td>Trabajo</td>\n",
       "      <td>ANALISTA</td>\n",
       "      <td>MASCULINO</td>\n",
       "      <td>41.000,00</td>\n",
       "      <td>4087.7</td>\n",
       "      <td>4153.3</td>\n",
       "      <td>37.968,11</td>\n",
       "    </tr>\n",
       "    <tr>\n",
       "      <th>873</th>\n",
       "      <td>Trabajo</td>\n",
       "      <td>SOPORTE ADMINISTRATIVO</td>\n",
       "      <td>MASCULINO</td>\n",
       "      <td>46.000,00</td>\n",
       "      <td>4586.2</td>\n",
       "      <td>4659.8</td>\n",
       "      <td>41.966,94</td>\n",
       "    </tr>\n",
       "    <tr>\n",
       "      <th>874</th>\n",
       "      <td>Trabajo</td>\n",
       "      <td>SECRETARIO (A)</td>\n",
       "      <td>FEMENINO</td>\n",
       "      <td>34.000,00</td>\n",
       "      <td>3389.8</td>\n",
       "      <td>3444.2</td>\n",
       "      <td>31.965,60</td>\n",
       "    </tr>\n",
       "    <tr>\n",
       "      <th>875</th>\n",
       "      <td>Trabajo</td>\n",
       "      <td>SECRETARIO (A)</td>\n",
       "      <td>FEMENINO</td>\n",
       "      <td>34.000,00</td>\n",
       "      <td>3389.8</td>\n",
       "      <td>3444.2</td>\n",
       "      <td>31.965,60</td>\n",
       "    </tr>\n",
       "    <tr>\n",
       "      <th>876</th>\n",
       "      <td>Trabajo</td>\n",
       "      <td>AUXILIAR ADMINISTRATIVO I</td>\n",
       "      <td>FEMENINO</td>\n",
       "      <td>34.000,00</td>\n",
       "      <td>3389.8</td>\n",
       "      <td>3444.2</td>\n",
       "      <td>31.965,60</td>\n",
       "    </tr>\n",
       "  </tbody>\n",
       "</table>\n",
       "<p>11041 rows × 7 columns</p>\n",
       "</div>"
      ],
      "text/plain": [
       "    Ministerio                      Cargo       Sexo Sueldo bruto     AFP  \\\n",
       "0        Mujer   MINISTRO (A) DE LA MUJER  FEMENINO      300000.0  8610.0   \n",
       "1        Mujer          MENSAJERO INTERNO  FEMENINO       25000.0   717.5   \n",
       "2        Mujer                 SECRETARIA  FEMENINO       27000.0   774.9   \n",
       "3        Mujer                     ASESOR  FEMENINO       23000.0   660.1   \n",
       "4        Mujer       SECRETARIA EJECUTIVA  FEMENINO       40000.0  1148.0   \n",
       "..         ...                        ...        ...          ...     ...   \n",
       "872    Trabajo                   ANALISTA  MASCULINO    41.000,00  4087.7   \n",
       "873    Trabajo     SOPORTE ADMINISTRATIVO  MASCULINO    46.000,00  4586.2   \n",
       "874    Trabajo             SECRETARIO (A)   FEMENINO    34.000,00  3389.8   \n",
       "875    Trabajo             SECRETARIO (A)   FEMENINO    34.000,00  3389.8   \n",
       "876    Trabajo  AUXILIAR ADMINISTRATIVO I   FEMENINO    34.000,00  3389.8   \n",
       "\n",
       "        SFS Sueldo neto  \n",
       "0    4943.8   221471.46  \n",
       "1     760.0     23497.5  \n",
       "2     820.8     25279.3  \n",
       "3     699.2     20222.7  \n",
       "4    1216.0    37168.35  \n",
       "..      ...         ...  \n",
       "872  4153.3   37.968,11  \n",
       "873  4659.8   41.966,94  \n",
       "874  3444.2   31.965,60  \n",
       "875  3444.2   31.965,60  \n",
       "876  3444.2   31.965,60  \n",
       "\n",
       "[11041 rows x 7 columns]"
      ]
     },
     "execution_count": 104,
     "metadata": {},
     "output_type": "execute_result"
    }
   ],
   "source": [
    "df_ministerios"
   ]
  },
  {
   "cell_type": "markdown",
   "metadata": {},
   "source": [
    "## Procesamiento de datos"
   ]
  },
  {
   "cell_type": "code",
   "execution_count": null,
   "metadata": {},
   "outputs": [],
   "source": [
    "# Normalizando la caracteristica Sexo\n",
    "df_ministerios.rename(columns={\"Sexo\": \"Es_Masculino\"}, inplace=True)\n",
    "\n",
    "df_ministerios[\"Es_Masculino\"] = df_ministerios[\"Es_Masculino\"].apply(lambda genero:  0 if \"f\" in genero.lower() else 1).astype(\"int64\")"
   ]
  },
  {
   "cell_type": "code",
   "execution_count": null,
   "metadata": {},
   "outputs": [
    {
     "name": "stdout",
     "output_type": "stream",
     "text": [
      "{\"<class 'float'>\": 10164, \"<class 'str'>\": 877}\n"
     ]
    }
   ],
   "source": [
    "# Normalizando la caracteristica Sueldo bruto\n",
    "types = {}\n",
    "for bruto in df_ministerios[\"Sueldo bruto\"]:\n",
    "    tipo = str(type(bruto))\n",
    "    if tipo not in types:\n",
    "        types[tipo] = 0\n",
    "    types[tipo] += 1\n",
    "\n",
    "print(types)"
   ]
  },
  {
   "cell_type": "code",
   "execution_count": null,
   "metadata": {},
   "outputs": [],
   "source": [
    "def convertir_a_float(bruto):\n",
    "    try:\n",
    "        return float(bruto)\n",
    "    except ValueError:\n",
    "        return float(bruto.replace('.', '').replace(',', '.'))\n",
    "\n",
    "# Aplicar la función a la columna \"Sueldo bruto\"\n",
    "df_ministerios[\"Sueldo bruto\"] = df_ministerios[\"Sueldo bruto\"].apply(convertir_a_float)"
   ]
  },
  {
   "cell_type": "code",
   "execution_count": null,
   "metadata": {},
   "outputs": [
    {
     "name": "stdout",
     "output_type": "stream",
     "text": [
      "{\"<class 'float'>\": 10164, \"<class 'str'>\": 877}\n"
     ]
    }
   ],
   "source": [
    "# Normalizando la caracteristica Sueldo neto\n",
    "types = {}\n",
    "for bruto in df_ministerios[\"Sueldo neto\"]:\n",
    "    tipo = str(type(bruto))\n",
    "    if tipo not in types:\n",
    "        types[tipo] = 0\n",
    "    types[tipo] += 1\n",
    "\n",
    "print(types)"
   ]
  },
  {
   "cell_type": "code",
   "execution_count": null,
   "metadata": {},
   "outputs": [],
   "source": [
    "def convertir_a_float(bruto):\n",
    "    try:\n",
    "        return float(bruto)\n",
    "    except ValueError:\n",
    "        return float(bruto.replace('.', '').replace(',', '.'))\n",
    "\n",
    "# Aplicar la función a la columna \"Sueldo bruto\"\n",
    "df_ministerios[\"Sueldo neto\"] = df_ministerios[\"Sueldo neto\"].apply(convertir_a_float)"
   ]
  },
  {
   "cell_type": "code",
   "execution_count": null,
   "metadata": {},
   "outputs": [
    {
     "name": "stdout",
     "output_type": "stream",
     "text": [
      "df_ministerios is written to CSV File successfully.\n"
     ]
    }
   ],
   "source": [
    "# route\n",
    "file_name = 'Datasets/Clean_Ministerios.csv'\n",
    "\n",
    "# saving the excel\n",
    "df_ministerios.to_csv(file_name)\n",
    "print('df_ministerios is written to CSV File successfully.')"
   ]
  },
  {
   "cell_type": "markdown",
   "metadata": {},
   "source": [
    "### Columnas Categoricas"
   ]
  },
  {
   "cell_type": "code",
   "execution_count": null,
   "metadata": {},
   "outputs": [
    {
     "data": {
      "text/plain": [
       "Cargo\n",
       "AGENTE  VTP                                                 13.757812\n",
       "AUXILIAR ADMINISTRATIVO                                      6.638891\n",
       "ABOGADO (A) I                                                6.013948\n",
       "CONSERJE                                                     5.678833\n",
       "FISCALIZADOR                                                 4.483290\n",
       "                                                              ...    \n",
       "Coordinador de Organismos Internacionales                    0.009057\n",
       "Analista de Estudios y Políticas Tributarias I               0.009057\n",
       "Analista de Estudios y Proyecciones de la Recaudación II     0.009057\n",
       "Analista Recursos Humanos I                                  0.009057\n",
       "ENCARGADO UNIDAD                                             0.009057\n",
       "Name: proportion, Length: 745, dtype: float64"
      ]
     },
     "execution_count": 111,
     "metadata": {},
     "output_type": "execute_result"
    }
   ],
   "source": [
    "counts = df_ministerios[\"Cargo\"].value_counts(normalize=True)*100\n",
    "counts"
   ]
  },
  {
   "cell_type": "code",
   "execution_count": null,
   "metadata": {},
   "outputs": [
    {
     "data": {
      "text/plain": [
       "Cargo\n",
       "ABOGADO    845\n",
       "Name: count, dtype: int64"
      ]
     },
     "execution_count": 112,
     "metadata": {},
     "output_type": "execute_result"
    }
   ],
   "source": [
    "df_ministerios[\"Cargo\"].value_counts(normalize=True)*100\n",
    "\n",
    "#Estandarizando los Abogados\n",
    "df_ministerios['Cargo'] = df_ministerios['Cargo'].apply(lambda x: \"ABOGADO\" if re.search(\"ABOGAD\", x) else x)\n",
    "\n",
    "Abogados = df_ministerios[df_ministerios['Cargo'].str.contains(\"ABOGAD\")]['Cargo']\n",
    "Abogados.value_counts()\n",
    "\n",
    "  "
   ]
  },
  {
   "cell_type": "code",
   "execution_count": null,
   "metadata": {},
   "outputs": [],
   "source": [
    "# funcion para normalizar columnas\n",
    "def normalize_column(column_name, field_name, field_new_name, df):\n",
    "    df[column_name] = df[column_name].apply\\\n",
    "    (\n",
    "        lambda x: field_new_name.upper() if re.search(field_name.upper(), str(x.upper())) else x.upper()\n",
    "    )\n",
    "    print(f\"Se normalizó el campo {field_new_name}\")\n"
   ]
  },
  {
   "cell_type": "code",
   "execution_count": null,
   "metadata": {},
   "outputs": [
    {
     "name": "stdout",
     "output_type": "stream",
     "text": [
      "Se normalizó el campo SECRETARIO\n",
      "Se normalizó el campo SECRETARIO\n"
     ]
    },
    {
     "name": "stderr",
     "output_type": "stream",
     "text": [
      "<>:3: SyntaxWarning: invalid escape sequence '\\.'\n",
      "<>:3: SyntaxWarning: invalid escape sequence '\\.'\n",
      "C:\\Users\\oniel\\AppData\\Local\\Temp\\ipykernel_22512\\3284197886.py:3: SyntaxWarning: invalid escape sequence '\\.'\n",
      "  normalize_column('Cargo', \"SEC\\.\", \"SECRETARIO\", df_ministerios)\n"
     ]
    }
   ],
   "source": [
    "# Normalizando el campo secretaria\n",
    "normalize_column('Cargo', \"SECRETARI\", \"SECRETARIO\", df_ministerios)\n",
    "normalize_column('Cargo', \"SEC\\.\", \"SECRETARIO\", df_ministerios)"
   ]
  },
  {
   "cell_type": "code",
   "execution_count": null,
   "metadata": {},
   "outputs": [
    {
     "data": {
      "text/plain": [
       "Cargo\n",
       "SECRETARIO    733\n",
       "Name: count, dtype: int64"
      ]
     },
     "execution_count": 115,
     "metadata": {},
     "output_type": "execute_result"
    }
   ],
   "source": [
    "# Normalizando el campo secretario\n",
    "Secretario = df_ministerios[df_ministerios['Cargo'].str.contains(\"SECRETARI\")]['Cargo']\n",
    "Secretario.value_counts()"
   ]
  },
  {
   "cell_type": "code",
   "execution_count": null,
   "metadata": {},
   "outputs": [
    {
     "name": "stdout",
     "output_type": "stream",
     "text": [
      "Se normalizó el campo ANALISTA\n"
     ]
    }
   ],
   "source": [
    "# Normalizando campo analista\n",
    "normalize_column('Cargo', \"ANALIST\", \"ANALISTA\", df_ministerios)"
   ]
  },
  {
   "cell_type": "code",
   "execution_count": null,
   "metadata": {},
   "outputs": [
    {
     "data": {
      "text/plain": [
       "Cargo\n",
       "ANALISTA    375\n",
       "Name: count, dtype: int64"
      ]
     },
     "execution_count": 117,
     "metadata": {},
     "output_type": "execute_result"
    }
   ],
   "source": [
    "# revisando los valores de analista\n",
    "Analista = df_ministerios[df_ministerios['Cargo'].str.contains(\"ANALIST\")]['Cargo']\n",
    "Analista.value_counts()"
   ]
  },
  {
   "cell_type": "code",
   "execution_count": null,
   "metadata": {},
   "outputs": [
    {
     "name": "stdout",
     "output_type": "stream",
     "text": [
      "Se normalizó el campo ENCARGADO\n",
      "Se normalizó el campo ENCARGADO\n"
     ]
    },
    {
     "name": "stderr",
     "output_type": "stream",
     "text": [
      "<>:3: SyntaxWarning: invalid escape sequence '\\.'\n",
      "<>:3: SyntaxWarning: invalid escape sequence '\\.'\n",
      "C:\\Users\\oniel\\AppData\\Local\\Temp\\ipykernel_22512\\2804071411.py:3: SyntaxWarning: invalid escape sequence '\\.'\n",
      "  normalize_column('Cargo', \"ENC\\.\", \"ENCARGADO\", df_ministerios)\n"
     ]
    }
   ],
   "source": [
    "# Normalizando campo ENCARGADO \n",
    "normalize_column('Cargo', \"ENCARGAD\", \"ENCARGADO\", df_ministerios)\n",
    "normalize_column('Cargo', \"ENC\\.\", \"ENCARGADO\", df_ministerios)"
   ]
  },
  {
   "cell_type": "code",
   "execution_count": null,
   "metadata": {},
   "outputs": [
    {
     "data": {
      "text/plain": [
       "Cargo\n",
       "ENCARGADO    720\n",
       "Name: count, dtype: int64"
      ]
     },
     "execution_count": 119,
     "metadata": {},
     "output_type": "execute_result"
    }
   ],
   "source": [
    "# revisando los valores de encargado\n",
    "Encargado = df_ministerios[df_ministerios['Cargo'].str.contains(\"ENCARGAD\")]['Cargo']\n",
    "Encargado.value_counts()"
   ]
  },
  {
   "cell_type": "code",
   "execution_count": null,
   "metadata": {},
   "outputs": [
    {
     "name": "stdout",
     "output_type": "stream",
     "text": [
      "Se normalizó el campo COORDINADOR\n"
     ]
    }
   ],
   "source": [
    "# Normalizando campo coordinador \n",
    "normalize_column('Cargo', \"COORDINAD\", \"COORDINADOR\", df_ministerios)"
   ]
  },
  {
   "cell_type": "code",
   "execution_count": null,
   "metadata": {},
   "outputs": [
    {
     "data": {
      "text/plain": [
       "Cargo\n",
       "COORDINADOR    166\n",
       "Name: count, dtype: int64"
      ]
     },
     "execution_count": 121,
     "metadata": {},
     "output_type": "execute_result"
    }
   ],
   "source": [
    "# revisando los valores de coordinador\n",
    "Coordinador = df_ministerios[df_ministerios['Cargo'].str.contains(\"COORDINAD\")]['Cargo']\n",
    "Coordinador.value_counts()"
   ]
  },
  {
   "cell_type": "code",
   "execution_count": null,
   "metadata": {},
   "outputs": [
    {
     "name": "stdout",
     "output_type": "stream",
     "text": [
      "Se normalizó el campo FISCALIZADOR\n"
     ]
    }
   ],
   "source": [
    "# Normalizando campo Fiscalizador \n",
    "normalize_column('Cargo', \"FISCALIZAD\", \"FISCALIZADOR\", df_ministerios)"
   ]
  },
  {
   "cell_type": "code",
   "execution_count": null,
   "metadata": {},
   "outputs": [
    {
     "data": {
      "text/plain": [
       "Cargo\n",
       "FISCALIZADOR    498\n",
       "Name: count, dtype: int64"
      ]
     },
     "execution_count": 123,
     "metadata": {},
     "output_type": "execute_result"
    }
   ],
   "source": [
    "# revisando Fiscalizador\n",
    "Fiscalizador = df_ministerios[df_ministerios['Cargo'].str.contains(\"FISCALIZAD\")]['Cargo']\n",
    "Fiscalizador.value_counts()"
   ]
  },
  {
   "cell_type": "code",
   "execution_count": null,
   "metadata": {},
   "outputs": [
    {
     "name": "stdout",
     "output_type": "stream",
     "text": [
      "Se normalizó el campo INSPECTOR\n"
     ]
    }
   ],
   "source": [
    "# Normalizando campo INSPECTOR \n",
    "normalize_column('Cargo', \"INSPECT\", \"INSPECTOR\", df_ministerios)"
   ]
  },
  {
   "cell_type": "code",
   "execution_count": null,
   "metadata": {},
   "outputs": [
    {
     "name": "stdout",
     "output_type": "stream",
     "text": [
      "Se normalizó el campo INSPECTOR\n"
     ]
    }
   ],
   "source": [
    "# Normalizando campo INSPECTOR \n",
    "normalize_column('Cargo', \"INSPECT\", \"INSPECTOR\", df_ministerios)"
   ]
  },
  {
   "cell_type": "code",
   "execution_count": null,
   "metadata": {},
   "outputs": [
    {
     "name": "stdout",
     "output_type": "stream",
     "text": [
      "Se normalizó el campo SUPERVISOR\n"
     ]
    }
   ],
   "source": [
    "# Normalizando campo SUPERVISOR \n",
    "normalize_column('Cargo', \"SUPERVI\", \"SUPERVISOR\", df_ministerios)"
   ]
  },
  {
   "cell_type": "code",
   "execution_count": null,
   "metadata": {},
   "outputs": [
    {
     "data": {
      "text/plain": [
       "Cargo\n",
       "SUPERVISOR    279\n",
       "Name: count, dtype: int64"
      ]
     },
     "execution_count": 127,
     "metadata": {},
     "output_type": "execute_result"
    }
   ],
   "source": [
    "# revisando SUPERVISOR\n",
    "var = df_ministerios[df_ministerios['Cargo'].str.contains(\"SUPERVI\")]['Cargo']\n",
    "var.value_counts()"
   ]
  },
  {
   "cell_type": "code",
   "execution_count": null,
   "metadata": {},
   "outputs": [
    {
     "name": "stdout",
     "output_type": "stream",
     "text": [
      "Se normalizó el campo CHOFER\n"
     ]
    }
   ],
   "source": [
    "# Normalizando campo CHOFER \n",
    "normalize_column('Cargo', \"CHOF\", \"CHOFER\", df_ministerios)"
   ]
  },
  {
   "cell_type": "code",
   "execution_count": null,
   "metadata": {},
   "outputs": [
    {
     "data": {
      "text/plain": [
       "Cargo\n",
       "CHOFER    497\n",
       "Name: count, dtype: int64"
      ]
     },
     "execution_count": 129,
     "metadata": {},
     "output_type": "execute_result"
    }
   ],
   "source": [
    "# revisando chofer\n",
    "var = df_ministerios[df_ministerios['Cargo'].str.contains(\"CHOF\")]['Cargo']\n",
    "var.value_counts()"
   ]
  },
  {
   "cell_type": "code",
   "execution_count": null,
   "metadata": {},
   "outputs": [
    {
     "name": "stdout",
     "output_type": "stream",
     "text": [
      "Se normalizó el campo ADMINISTRADOR\n"
     ]
    }
   ],
   "source": [
    "# Normalizando campo ADMINISTRADOR \n",
    "normalize_column('Cargo', \"ADMINISTRAD\", \"ADMINISTRADOR\", df_ministerios)"
   ]
  },
  {
   "cell_type": "code",
   "execution_count": null,
   "metadata": {},
   "outputs": [
    {
     "data": {
      "text/plain": [
       "Cargo\n",
       "ADMINISTRADOR    35\n",
       "Name: count, dtype: int64"
      ]
     },
     "execution_count": 131,
     "metadata": {},
     "output_type": "execute_result"
    }
   ],
   "source": [
    "# revisando ADMINISTRADOR\n",
    "var = df_ministerios[df_ministerios['Cargo'].str.contains(\"ADMINISTRAD\")]['Cargo']\n",
    "var.value_counts()"
   ]
  },
  {
   "cell_type": "code",
   "execution_count": null,
   "metadata": {},
   "outputs": [
    {
     "name": "stdout",
     "output_type": "stream",
     "text": [
      "Se normalizó el campo DISEÑADOR\n"
     ]
    }
   ],
   "source": [
    "# Normalizando campo INSPECTOR \n",
    "normalize_column('Cargo', \"DISE\", \"DISEÑADOR\", df_ministerios)"
   ]
  },
  {
   "cell_type": "code",
   "execution_count": null,
   "metadata": {},
   "outputs": [
    {
     "data": {
      "text/plain": [
       "Cargo\n",
       "DISEÑADOR    18\n",
       "Name: count, dtype: int64"
      ]
     },
     "execution_count": 133,
     "metadata": {},
     "output_type": "execute_result"
    }
   ],
   "source": [
    "# revisando DISEÑADOR\n",
    "var = df_ministerios[df_ministerios['Cargo'].str.contains(\"DISE\")]['Cargo']\n",
    "var.value_counts()"
   ]
  },
  {
   "cell_type": "code",
   "execution_count": null,
   "metadata": {},
   "outputs": [
    {
     "name": "stdout",
     "output_type": "stream",
     "text": [
      "Se normalizó el campo OPERADOR\n"
     ]
    }
   ],
   "source": [
    "# Normalizando campo OPERADOR \n",
    "normalize_column('Cargo', \"OPERAD\", \"OPERADOR\", df_ministerios)"
   ]
  },
  {
   "cell_type": "code",
   "execution_count": null,
   "metadata": {},
   "outputs": [
    {
     "data": {
      "text/plain": [
       "Cargo\n",
       "OPERADOR    22\n",
       "Name: count, dtype: int64"
      ]
     },
     "execution_count": 135,
     "metadata": {},
     "output_type": "execute_result"
    }
   ],
   "source": [
    "# revisando OPERADOR\n",
    "var = df_ministerios[df_ministerios['Cargo'].str.contains(\"OPERAD\")]['Cargo']\n",
    "var.value_counts()"
   ]
  },
  {
   "cell_type": "code",
   "execution_count": null,
   "metadata": {},
   "outputs": [
    {
     "name": "stdout",
     "output_type": "stream",
     "text": [
      "Se normalizó el campo AUXILIAR\n"
     ]
    }
   ],
   "source": [
    "# Normalizando campo AUXILIAR  \n",
    "normalize_column('Cargo', \"AUX\", \"AUXILIAR\", df_ministerios)"
   ]
  },
  {
   "cell_type": "code",
   "execution_count": null,
   "metadata": {},
   "outputs": [
    {
     "data": {
      "text/plain": [
       "Cargo\n",
       "AUXILIAR    1176\n",
       "Name: count, dtype: int64"
      ]
     },
     "execution_count": 137,
     "metadata": {},
     "output_type": "execute_result"
    }
   ],
   "source": [
    "# revisando AUXILIAR \n",
    "var = df_ministerios[df_ministerios['Cargo'].str.contains(\"AUXILI\")]['Cargo']\n",
    "var.value_counts()"
   ]
  },
  {
   "cell_type": "code",
   "execution_count": null,
   "metadata": {},
   "outputs": [
    {
     "name": "stdout",
     "output_type": "stream",
     "text": [
      "Se normalizó el campo ORIENTADOR\n"
     ]
    }
   ],
   "source": [
    "# Normalizando campo ORIENTADOR \n",
    "normalize_column('Cargo', \"ORIENT\", \"ORIENTADOR\", df_ministerios)"
   ]
  },
  {
   "cell_type": "code",
   "execution_count": null,
   "metadata": {},
   "outputs": [
    {
     "data": {
      "text/plain": [
       "Cargo\n",
       "ORIENTADOR    7\n",
       "Name: count, dtype: int64"
      ]
     },
     "execution_count": 139,
     "metadata": {},
     "output_type": "execute_result"
    }
   ],
   "source": [
    "# revisando ORIENTADOR\n",
    "var = df_ministerios[df_ministerios['Cargo'].str.contains(\"ORIENT\")]['Cargo']\n",
    "var.value_counts()"
   ]
  },
  {
   "cell_type": "code",
   "execution_count": null,
   "metadata": {},
   "outputs": [
    {
     "name": "stdout",
     "output_type": "stream",
     "text": [
      "Se normalizó el campo MENSAJERO\n"
     ]
    }
   ],
   "source": [
    "# Normalizando campo MENSAJERO  \n",
    "normalize_column('Cargo', \"MENSAJ\", \"MENSAJERO\", df_ministerios)"
   ]
  },
  {
   "cell_type": "code",
   "execution_count": null,
   "metadata": {},
   "outputs": [
    {
     "data": {
      "text/plain": [
       "Cargo\n",
       "MENSAJERO    304\n",
       "Name: count, dtype: int64"
      ]
     },
     "execution_count": 141,
     "metadata": {},
     "output_type": "execute_result"
    }
   ],
   "source": [
    "# revisando MENSAJERO\n",
    "var = df_ministerios[df_ministerios['Cargo'].str.contains(\"MENSAJ\")]['Cargo']\n",
    "var.value_counts()"
   ]
  },
  {
   "cell_type": "code",
   "execution_count": null,
   "metadata": {},
   "outputs": [
    {
     "name": "stdout",
     "output_type": "stream",
     "text": [
      "Se normalizó el campo SUBDIRECTOR\n",
      "Se normalizó el campo SUBDIRECTOR\n"
     ]
    }
   ],
   "source": [
    "# Normalizando campo SUBDIRECTOR   \n",
    "normalize_column('Cargo', \"SUBDIREC\", \"SUBDIRECTOR\", df_ministerios)\n",
    "normalize_column('Cargo', \"SUB-DIREC\", \"SUBDIRECTOR\", df_ministerios)"
   ]
  },
  {
   "cell_type": "code",
   "execution_count": null,
   "metadata": {},
   "outputs": [
    {
     "data": {
      "text/plain": [
       "Cargo\n",
       "SUBDIRECTOR    110\n",
       "Name: count, dtype: int64"
      ]
     },
     "execution_count": 143,
     "metadata": {},
     "output_type": "execute_result"
    }
   ],
   "source": [
    "# revisando SUBDIRECTOR\n",
    "var = df_ministerios[df_ministerios['Cargo'].str.contains(\"SUBDIREC\")]['Cargo']\n",
    "var.value_counts()"
   ]
  },
  {
   "cell_type": "code",
   "execution_count": null,
   "metadata": {},
   "outputs": [
    {
     "name": "stdout",
     "output_type": "stream",
     "text": [
      "Se normalizó el campo SOPORTE\n"
     ]
    }
   ],
   "source": [
    "# Normalizando campo SOPORTE  \n",
    "normalize_column('Cargo', \"SOPOR\", \"SOPORTE\", df_ministerios)"
   ]
  },
  {
   "cell_type": "code",
   "execution_count": null,
   "metadata": {},
   "outputs": [
    {
     "data": {
      "text/plain": [
       "Cargo\n",
       "SOPORTE    99\n",
       "Name: count, dtype: int64"
      ]
     },
     "execution_count": 145,
     "metadata": {},
     "output_type": "execute_result"
    }
   ],
   "source": [
    "# revisando SOPORTE\n",
    "var = df_ministerios[df_ministerios['Cargo'].str.contains(\"SOPOR\")]['Cargo']\n",
    "var.value_counts()"
   ]
  },
  {
   "cell_type": "code",
   "execution_count": null,
   "metadata": {},
   "outputs": [
    {
     "name": "stdout",
     "output_type": "stream",
     "text": [
      "Se normalizó el campo VICEMINISTRO\n"
     ]
    }
   ],
   "source": [
    "# Normalizando campo VICEMINISTRO                   \n",
    "normalize_column('Cargo', \"VICE\", \"VICEMINISTRO\", df_ministerios)"
   ]
  },
  {
   "cell_type": "code",
   "execution_count": null,
   "metadata": {},
   "outputs": [
    {
     "data": {
      "text/plain": [
       "Cargo\n",
       "VICEMINISTRO    31\n",
       "Name: count, dtype: int64"
      ]
     },
     "execution_count": 147,
     "metadata": {},
     "output_type": "execute_result"
    }
   ],
   "source": [
    "# revisando VICEMINISTRO                 \n",
    "var = df_ministerios[df_ministerios['Cargo'].str.contains(\"VICEMINIS\")]['Cargo']\n",
    "var.value_counts()"
   ]
  },
  {
   "cell_type": "code",
   "execution_count": null,
   "metadata": {},
   "outputs": [
    {
     "name": "stdout",
     "output_type": "stream",
     "text": [
      "Se normalizó el campo TECNICO\n",
      "Se normalizó el campo TECNICO\n"
     ]
    }
   ],
   "source": [
    "# Normalizando campo TECNICO   \n",
    "normalize_column('Cargo', \"TECNI\", \"TECNICO\", df_ministerios)\n",
    "normalize_column('Cargo', \"TÉCNI\", \"TECNICO\", df_ministerios)"
   ]
  },
  {
   "cell_type": "code",
   "execution_count": null,
   "metadata": {},
   "outputs": [
    {
     "data": {
      "text/plain": [
       "Cargo\n",
       "TECNICO    482\n",
       "Name: count, dtype: int64"
      ]
     },
     "execution_count": 149,
     "metadata": {},
     "output_type": "execute_result"
    }
   ],
   "source": [
    "# revisando TECNICO\n",
    "var = df_ministerios[df_ministerios['Cargo'].str.contains(\"TECNI\")]['Cargo']\n",
    "var.value_counts()"
   ]
  },
  {
   "cell_type": "code",
   "execution_count": null,
   "metadata": {},
   "outputs": [
    {
     "name": "stdout",
     "output_type": "stream",
     "text": [
      "Se normalizó el campo DIRECTOR\n",
      "Se normalizó el campo DIRECTOR\n",
      "Se normalizó el campo DIRECTOR\n"
     ]
    },
    {
     "name": "stderr",
     "output_type": "stream",
     "text": [
      "<>:4: SyntaxWarning: invalid escape sequence '\\('\n",
      "<>:4: SyntaxWarning: invalid escape sequence '\\('\n",
      "C:\\Users\\oniel\\AppData\\Local\\Temp\\ipykernel_22512\\2228616404.py:4: SyntaxWarning: invalid escape sequence '\\('\n",
      "  normalize_column('Cargo', \"DIRECTOR\\(A\\)\", \"DIRECTOR\", df_ministerios)\n"
     ]
    }
   ],
   "source": [
    "# Normalizando campo   \n",
    "normalize_column('Cargo', \"DIRECTOR \", \"DIRECTOR\", df_ministerios)\n",
    "normalize_column('Cargo', \"DIRECTORA\", \"DIRECTOR\", df_ministerios)\n",
    "normalize_column('Cargo', \"DIRECTOR\\(A\\)\", \"DIRECTOR\", df_ministerios)"
   ]
  },
  {
   "cell_type": "code",
   "execution_count": null,
   "metadata": {},
   "outputs": [
    {
     "data": {
      "text/plain": [
       "Cargo\n",
       "SUBDIRECTOR     110\n",
       "DIRECTOR         80\n",
       "SUB DIRECTOR      1\n",
       "Name: count, dtype: int64"
      ]
     },
     "execution_count": 151,
     "metadata": {},
     "output_type": "execute_result"
    }
   ],
   "source": [
    "# revisando ORIENTADOR\n",
    "var = df_ministerios[df_ministerios['Cargo'].str.contains(\"DIRECTOR\")]['Cargo']\n",
    "var.value_counts()"
   ]
  },
  {
   "cell_type": "code",
   "execution_count": null,
   "metadata": {},
   "outputs": [
    {
     "name": "stdout",
     "output_type": "stream",
     "text": [
      "Se normalizó el campo PSICOLOGO\n"
     ]
    }
   ],
   "source": [
    "# Normalizando campo psicologo\n",
    "normalize_column('Cargo', \"PSICO\", \"PSICOLOGO\", df_ministerios)"
   ]
  },
  {
   "cell_type": "code",
   "execution_count": null,
   "metadata": {},
   "outputs": [
    {
     "data": {
      "text/plain": [
       "Cargo\n",
       "PSICOLOGO    19\n",
       "Name: count, dtype: int64"
      ]
     },
     "execution_count": 153,
     "metadata": {},
     "output_type": "execute_result"
    }
   ],
   "source": [
    "# revisando PSIICOLOGO\n",
    "var = df_ministerios[df_ministerios['Cargo'].str.contains(\"PSICO\")]['Cargo']\n",
    "var.value_counts()"
   ]
  },
  {
   "cell_type": "code",
   "execution_count": null,
   "metadata": {},
   "outputs": [
    {
     "name": "stdout",
     "output_type": "stream",
     "text": [
      "Se normalizó el campo ASESOR\n"
     ]
    }
   ],
   "source": [
    "# Normalizando campo ASESOR \n",
    "normalize_column('Cargo', \"ASES\", \"ASESOR\", df_ministerios)"
   ]
  },
  {
   "cell_type": "code",
   "execution_count": null,
   "metadata": {},
   "outputs": [
    {
     "data": {
      "text/plain": [
       "Cargo\n",
       "ASESOR    26\n",
       "Name: count, dtype: int64"
      ]
     },
     "execution_count": 155,
     "metadata": {},
     "output_type": "execute_result"
    }
   ],
   "source": [
    "# revisando ASESOR \n",
    "var = df_ministerios[df_ministerios['Cargo'].str.contains(\"ASES\")]['Cargo']\n",
    "var.value_counts()"
   ]
  },
  {
   "cell_type": "code",
   "execution_count": null,
   "metadata": {},
   "outputs": [
    {
     "name": "stdout",
     "output_type": "stream",
     "text": [
      "Se normalizó el campo MINISTRO\n"
     ]
    }
   ],
   "source": [
    "# Normalizando campo MINISTRO \n",
    "normalize_column('Cargo', \"MINISTRO \", \"MINISTRO\", df_ministerios)"
   ]
  },
  {
   "cell_type": "code",
   "execution_count": null,
   "metadata": {},
   "outputs": [
    {
     "data": {
      "text/plain": [
       "Cargo\n",
       "VICEMINISTRO              31\n",
       "MINISTRO                   4\n",
       "ASISTENTE DEL MINISTRO     1\n",
       "Name: count, dtype: int64"
      ]
     },
     "execution_count": 157,
     "metadata": {},
     "output_type": "execute_result"
    }
   ],
   "source": [
    "# revisando MINISTRO \n",
    "var = df_ministerios[df_ministerios['Cargo'].str.contains(\"MINISTRO\")]['Cargo']\n",
    "var.value_counts()"
   ]
  },
  {
   "cell_type": "code",
   "execution_count": null,
   "metadata": {},
   "outputs": [
    {
     "name": "stdout",
     "output_type": "stream",
     "text": [
      "Se normalizó el campo AGENTE\n"
     ]
    }
   ],
   "source": [
    "# Normalizando campo AGENTE  \n",
    "normalize_column('Cargo', \"AGENT\", \"AGENTE\", df_ministerios)"
   ]
  },
  {
   "cell_type": "code",
   "execution_count": null,
   "metadata": {},
   "outputs": [
    {
     "data": {
      "text/plain": [
       "Cargo\n",
       "AGENTE    1546\n",
       "Name: count, dtype: int64"
      ]
     },
     "execution_count": 159,
     "metadata": {},
     "output_type": "execute_result"
    }
   ],
   "source": [
    "# revisando AGENTE \n",
    "var = df_ministerios[df_ministerios['Cargo'].str.contains(\"AGENTE\")]['Cargo']\n",
    "var.value_counts()"
   ]
  },
  {
   "cell_type": "code",
   "execution_count": null,
   "metadata": {},
   "outputs": [
    {
     "name": "stdout",
     "output_type": "stream",
     "text": [
      "Se normalizó el campo INGENIERO\n"
     ]
    }
   ],
   "source": [
    "# Normalizando campo ingeniero\n",
    "normalize_column('Cargo', \"INGENI\", \"INGENIERO\", df_ministerios)"
   ]
  },
  {
   "cell_type": "code",
   "execution_count": null,
   "metadata": {},
   "outputs": [
    {
     "data": {
      "text/plain": [
       "Cargo\n",
       "INGENIERO    19\n",
       "Name: count, dtype: int64"
      ]
     },
     "execution_count": 161,
     "metadata": {},
     "output_type": "execute_result"
    }
   ],
   "source": [
    "# revisando ORIENTADOR\n",
    "var = df_ministerios[df_ministerios['Cargo'].str.contains(\"INGENIERO\")]['Cargo']\n",
    "var.value_counts()"
   ]
  },
  {
   "cell_type": "code",
   "execution_count": null,
   "metadata": {},
   "outputs": [
    {
     "name": "stdout",
     "output_type": "stream",
     "text": [
      "Se normalizó el campo PROCURADOR\n"
     ]
    }
   ],
   "source": [
    "# Normalizando campo PROCURADOR\n",
    "normalize_column('Cargo', \"PROCURA\", \"PROCURADOR\", df_ministerios)"
   ]
  },
  {
   "cell_type": "code",
   "execution_count": null,
   "metadata": {},
   "outputs": [
    {
     "data": {
      "text/plain": [
       "Cargo\n",
       "PROCURADOR    712\n",
       "Name: count, dtype: int64"
      ]
     },
     "execution_count": 163,
     "metadata": {},
     "output_type": "execute_result"
    }
   ],
   "source": [
    "# revisando PROCURADOR \n",
    "var = df_ministerios[df_ministerios['Cargo'].str.contains(\"PROCURA\")]['Cargo']\n",
    "var.value_counts()"
   ]
  },
  {
   "cell_type": "code",
   "execution_count": null,
   "metadata": {},
   "outputs": [
    {
     "name": "stdout",
     "output_type": "stream",
     "text": [
      "Se normalizó el campo PROGRAMADOR\n"
     ]
    }
   ],
   "source": [
    "# Normalizando campo PROGRAMADOR\n",
    "normalize_column('Cargo', \"PROGRAM\", \"PROGRAMADOR\", df_ministerios)"
   ]
  },
  {
   "cell_type": "code",
   "execution_count": null,
   "metadata": {},
   "outputs": [
    {
     "data": {
      "text/plain": [
       "Cargo\n",
       "PROGRAMADOR    7\n",
       "Name: count, dtype: int64"
      ]
     },
     "execution_count": 165,
     "metadata": {},
     "output_type": "execute_result"
    }
   ],
   "source": [
    "# revisando PROGRAMADOR \n",
    "var = df_ministerios[df_ministerios['Cargo'].str.contains(\"PROGRAM\")]['Cargo']\n",
    "var.value_counts()"
   ]
  },
  {
   "cell_type": "code",
   "execution_count": null,
   "metadata": {},
   "outputs": [
    {
     "name": "stdout",
     "output_type": "stream",
     "text": [
      "Se normalizó el campo MEDICO\n",
      "Se normalizó el campo MEDICO\n"
     ]
    }
   ],
   "source": [
    "# Normalizando campo MEDICO\n",
    "normalize_column('Cargo', \"MEDIC\", \"MEDICO\", df_ministerios)\n",
    "normalize_column('Cargo', \"MÉDIC\", \"MEDICO\", df_ministerios)"
   ]
  },
  {
   "cell_type": "code",
   "execution_count": null,
   "metadata": {},
   "outputs": [
    {
     "data": {
      "text/plain": [
       "Cargo\n",
       "MEDICO    237\n",
       "Name: count, dtype: int64"
      ]
     },
     "execution_count": 167,
     "metadata": {},
     "output_type": "execute_result"
    }
   ],
   "source": [
    "# revisando MEDICO \n",
    "var = df_ministerios[df_ministerios['Cargo'].str.contains(\"MEDIC\")]['Cargo']\n",
    "var.value_counts()"
   ]
  },
  {
   "cell_type": "code",
   "execution_count": null,
   "metadata": {},
   "outputs": [
    {
     "name": "stdout",
     "output_type": "stream",
     "text": [
      "Se normalizó el campo PARALEGAL\n"
     ]
    }
   ],
   "source": [
    "# Normalizando campo PARALEGAL\n",
    "normalize_column('Cargo', \"PARA\", \"PARALEGAL\", df_ministerios)"
   ]
  },
  {
   "cell_type": "code",
   "execution_count": null,
   "metadata": {},
   "outputs": [
    {
     "data": {
      "text/plain": [
       "Cargo\n",
       "PARALEGAL    96\n",
       "Name: count, dtype: int64"
      ]
     },
     "execution_count": 169,
     "metadata": {},
     "output_type": "execute_result"
    }
   ],
   "source": [
    "# revisando PARALEGAL \n",
    "var = df_ministerios[df_ministerios['Cargo'].str.contains(\"PARA\")]['Cargo']\n",
    "var.value_counts()"
   ]
  },
  {
   "cell_type": "code",
   "execution_count": null,
   "metadata": {},
   "outputs": [
    {
     "name": "stdout",
     "output_type": "stream",
     "text": [
      "Se normalizó el campo EDUCADOR\n"
     ]
    }
   ],
   "source": [
    "#NORMALIZANDO EL CAMPO educador\n",
    "normalize_column('Cargo', \"EDUC\", \"EDUCADOR\", df_ministerios)"
   ]
  },
  {
   "cell_type": "code",
   "execution_count": null,
   "metadata": {},
   "outputs": [
    {
     "data": {
      "text/plain": [
       "Cargo\n",
       "EDUCADOR    90\n",
       "Name: count, dtype: int64"
      ]
     },
     "execution_count": 171,
     "metadata": {},
     "output_type": "execute_result"
    }
   ],
   "source": [
    "# revisando ASESOR \n",
    "var = df_ministerios[df_ministerios['Cargo'].str.contains(\"EDUC\")]['Cargo']\n",
    "var.value_counts()"
   ]
  },
  {
   "cell_type": "code",
   "execution_count": null,
   "metadata": {},
   "outputs": [
    {
     "data": {
      "text/plain": [
       "Cargo\n",
       "EDUCADOR    90\n",
       "Name: count, dtype: int64"
      ]
     },
     "execution_count": 172,
     "metadata": {},
     "output_type": "execute_result"
    }
   ],
   "source": [
    "var = df_ministerios[df_ministerios['Cargo'].str.contains(\"EDUC\")]['Cargo']\n",
    "var.value_counts()"
   ]
  },
  {
   "cell_type": "code",
   "execution_count": null,
   "metadata": {},
   "outputs": [],
   "source": [
    "values = df_ministerios['Cargo'].value_counts(normalize=True)*100\n",
    "\n",
    "#NORMALIZANDO EL CAMPO OTROS\n",
    "Otros = list(values[values < 1].index)\n",
    "df_ministerios['Cargo'] = df_ministerios['Cargo'].apply(lambda x: \"OTROS\" if x in Otros else x)\n",
    "df_ministerios['Cargo'].value_counts()"
   ]
  },
  {
   "cell_type": "code",
   "execution_count": null,
   "metadata": {},
   "outputs": [
    {
     "name": "stdout",
     "output_type": "stream",
     "text": [
      "<class 'pandas.core.frame.DataFrame'>\n",
      "Index: 11041 entries, 0 to 876\n",
      "Data columns (total 7 columns):\n",
      " #   Column        Non-Null Count  Dtype  \n",
      "---  ------        --------------  -----  \n",
      " 0   Ministerio    11041 non-null  object \n",
      " 1   Cargo         11041 non-null  object \n",
      " 2   Es_Masculino  11041 non-null  int64  \n",
      " 3   Sueldo bruto  11041 non-null  float64\n",
      " 4   AFP           11041 non-null  float64\n",
      " 5   SFS           11041 non-null  float64\n",
      " 6   Sueldo neto   11041 non-null  float64\n",
      "dtypes: float64(4), int64(1), object(2)\n",
      "memory usage: 690.1+ KB\n"
     ]
    }
   ],
   "source": [
    "df_ministerios.info()\n"
   ]
  },
  {
   "cell_type": "code",
   "execution_count": null,
   "metadata": {},
   "outputs": [
    {
     "ename": "NameError",
     "evalue": "name 'df_ministerios' is not defined",
     "output_type": "error",
     "traceback": [
      "\u001b[1;31m---------------------------------------------------------------------------\u001b[0m",
      "\u001b[1;31mNameError\u001b[0m                                 Traceback (most recent call last)",
      "Cell \u001b[1;32mIn[1], line 1\u001b[0m\n\u001b[1;32m----> 1\u001b[0m \u001b[43mdf_ministerios\u001b[49m\u001b[38;5;241m.\u001b[39mdescribe()\n",
      "\u001b[1;31mNameError\u001b[0m: name 'df_ministerios' is not defined"
     ]
    }
   ],
   "source": [
    "df_ministerios.describe()"
   ]
  },
  {
   "cell_type": "markdown",
   "metadata": {},
   "source": [
    " encoding & scaling:"
   ]
  },
  {
   "cell_type": "code",
   "execution_count": null,
   "metadata": {},
   "outputs": [],
   "source": [
    "from sklearn.preprocessing import OneHotEncoder, OrdinalEncoder, MinMaxScaler, StandardScaler"
   ]
  },
  {
   "cell_type": "code",
   "execution_count": null,
   "metadata": {},
   "outputs": [],
   "source": [
    "import pandas as pd"
   ]
  },
  {
   "cell_type": "code",
   "execution_count": null,
   "metadata": {},
   "outputs": [],
   "source": [
    "df_ministerios = pd.read_csv(\"Datasets/clean/Clean_Ministerios.csv\")"
   ]
  },
  {
   "cell_type": "code",
   "execution_count": null,
   "metadata": {},
   "outputs": [],
   "source": [
    "df = df_ministerios.reset_index(drop=True)"
   ]
  },
  {
   "cell_type": "code",
   "execution_count": null,
   "metadata": {},
   "outputs": [],
   "source": [
    "X = df_ministerios.drop(\"Sueldo bruto\", axis=1)\n",
    "y = df_ministerios[\"Sueldo bruto\"]"
   ]
  },
  {
   "cell_type": "code",
   "execution_count": null,
   "metadata": {},
   "outputs": [],
   "source": [
    "categorical_features = X.select_dtypes(\"object\").columns\n",
    "numerical_features = X.select_dtypes(\"number\").columns"
   ]
  },
  {
   "cell_type": "code",
   "execution_count": null,
   "metadata": {},
   "outputs": [
    {
     "data": {
      "text/html": [
       "<div>\n",
       "<style scoped>\n",
       "    .dataframe tbody tr th:only-of-type {\n",
       "        vertical-align: middle;\n",
       "    }\n",
       "\n",
       "    .dataframe tbody tr th {\n",
       "        vertical-align: top;\n",
       "    }\n",
       "\n",
       "    .dataframe thead th {\n",
       "        text-align: right;\n",
       "    }\n",
       "</style>\n",
       "<table border=\"1\" class=\"dataframe\">\n",
       "  <thead>\n",
       "    <tr style=\"text-align: right;\">\n",
       "      <th></th>\n",
       "      <th>Ministerio_Hacienda</th>\n",
       "      <th>Ministerio_Juventud</th>\n",
       "      <th>Ministerio_Mujer</th>\n",
       "      <th>Ministerio_Publico</th>\n",
       "      <th>Ministerio_Trabajo</th>\n",
       "      <th>Cargo_ABOGADA I OPM AZUA</th>\n",
       "      <th>Cargo_ABOGADA I OPM BANI</th>\n",
       "      <th>Cargo_ABOGADA I OPM BONAO-MOS.NOUEL</th>\n",
       "      <th>Cargo_ABOGADA I OPM COTUI</th>\n",
       "      <th>Cargo_ABOGADA I OPM PEDERNALES</th>\n",
       "      <th>...</th>\n",
       "      <th>Cargo_VICEMINISTRO (A) TECNICO (A)</th>\n",
       "      <th>Cargo_VICERRECTORA INVESTIGACIÓN, ANÁLISIS E INNOVACIÓN</th>\n",
       "      <th>Cargo_VIGILANTE</th>\n",
       "      <th>Cargo_Viceministro de Crédito Público</th>\n",
       "      <th>Cargo_Viceministro de Políticas Tributarias</th>\n",
       "      <th>Cargo_Viceministro de Presupuesto, Patrimonio y Contabilidad</th>\n",
       "      <th>Cargo_Viceministro del Tesoro</th>\n",
       "      <th>Cargo_Vigilante</th>\n",
       "      <th>Cargo_Web Master</th>\n",
       "      <th>Cargo_Web Máster</th>\n",
       "    </tr>\n",
       "  </thead>\n",
       "  <tbody>\n",
       "    <tr>\n",
       "      <th>0</th>\n",
       "      <td>0.0</td>\n",
       "      <td>0.0</td>\n",
       "      <td>1.0</td>\n",
       "      <td>0.0</td>\n",
       "      <td>0.0</td>\n",
       "      <td>0.0</td>\n",
       "      <td>0.0</td>\n",
       "      <td>0.0</td>\n",
       "      <td>0.0</td>\n",
       "      <td>0.0</td>\n",
       "      <td>...</td>\n",
       "      <td>0.0</td>\n",
       "      <td>0.0</td>\n",
       "      <td>0.0</td>\n",
       "      <td>0.0</td>\n",
       "      <td>0.0</td>\n",
       "      <td>0.0</td>\n",
       "      <td>0.0</td>\n",
       "      <td>0.0</td>\n",
       "      <td>0.0</td>\n",
       "      <td>0.0</td>\n",
       "    </tr>\n",
       "    <tr>\n",
       "      <th>1</th>\n",
       "      <td>0.0</td>\n",
       "      <td>0.0</td>\n",
       "      <td>1.0</td>\n",
       "      <td>0.0</td>\n",
       "      <td>0.0</td>\n",
       "      <td>0.0</td>\n",
       "      <td>0.0</td>\n",
       "      <td>0.0</td>\n",
       "      <td>0.0</td>\n",
       "      <td>0.0</td>\n",
       "      <td>...</td>\n",
       "      <td>0.0</td>\n",
       "      <td>0.0</td>\n",
       "      <td>0.0</td>\n",
       "      <td>0.0</td>\n",
       "      <td>0.0</td>\n",
       "      <td>0.0</td>\n",
       "      <td>0.0</td>\n",
       "      <td>0.0</td>\n",
       "      <td>0.0</td>\n",
       "      <td>0.0</td>\n",
       "    </tr>\n",
       "    <tr>\n",
       "      <th>2</th>\n",
       "      <td>0.0</td>\n",
       "      <td>0.0</td>\n",
       "      <td>1.0</td>\n",
       "      <td>0.0</td>\n",
       "      <td>0.0</td>\n",
       "      <td>0.0</td>\n",
       "      <td>0.0</td>\n",
       "      <td>0.0</td>\n",
       "      <td>0.0</td>\n",
       "      <td>0.0</td>\n",
       "      <td>...</td>\n",
       "      <td>0.0</td>\n",
       "      <td>0.0</td>\n",
       "      <td>0.0</td>\n",
       "      <td>0.0</td>\n",
       "      <td>0.0</td>\n",
       "      <td>0.0</td>\n",
       "      <td>0.0</td>\n",
       "      <td>0.0</td>\n",
       "      <td>0.0</td>\n",
       "      <td>0.0</td>\n",
       "    </tr>\n",
       "    <tr>\n",
       "      <th>3</th>\n",
       "      <td>0.0</td>\n",
       "      <td>0.0</td>\n",
       "      <td>1.0</td>\n",
       "      <td>0.0</td>\n",
       "      <td>0.0</td>\n",
       "      <td>0.0</td>\n",
       "      <td>0.0</td>\n",
       "      <td>0.0</td>\n",
       "      <td>0.0</td>\n",
       "      <td>0.0</td>\n",
       "      <td>...</td>\n",
       "      <td>0.0</td>\n",
       "      <td>0.0</td>\n",
       "      <td>0.0</td>\n",
       "      <td>0.0</td>\n",
       "      <td>0.0</td>\n",
       "      <td>0.0</td>\n",
       "      <td>0.0</td>\n",
       "      <td>0.0</td>\n",
       "      <td>0.0</td>\n",
       "      <td>0.0</td>\n",
       "    </tr>\n",
       "    <tr>\n",
       "      <th>4</th>\n",
       "      <td>0.0</td>\n",
       "      <td>0.0</td>\n",
       "      <td>1.0</td>\n",
       "      <td>0.0</td>\n",
       "      <td>0.0</td>\n",
       "      <td>0.0</td>\n",
       "      <td>0.0</td>\n",
       "      <td>0.0</td>\n",
       "      <td>0.0</td>\n",
       "      <td>0.0</td>\n",
       "      <td>...</td>\n",
       "      <td>0.0</td>\n",
       "      <td>0.0</td>\n",
       "      <td>0.0</td>\n",
       "      <td>0.0</td>\n",
       "      <td>0.0</td>\n",
       "      <td>0.0</td>\n",
       "      <td>0.0</td>\n",
       "      <td>0.0</td>\n",
       "      <td>0.0</td>\n",
       "      <td>0.0</td>\n",
       "    </tr>\n",
       "    <tr>\n",
       "      <th>...</th>\n",
       "      <td>...</td>\n",
       "      <td>...</td>\n",
       "      <td>...</td>\n",
       "      <td>...</td>\n",
       "      <td>...</td>\n",
       "      <td>...</td>\n",
       "      <td>...</td>\n",
       "      <td>...</td>\n",
       "      <td>...</td>\n",
       "      <td>...</td>\n",
       "      <td>...</td>\n",
       "      <td>...</td>\n",
       "      <td>...</td>\n",
       "      <td>...</td>\n",
       "      <td>...</td>\n",
       "      <td>...</td>\n",
       "      <td>...</td>\n",
       "      <td>...</td>\n",
       "      <td>...</td>\n",
       "      <td>...</td>\n",
       "      <td>...</td>\n",
       "    </tr>\n",
       "    <tr>\n",
       "      <th>11036</th>\n",
       "      <td>0.0</td>\n",
       "      <td>0.0</td>\n",
       "      <td>0.0</td>\n",
       "      <td>0.0</td>\n",
       "      <td>1.0</td>\n",
       "      <td>0.0</td>\n",
       "      <td>0.0</td>\n",
       "      <td>0.0</td>\n",
       "      <td>0.0</td>\n",
       "      <td>0.0</td>\n",
       "      <td>...</td>\n",
       "      <td>0.0</td>\n",
       "      <td>0.0</td>\n",
       "      <td>0.0</td>\n",
       "      <td>0.0</td>\n",
       "      <td>0.0</td>\n",
       "      <td>0.0</td>\n",
       "      <td>0.0</td>\n",
       "      <td>0.0</td>\n",
       "      <td>0.0</td>\n",
       "      <td>0.0</td>\n",
       "    </tr>\n",
       "    <tr>\n",
       "      <th>11037</th>\n",
       "      <td>0.0</td>\n",
       "      <td>0.0</td>\n",
       "      <td>0.0</td>\n",
       "      <td>0.0</td>\n",
       "      <td>1.0</td>\n",
       "      <td>0.0</td>\n",
       "      <td>0.0</td>\n",
       "      <td>0.0</td>\n",
       "      <td>0.0</td>\n",
       "      <td>0.0</td>\n",
       "      <td>...</td>\n",
       "      <td>0.0</td>\n",
       "      <td>0.0</td>\n",
       "      <td>0.0</td>\n",
       "      <td>0.0</td>\n",
       "      <td>0.0</td>\n",
       "      <td>0.0</td>\n",
       "      <td>0.0</td>\n",
       "      <td>0.0</td>\n",
       "      <td>0.0</td>\n",
       "      <td>0.0</td>\n",
       "    </tr>\n",
       "    <tr>\n",
       "      <th>11038</th>\n",
       "      <td>0.0</td>\n",
       "      <td>0.0</td>\n",
       "      <td>0.0</td>\n",
       "      <td>0.0</td>\n",
       "      <td>1.0</td>\n",
       "      <td>0.0</td>\n",
       "      <td>0.0</td>\n",
       "      <td>0.0</td>\n",
       "      <td>0.0</td>\n",
       "      <td>0.0</td>\n",
       "      <td>...</td>\n",
       "      <td>0.0</td>\n",
       "      <td>0.0</td>\n",
       "      <td>0.0</td>\n",
       "      <td>0.0</td>\n",
       "      <td>0.0</td>\n",
       "      <td>0.0</td>\n",
       "      <td>0.0</td>\n",
       "      <td>0.0</td>\n",
       "      <td>0.0</td>\n",
       "      <td>0.0</td>\n",
       "    </tr>\n",
       "    <tr>\n",
       "      <th>11039</th>\n",
       "      <td>0.0</td>\n",
       "      <td>0.0</td>\n",
       "      <td>0.0</td>\n",
       "      <td>0.0</td>\n",
       "      <td>1.0</td>\n",
       "      <td>0.0</td>\n",
       "      <td>0.0</td>\n",
       "      <td>0.0</td>\n",
       "      <td>0.0</td>\n",
       "      <td>0.0</td>\n",
       "      <td>...</td>\n",
       "      <td>0.0</td>\n",
       "      <td>0.0</td>\n",
       "      <td>0.0</td>\n",
       "      <td>0.0</td>\n",
       "      <td>0.0</td>\n",
       "      <td>0.0</td>\n",
       "      <td>0.0</td>\n",
       "      <td>0.0</td>\n",
       "      <td>0.0</td>\n",
       "      <td>0.0</td>\n",
       "    </tr>\n",
       "    <tr>\n",
       "      <th>11040</th>\n",
       "      <td>0.0</td>\n",
       "      <td>0.0</td>\n",
       "      <td>0.0</td>\n",
       "      <td>0.0</td>\n",
       "      <td>1.0</td>\n",
       "      <td>0.0</td>\n",
       "      <td>0.0</td>\n",
       "      <td>0.0</td>\n",
       "      <td>0.0</td>\n",
       "      <td>0.0</td>\n",
       "      <td>...</td>\n",
       "      <td>0.0</td>\n",
       "      <td>0.0</td>\n",
       "      <td>0.0</td>\n",
       "      <td>0.0</td>\n",
       "      <td>0.0</td>\n",
       "      <td>0.0</td>\n",
       "      <td>0.0</td>\n",
       "      <td>0.0</td>\n",
       "      <td>0.0</td>\n",
       "      <td>0.0</td>\n",
       "    </tr>\n",
       "  </tbody>\n",
       "</table>\n",
       "<p>11041 rows × 750 columns</p>\n",
       "</div>"
      ],
      "text/plain": [
       "       Ministerio_Hacienda  Ministerio_Juventud  Ministerio_Mujer  \\\n",
       "0                      0.0                  0.0               1.0   \n",
       "1                      0.0                  0.0               1.0   \n",
       "2                      0.0                  0.0               1.0   \n",
       "3                      0.0                  0.0               1.0   \n",
       "4                      0.0                  0.0               1.0   \n",
       "...                    ...                  ...               ...   \n",
       "11036                  0.0                  0.0               0.0   \n",
       "11037                  0.0                  0.0               0.0   \n",
       "11038                  0.0                  0.0               0.0   \n",
       "11039                  0.0                  0.0               0.0   \n",
       "11040                  0.0                  0.0               0.0   \n",
       "\n",
       "       Ministerio_Publico  Ministerio_Trabajo  Cargo_ABOGADA I OPM AZUA  \\\n",
       "0                     0.0                 0.0                       0.0   \n",
       "1                     0.0                 0.0                       0.0   \n",
       "2                     0.0                 0.0                       0.0   \n",
       "3                     0.0                 0.0                       0.0   \n",
       "4                     0.0                 0.0                       0.0   \n",
       "...                   ...                 ...                       ...   \n",
       "11036                 0.0                 1.0                       0.0   \n",
       "11037                 0.0                 1.0                       0.0   \n",
       "11038                 0.0                 1.0                       0.0   \n",
       "11039                 0.0                 1.0                       0.0   \n",
       "11040                 0.0                 1.0                       0.0   \n",
       "\n",
       "       Cargo_ABOGADA I OPM BANI  Cargo_ABOGADA I OPM BONAO-MOS.NOUEL  \\\n",
       "0                           0.0                                  0.0   \n",
       "1                           0.0                                  0.0   \n",
       "2                           0.0                                  0.0   \n",
       "3                           0.0                                  0.0   \n",
       "4                           0.0                                  0.0   \n",
       "...                         ...                                  ...   \n",
       "11036                       0.0                                  0.0   \n",
       "11037                       0.0                                  0.0   \n",
       "11038                       0.0                                  0.0   \n",
       "11039                       0.0                                  0.0   \n",
       "11040                       0.0                                  0.0   \n",
       "\n",
       "       Cargo_ABOGADA I OPM COTUI  Cargo_ABOGADA I OPM PEDERNALES  ...  \\\n",
       "0                            0.0                             0.0  ...   \n",
       "1                            0.0                             0.0  ...   \n",
       "2                            0.0                             0.0  ...   \n",
       "3                            0.0                             0.0  ...   \n",
       "4                            0.0                             0.0  ...   \n",
       "...                          ...                             ...  ...   \n",
       "11036                        0.0                             0.0  ...   \n",
       "11037                        0.0                             0.0  ...   \n",
       "11038                        0.0                             0.0  ...   \n",
       "11039                        0.0                             0.0  ...   \n",
       "11040                        0.0                             0.0  ...   \n",
       "\n",
       "       Cargo_VICEMINISTRO (A) TECNICO (A)  \\\n",
       "0                                     0.0   \n",
       "1                                     0.0   \n",
       "2                                     0.0   \n",
       "3                                     0.0   \n",
       "4                                     0.0   \n",
       "...                                   ...   \n",
       "11036                                 0.0   \n",
       "11037                                 0.0   \n",
       "11038                                 0.0   \n",
       "11039                                 0.0   \n",
       "11040                                 0.0   \n",
       "\n",
       "       Cargo_VICERRECTORA INVESTIGACIÓN, ANÁLISIS E INNOVACIÓN  \\\n",
       "0                                                    0.0         \n",
       "1                                                    0.0         \n",
       "2                                                    0.0         \n",
       "3                                                    0.0         \n",
       "4                                                    0.0         \n",
       "...                                                  ...         \n",
       "11036                                                0.0         \n",
       "11037                                                0.0         \n",
       "11038                                                0.0         \n",
       "11039                                                0.0         \n",
       "11040                                                0.0         \n",
       "\n",
       "       Cargo_VIGILANTE  Cargo_Viceministro de Crédito Público  \\\n",
       "0                  0.0                                    0.0   \n",
       "1                  0.0                                    0.0   \n",
       "2                  0.0                                    0.0   \n",
       "3                  0.0                                    0.0   \n",
       "4                  0.0                                    0.0   \n",
       "...                ...                                    ...   \n",
       "11036              0.0                                    0.0   \n",
       "11037              0.0                                    0.0   \n",
       "11038              0.0                                    0.0   \n",
       "11039              0.0                                    0.0   \n",
       "11040              0.0                                    0.0   \n",
       "\n",
       "       Cargo_Viceministro de Políticas Tributarias  \\\n",
       "0                                              0.0   \n",
       "1                                              0.0   \n",
       "2                                              0.0   \n",
       "3                                              0.0   \n",
       "4                                              0.0   \n",
       "...                                            ...   \n",
       "11036                                          0.0   \n",
       "11037                                          0.0   \n",
       "11038                                          0.0   \n",
       "11039                                          0.0   \n",
       "11040                                          0.0   \n",
       "\n",
       "       Cargo_Viceministro de Presupuesto, Patrimonio y Contabilidad  \\\n",
       "0                                                    0.0              \n",
       "1                                                    0.0              \n",
       "2                                                    0.0              \n",
       "3                                                    0.0              \n",
       "4                                                    0.0              \n",
       "...                                                  ...              \n",
       "11036                                                0.0              \n",
       "11037                                                0.0              \n",
       "11038                                                0.0              \n",
       "11039                                                0.0              \n",
       "11040                                                0.0              \n",
       "\n",
       "       Cargo_Viceministro del Tesoro  Cargo_Vigilante  Cargo_Web Master  \\\n",
       "0                                0.0              0.0               0.0   \n",
       "1                                0.0              0.0               0.0   \n",
       "2                                0.0              0.0               0.0   \n",
       "3                                0.0              0.0               0.0   \n",
       "4                                0.0              0.0               0.0   \n",
       "...                              ...              ...               ...   \n",
       "11036                            0.0              0.0               0.0   \n",
       "11037                            0.0              0.0               0.0   \n",
       "11038                            0.0              0.0               0.0   \n",
       "11039                            0.0              0.0               0.0   \n",
       "11040                            0.0              0.0               0.0   \n",
       "\n",
       "       Cargo_Web Máster  \n",
       "0                   0.0  \n",
       "1                   0.0  \n",
       "2                   0.0  \n",
       "3                   0.0  \n",
       "4                   0.0  \n",
       "...                 ...  \n",
       "11036               0.0  \n",
       "11037               0.0  \n",
       "11038               0.0  \n",
       "11039               0.0  \n",
       "11040               0.0  \n",
       "\n",
       "[11041 rows x 750 columns]"
      ]
     },
     "execution_count": 54,
     "metadata": {},
     "output_type": "execute_result"
    }
   ],
   "source": [
    "encoder = OneHotEncoder()\n",
    "encoded_df = encoder.fit_transform(X[categorical_features])\n",
    "encoded_df = pd.DataFrame(encoded_df.toarray(), columns=encoder.get_feature_names_out())\n",
    "encoded_df"
   ]
  },
  {
   "cell_type": "code",
   "execution_count": null,
   "metadata": {},
   "outputs": [
    {
     "name": "stdout",
     "output_type": "stream",
     "text": [
      "<class 'pandas.core.frame.DataFrame'>\n",
      "RangeIndex: 11041 entries, 0 to 11040\n",
      "Data columns (total 7 columns):\n",
      " #   Column        Non-Null Count  Dtype  \n",
      "---  ------        --------------  -----  \n",
      " 0   Ministerio    11041 non-null  object \n",
      " 1   Cargo         11041 non-null  object \n",
      " 2   Es_Masculino  11041 non-null  int64  \n",
      " 3   Sueldo bruto  11041 non-null  float64\n",
      " 4   AFP           11041 non-null  float64\n",
      " 5   SFS           11041 non-null  float64\n",
      " 6   Sueldo neto   11041 non-null  float64\n",
      "dtypes: float64(4), int64(1), object(2)\n",
      "memory usage: 603.9+ KB\n"
     ]
    }
   ],
   "source": [
    "df_ministerios.drop(columns=['Unnamed: 0'], axis=1, inplace=True)\n",
    "df_ministerios.info()"
   ]
  },
  {
   "cell_type": "code",
   "execution_count": null,
   "metadata": {},
   "outputs": [
    {
     "data": {
      "text/html": [
       "<div>\n",
       "<style scoped>\n",
       "    .dataframe tbody tr th:only-of-type {\n",
       "        vertical-align: middle;\n",
       "    }\n",
       "\n",
       "    .dataframe tbody tr th {\n",
       "        vertical-align: top;\n",
       "    }\n",
       "\n",
       "    .dataframe thead th {\n",
       "        text-align: right;\n",
       "    }\n",
       "</style>\n",
       "<table border=\"1\" class=\"dataframe\">\n",
       "  <thead>\n",
       "    <tr style=\"text-align: right;\">\n",
       "      <th></th>\n",
       "      <th>Ministerio</th>\n",
       "      <th>Cargo</th>\n",
       "    </tr>\n",
       "  </thead>\n",
       "  <tbody>\n",
       "    <tr>\n",
       "      <th>0</th>\n",
       "      <td>Mujer</td>\n",
       "      <td>MINISTRO (A) DE LA MUJER</td>\n",
       "    </tr>\n",
       "    <tr>\n",
       "      <th>1</th>\n",
       "      <td>Mujer</td>\n",
       "      <td>MENSAJERO INTERNO</td>\n",
       "    </tr>\n",
       "    <tr>\n",
       "      <th>2</th>\n",
       "      <td>Mujer</td>\n",
       "      <td>SECRETARIA</td>\n",
       "    </tr>\n",
       "    <tr>\n",
       "      <th>3</th>\n",
       "      <td>Mujer</td>\n",
       "      <td>ASESOR</td>\n",
       "    </tr>\n",
       "    <tr>\n",
       "      <th>4</th>\n",
       "      <td>Mujer</td>\n",
       "      <td>SECRETARIA EJECUTIVA</td>\n",
       "    </tr>\n",
       "    <tr>\n",
       "      <th>...</th>\n",
       "      <td>...</td>\n",
       "      <td>...</td>\n",
       "    </tr>\n",
       "    <tr>\n",
       "      <th>11036</th>\n",
       "      <td>Trabajo</td>\n",
       "      <td>ANALISTA</td>\n",
       "    </tr>\n",
       "    <tr>\n",
       "      <th>11037</th>\n",
       "      <td>Trabajo</td>\n",
       "      <td>SOPORTE ADMINISTRATIVO</td>\n",
       "    </tr>\n",
       "    <tr>\n",
       "      <th>11038</th>\n",
       "      <td>Trabajo</td>\n",
       "      <td>SECRETARIO (A)</td>\n",
       "    </tr>\n",
       "    <tr>\n",
       "      <th>11039</th>\n",
       "      <td>Trabajo</td>\n",
       "      <td>SECRETARIO (A)</td>\n",
       "    </tr>\n",
       "    <tr>\n",
       "      <th>11040</th>\n",
       "      <td>Trabajo</td>\n",
       "      <td>AUXILIAR ADMINISTRATIVO I</td>\n",
       "    </tr>\n",
       "  </tbody>\n",
       "</table>\n",
       "<p>11041 rows × 2 columns</p>\n",
       "</div>"
      ],
      "text/plain": [
       "      Ministerio                      Cargo\n",
       "0          Mujer   MINISTRO (A) DE LA MUJER\n",
       "1          Mujer          MENSAJERO INTERNO\n",
       "2          Mujer                 SECRETARIA\n",
       "3          Mujer                     ASESOR\n",
       "4          Mujer       SECRETARIA EJECUTIVA\n",
       "...          ...                        ...\n",
       "11036    Trabajo                   ANALISTA\n",
       "11037    Trabajo     SOPORTE ADMINISTRATIVO\n",
       "11038    Trabajo             SECRETARIO (A)\n",
       "11039    Trabajo             SECRETARIO (A)\n",
       "11040    Trabajo  AUXILIAR ADMINISTRATIVO I\n",
       "\n",
       "[11041 rows x 2 columns]"
      ]
     },
     "execution_count": 56,
     "metadata": {},
     "output_type": "execute_result"
    }
   ],
   "source": [
    "X[categorical_features]"
   ]
  },
  {
   "cell_type": "code",
   "execution_count": null,
   "metadata": {},
   "outputs": [
    {
     "data": {
      "text/html": [
       "<div>\n",
       "<style scoped>\n",
       "    .dataframe tbody tr th:only-of-type {\n",
       "        vertical-align: middle;\n",
       "    }\n",
       "\n",
       "    .dataframe tbody tr th {\n",
       "        vertical-align: top;\n",
       "    }\n",
       "\n",
       "    .dataframe thead th {\n",
       "        text-align: right;\n",
       "    }\n",
       "</style>\n",
       "<table border=\"1\" class=\"dataframe\">\n",
       "  <thead>\n",
       "    <tr style=\"text-align: right;\">\n",
       "      <th></th>\n",
       "      <th>Unnamed: 0</th>\n",
       "      <th>Es_Masculino</th>\n",
       "      <th>AFP</th>\n",
       "      <th>SFS</th>\n",
       "      <th>Sueldo neto</th>\n",
       "    </tr>\n",
       "  </thead>\n",
       "  <tbody>\n",
       "    <tr>\n",
       "      <th>count</th>\n",
       "      <td>11041.000000</td>\n",
       "      <td>11041.000000</td>\n",
       "      <td>11041.000000</td>\n",
       "      <td>11041.000000</td>\n",
       "      <td>11041.000000</td>\n",
       "    </tr>\n",
       "    <tr>\n",
       "      <th>mean</th>\n",
       "      <td>3551.087130</td>\n",
       "      <td>0.475500</td>\n",
       "      <td>1616.553441</td>\n",
       "      <td>1672.755674</td>\n",
       "      <td>34515.534398</td>\n",
       "    </tr>\n",
       "    <tr>\n",
       "      <th>std</th>\n",
       "      <td>2786.874857</td>\n",
       "      <td>0.499422</td>\n",
       "      <td>1644.187799</td>\n",
       "      <td>1612.606948</td>\n",
       "      <td>26663.789775</td>\n",
       "    </tr>\n",
       "    <tr>\n",
       "      <th>min</th>\n",
       "      <td>0.000000</td>\n",
       "      <td>0.000000</td>\n",
       "      <td>103.320000</td>\n",
       "      <td>109.440000</td>\n",
       "      <td>1364.810000</td>\n",
       "    </tr>\n",
       "    <tr>\n",
       "      <th>25%</th>\n",
       "      <td>713.000000</td>\n",
       "      <td>0.000000</td>\n",
       "      <td>746.200000</td>\n",
       "      <td>790.400000</td>\n",
       "      <td>18556.380000</td>\n",
       "    </tr>\n",
       "    <tr>\n",
       "      <th>50%</th>\n",
       "      <td>3246.000000</td>\n",
       "      <td>0.000000</td>\n",
       "      <td>947.100000</td>\n",
       "      <td>1003.200000</td>\n",
       "      <td>24597.480000</td>\n",
       "    </tr>\n",
       "    <tr>\n",
       "      <th>75%</th>\n",
       "      <td>6006.000000</td>\n",
       "      <td>1.000000</td>\n",
       "      <td>1865.500000</td>\n",
       "      <td>1976.000000</td>\n",
       "      <td>40166.000000</td>\n",
       "    </tr>\n",
       "    <tr>\n",
       "      <th>max</th>\n",
       "      <td>8766.000000</td>\n",
       "      <td>1.000000</td>\n",
       "      <td>29910.000000</td>\n",
       "      <td>26213.800000</td>\n",
       "      <td>263183.270000</td>\n",
       "    </tr>\n",
       "  </tbody>\n",
       "</table>\n",
       "</div>"
      ],
      "text/plain": [
       "         Unnamed: 0  Es_Masculino           AFP           SFS    Sueldo neto\n",
       "count  11041.000000  11041.000000  11041.000000  11041.000000   11041.000000\n",
       "mean    3551.087130      0.475500   1616.553441   1672.755674   34515.534398\n",
       "std     2786.874857      0.499422   1644.187799   1612.606948   26663.789775\n",
       "min        0.000000      0.000000    103.320000    109.440000    1364.810000\n",
       "25%      713.000000      0.000000    746.200000    790.400000   18556.380000\n",
       "50%     3246.000000      0.000000    947.100000   1003.200000   24597.480000\n",
       "75%     6006.000000      1.000000   1865.500000   1976.000000   40166.000000\n",
       "max     8766.000000      1.000000  29910.000000  26213.800000  263183.270000"
      ]
     },
     "execution_count": 57,
     "metadata": {},
     "output_type": "execute_result"
    }
   ],
   "source": [
    "X[numerical_features].describe()"
   ]
  },
  {
   "cell_type": "code",
   "execution_count": null,
   "metadata": {},
   "outputs": [
    {
     "data": {
      "text/html": [
       "<div>\n",
       "<style scoped>\n",
       "    .dataframe tbody tr th:only-of-type {\n",
       "        vertical-align: middle;\n",
       "    }\n",
       "\n",
       "    .dataframe tbody tr th {\n",
       "        vertical-align: top;\n",
       "    }\n",
       "\n",
       "    .dataframe thead th {\n",
       "        text-align: right;\n",
       "    }\n",
       "</style>\n",
       "<table border=\"1\" class=\"dataframe\">\n",
       "  <thead>\n",
       "    <tr style=\"text-align: right;\">\n",
       "      <th></th>\n",
       "      <th>Unnamed: 0</th>\n",
       "      <th>Es_Masculino</th>\n",
       "      <th>AFP</th>\n",
       "      <th>SFS</th>\n",
       "      <th>Sueldo neto</th>\n",
       "    </tr>\n",
       "  </thead>\n",
       "  <tbody>\n",
       "    <tr>\n",
       "      <th>0</th>\n",
       "      <td>-1.274276</td>\n",
       "      <td>-0.952145</td>\n",
       "      <td>4.253628</td>\n",
       "      <td>2.028512</td>\n",
       "      <td>7.011921</td>\n",
       "    </tr>\n",
       "    <tr>\n",
       "      <th>1</th>\n",
       "      <td>-1.273917</td>\n",
       "      <td>-0.952145</td>\n",
       "      <td>-0.546832</td>\n",
       "      <td>-0.566038</td>\n",
       "      <td>-0.413240</td>\n",
       "    </tr>\n",
       "    <tr>\n",
       "      <th>2</th>\n",
       "      <td>-1.273558</td>\n",
       "      <td>-0.952145</td>\n",
       "      <td>-0.511919</td>\n",
       "      <td>-0.528333</td>\n",
       "      <td>-0.346412</td>\n",
       "    </tr>\n",
       "    <tr>\n",
       "      <th>3</th>\n",
       "      <td>-1.273200</td>\n",
       "      <td>-0.952145</td>\n",
       "      <td>-0.581744</td>\n",
       "      <td>-0.603743</td>\n",
       "      <td>-0.536063</td>\n",
       "    </tr>\n",
       "    <tr>\n",
       "      <th>4</th>\n",
       "      <td>-1.272841</td>\n",
       "      <td>-0.952145</td>\n",
       "      <td>-0.284989</td>\n",
       "      <td>-0.283253</td>\n",
       "      <td>0.099496</td>\n",
       "    </tr>\n",
       "    <tr>\n",
       "      <th>...</th>\n",
       "      <td>...</td>\n",
       "      <td>...</td>\n",
       "      <td>...</td>\n",
       "      <td>...</td>\n",
       "      <td>...</td>\n",
       "    </tr>\n",
       "    <tr>\n",
       "      <th>11036</th>\n",
       "      <td>-0.961367</td>\n",
       "      <td>1.050261</td>\n",
       "      <td>1.503027</td>\n",
       "      <td>1.538290</td>\n",
       "      <td>0.129491</td>\n",
       "    </tr>\n",
       "    <tr>\n",
       "      <th>11037</th>\n",
       "      <td>-0.961008</td>\n",
       "      <td>1.050261</td>\n",
       "      <td>1.806230</td>\n",
       "      <td>1.852392</td>\n",
       "      <td>0.279471</td>\n",
       "    </tr>\n",
       "    <tr>\n",
       "      <th>11038</th>\n",
       "      <td>-0.960649</td>\n",
       "      <td>-0.952145</td>\n",
       "      <td>1.078543</td>\n",
       "      <td>1.098547</td>\n",
       "      <td>-0.095637</td>\n",
       "    </tr>\n",
       "    <tr>\n",
       "      <th>11039</th>\n",
       "      <td>-0.960290</td>\n",
       "      <td>-0.952145</td>\n",
       "      <td>1.078543</td>\n",
       "      <td>1.098547</td>\n",
       "      <td>-0.095637</td>\n",
       "    </tr>\n",
       "    <tr>\n",
       "      <th>11040</th>\n",
       "      <td>-0.959931</td>\n",
       "      <td>-0.952145</td>\n",
       "      <td>1.078543</td>\n",
       "      <td>1.098547</td>\n",
       "      <td>-0.095637</td>\n",
       "    </tr>\n",
       "  </tbody>\n",
       "</table>\n",
       "<p>11041 rows × 5 columns</p>\n",
       "</div>"
      ],
      "text/plain": [
       "       Unnamed: 0  Es_Masculino       AFP       SFS  Sueldo neto\n",
       "0       -1.274276     -0.952145  4.253628  2.028512     7.011921\n",
       "1       -1.273917     -0.952145 -0.546832 -0.566038    -0.413240\n",
       "2       -1.273558     -0.952145 -0.511919 -0.528333    -0.346412\n",
       "3       -1.273200     -0.952145 -0.581744 -0.603743    -0.536063\n",
       "4       -1.272841     -0.952145 -0.284989 -0.283253     0.099496\n",
       "...           ...           ...       ...       ...          ...\n",
       "11036   -0.961367      1.050261  1.503027  1.538290     0.129491\n",
       "11037   -0.961008      1.050261  1.806230  1.852392     0.279471\n",
       "11038   -0.960649     -0.952145  1.078543  1.098547    -0.095637\n",
       "11039   -0.960290     -0.952145  1.078543  1.098547    -0.095637\n",
       "11040   -0.959931     -0.952145  1.078543  1.098547    -0.095637\n",
       "\n",
       "[11041 rows x 5 columns]"
      ]
     },
     "execution_count": 58,
     "metadata": {},
     "output_type": "execute_result"
    }
   ],
   "source": [
    "scaler = StandardScaler()\n",
    "scaled_df = scaler.fit_transform(df[numerical_features])\n",
    "scaled_df = pd.DataFrame(scaled_df, columns=scaler.feature_names_in_)\n",
    "scaled_df"
   ]
  },
  {
   "cell_type": "code",
   "execution_count": null,
   "metadata": {},
   "outputs": [
    {
     "data": {
      "text/html": [
       "<div>\n",
       "<style scoped>\n",
       "    .dataframe tbody tr th:only-of-type {\n",
       "        vertical-align: middle;\n",
       "    }\n",
       "\n",
       "    .dataframe tbody tr th {\n",
       "        vertical-align: top;\n",
       "    }\n",
       "\n",
       "    .dataframe thead th {\n",
       "        text-align: right;\n",
       "    }\n",
       "</style>\n",
       "<table border=\"1\" class=\"dataframe\">\n",
       "  <thead>\n",
       "    <tr style=\"text-align: right;\">\n",
       "      <th></th>\n",
       "      <th>Ministerio_Hacienda</th>\n",
       "      <th>Ministerio_Juventud</th>\n",
       "      <th>Ministerio_Mujer</th>\n",
       "      <th>Ministerio_Publico</th>\n",
       "      <th>Ministerio_Trabajo</th>\n",
       "      <th>Cargo_ABOGADA I OPM AZUA</th>\n",
       "      <th>Cargo_ABOGADA I OPM BANI</th>\n",
       "      <th>Cargo_ABOGADA I OPM BONAO-MOS.NOUEL</th>\n",
       "      <th>Cargo_ABOGADA I OPM COTUI</th>\n",
       "      <th>Cargo_ABOGADA I OPM PEDERNALES</th>\n",
       "      <th>...</th>\n",
       "      <th>Cargo_Viceministro de Presupuesto, Patrimonio y Contabilidad</th>\n",
       "      <th>Cargo_Viceministro del Tesoro</th>\n",
       "      <th>Cargo_Vigilante</th>\n",
       "      <th>Cargo_Web Master</th>\n",
       "      <th>Cargo_Web Máster</th>\n",
       "      <th>Unnamed: 0</th>\n",
       "      <th>Es_Masculino</th>\n",
       "      <th>AFP</th>\n",
       "      <th>SFS</th>\n",
       "      <th>Sueldo neto</th>\n",
       "    </tr>\n",
       "  </thead>\n",
       "  <tbody>\n",
       "    <tr>\n",
       "      <th>0</th>\n",
       "      <td>0.0</td>\n",
       "      <td>0.0</td>\n",
       "      <td>1.0</td>\n",
       "      <td>0.0</td>\n",
       "      <td>0.0</td>\n",
       "      <td>0.0</td>\n",
       "      <td>0.0</td>\n",
       "      <td>0.0</td>\n",
       "      <td>0.0</td>\n",
       "      <td>0.0</td>\n",
       "      <td>...</td>\n",
       "      <td>0.0</td>\n",
       "      <td>0.0</td>\n",
       "      <td>0.0</td>\n",
       "      <td>0.0</td>\n",
       "      <td>0.0</td>\n",
       "      <td>-1.274276</td>\n",
       "      <td>-0.952145</td>\n",
       "      <td>4.253628</td>\n",
       "      <td>2.028512</td>\n",
       "      <td>7.011921</td>\n",
       "    </tr>\n",
       "    <tr>\n",
       "      <th>1</th>\n",
       "      <td>0.0</td>\n",
       "      <td>0.0</td>\n",
       "      <td>1.0</td>\n",
       "      <td>0.0</td>\n",
       "      <td>0.0</td>\n",
       "      <td>0.0</td>\n",
       "      <td>0.0</td>\n",
       "      <td>0.0</td>\n",
       "      <td>0.0</td>\n",
       "      <td>0.0</td>\n",
       "      <td>...</td>\n",
       "      <td>0.0</td>\n",
       "      <td>0.0</td>\n",
       "      <td>0.0</td>\n",
       "      <td>0.0</td>\n",
       "      <td>0.0</td>\n",
       "      <td>-1.273917</td>\n",
       "      <td>-0.952145</td>\n",
       "      <td>-0.546832</td>\n",
       "      <td>-0.566038</td>\n",
       "      <td>-0.413240</td>\n",
       "    </tr>\n",
       "    <tr>\n",
       "      <th>2</th>\n",
       "      <td>0.0</td>\n",
       "      <td>0.0</td>\n",
       "      <td>1.0</td>\n",
       "      <td>0.0</td>\n",
       "      <td>0.0</td>\n",
       "      <td>0.0</td>\n",
       "      <td>0.0</td>\n",
       "      <td>0.0</td>\n",
       "      <td>0.0</td>\n",
       "      <td>0.0</td>\n",
       "      <td>...</td>\n",
       "      <td>0.0</td>\n",
       "      <td>0.0</td>\n",
       "      <td>0.0</td>\n",
       "      <td>0.0</td>\n",
       "      <td>0.0</td>\n",
       "      <td>-1.273558</td>\n",
       "      <td>-0.952145</td>\n",
       "      <td>-0.511919</td>\n",
       "      <td>-0.528333</td>\n",
       "      <td>-0.346412</td>\n",
       "    </tr>\n",
       "    <tr>\n",
       "      <th>3</th>\n",
       "      <td>0.0</td>\n",
       "      <td>0.0</td>\n",
       "      <td>1.0</td>\n",
       "      <td>0.0</td>\n",
       "      <td>0.0</td>\n",
       "      <td>0.0</td>\n",
       "      <td>0.0</td>\n",
       "      <td>0.0</td>\n",
       "      <td>0.0</td>\n",
       "      <td>0.0</td>\n",
       "      <td>...</td>\n",
       "      <td>0.0</td>\n",
       "      <td>0.0</td>\n",
       "      <td>0.0</td>\n",
       "      <td>0.0</td>\n",
       "      <td>0.0</td>\n",
       "      <td>-1.273200</td>\n",
       "      <td>-0.952145</td>\n",
       "      <td>-0.581744</td>\n",
       "      <td>-0.603743</td>\n",
       "      <td>-0.536063</td>\n",
       "    </tr>\n",
       "    <tr>\n",
       "      <th>4</th>\n",
       "      <td>0.0</td>\n",
       "      <td>0.0</td>\n",
       "      <td>1.0</td>\n",
       "      <td>0.0</td>\n",
       "      <td>0.0</td>\n",
       "      <td>0.0</td>\n",
       "      <td>0.0</td>\n",
       "      <td>0.0</td>\n",
       "      <td>0.0</td>\n",
       "      <td>0.0</td>\n",
       "      <td>...</td>\n",
       "      <td>0.0</td>\n",
       "      <td>0.0</td>\n",
       "      <td>0.0</td>\n",
       "      <td>0.0</td>\n",
       "      <td>0.0</td>\n",
       "      <td>-1.272841</td>\n",
       "      <td>-0.952145</td>\n",
       "      <td>-0.284989</td>\n",
       "      <td>-0.283253</td>\n",
       "      <td>0.099496</td>\n",
       "    </tr>\n",
       "    <tr>\n",
       "      <th>...</th>\n",
       "      <td>...</td>\n",
       "      <td>...</td>\n",
       "      <td>...</td>\n",
       "      <td>...</td>\n",
       "      <td>...</td>\n",
       "      <td>...</td>\n",
       "      <td>...</td>\n",
       "      <td>...</td>\n",
       "      <td>...</td>\n",
       "      <td>...</td>\n",
       "      <td>...</td>\n",
       "      <td>...</td>\n",
       "      <td>...</td>\n",
       "      <td>...</td>\n",
       "      <td>...</td>\n",
       "      <td>...</td>\n",
       "      <td>...</td>\n",
       "      <td>...</td>\n",
       "      <td>...</td>\n",
       "      <td>...</td>\n",
       "      <td>...</td>\n",
       "    </tr>\n",
       "    <tr>\n",
       "      <th>11036</th>\n",
       "      <td>0.0</td>\n",
       "      <td>0.0</td>\n",
       "      <td>0.0</td>\n",
       "      <td>0.0</td>\n",
       "      <td>1.0</td>\n",
       "      <td>0.0</td>\n",
       "      <td>0.0</td>\n",
       "      <td>0.0</td>\n",
       "      <td>0.0</td>\n",
       "      <td>0.0</td>\n",
       "      <td>...</td>\n",
       "      <td>0.0</td>\n",
       "      <td>0.0</td>\n",
       "      <td>0.0</td>\n",
       "      <td>0.0</td>\n",
       "      <td>0.0</td>\n",
       "      <td>-0.961367</td>\n",
       "      <td>1.050261</td>\n",
       "      <td>1.503027</td>\n",
       "      <td>1.538290</td>\n",
       "      <td>0.129491</td>\n",
       "    </tr>\n",
       "    <tr>\n",
       "      <th>11037</th>\n",
       "      <td>0.0</td>\n",
       "      <td>0.0</td>\n",
       "      <td>0.0</td>\n",
       "      <td>0.0</td>\n",
       "      <td>1.0</td>\n",
       "      <td>0.0</td>\n",
       "      <td>0.0</td>\n",
       "      <td>0.0</td>\n",
       "      <td>0.0</td>\n",
       "      <td>0.0</td>\n",
       "      <td>...</td>\n",
       "      <td>0.0</td>\n",
       "      <td>0.0</td>\n",
       "      <td>0.0</td>\n",
       "      <td>0.0</td>\n",
       "      <td>0.0</td>\n",
       "      <td>-0.961008</td>\n",
       "      <td>1.050261</td>\n",
       "      <td>1.806230</td>\n",
       "      <td>1.852392</td>\n",
       "      <td>0.279471</td>\n",
       "    </tr>\n",
       "    <tr>\n",
       "      <th>11038</th>\n",
       "      <td>0.0</td>\n",
       "      <td>0.0</td>\n",
       "      <td>0.0</td>\n",
       "      <td>0.0</td>\n",
       "      <td>1.0</td>\n",
       "      <td>0.0</td>\n",
       "      <td>0.0</td>\n",
       "      <td>0.0</td>\n",
       "      <td>0.0</td>\n",
       "      <td>0.0</td>\n",
       "      <td>...</td>\n",
       "      <td>0.0</td>\n",
       "      <td>0.0</td>\n",
       "      <td>0.0</td>\n",
       "      <td>0.0</td>\n",
       "      <td>0.0</td>\n",
       "      <td>-0.960649</td>\n",
       "      <td>-0.952145</td>\n",
       "      <td>1.078543</td>\n",
       "      <td>1.098547</td>\n",
       "      <td>-0.095637</td>\n",
       "    </tr>\n",
       "    <tr>\n",
       "      <th>11039</th>\n",
       "      <td>0.0</td>\n",
       "      <td>0.0</td>\n",
       "      <td>0.0</td>\n",
       "      <td>0.0</td>\n",
       "      <td>1.0</td>\n",
       "      <td>0.0</td>\n",
       "      <td>0.0</td>\n",
       "      <td>0.0</td>\n",
       "      <td>0.0</td>\n",
       "      <td>0.0</td>\n",
       "      <td>...</td>\n",
       "      <td>0.0</td>\n",
       "      <td>0.0</td>\n",
       "      <td>0.0</td>\n",
       "      <td>0.0</td>\n",
       "      <td>0.0</td>\n",
       "      <td>-0.960290</td>\n",
       "      <td>-0.952145</td>\n",
       "      <td>1.078543</td>\n",
       "      <td>1.098547</td>\n",
       "      <td>-0.095637</td>\n",
       "    </tr>\n",
       "    <tr>\n",
       "      <th>11040</th>\n",
       "      <td>0.0</td>\n",
       "      <td>0.0</td>\n",
       "      <td>0.0</td>\n",
       "      <td>0.0</td>\n",
       "      <td>1.0</td>\n",
       "      <td>0.0</td>\n",
       "      <td>0.0</td>\n",
       "      <td>0.0</td>\n",
       "      <td>0.0</td>\n",
       "      <td>0.0</td>\n",
       "      <td>...</td>\n",
       "      <td>0.0</td>\n",
       "      <td>0.0</td>\n",
       "      <td>0.0</td>\n",
       "      <td>0.0</td>\n",
       "      <td>0.0</td>\n",
       "      <td>-0.959931</td>\n",
       "      <td>-0.952145</td>\n",
       "      <td>1.078543</td>\n",
       "      <td>1.098547</td>\n",
       "      <td>-0.095637</td>\n",
       "    </tr>\n",
       "  </tbody>\n",
       "</table>\n",
       "<p>11041 rows × 755 columns</p>\n",
       "</div>"
      ],
      "text/plain": [
       "       Ministerio_Hacienda  Ministerio_Juventud  Ministerio_Mujer  \\\n",
       "0                      0.0                  0.0               1.0   \n",
       "1                      0.0                  0.0               1.0   \n",
       "2                      0.0                  0.0               1.0   \n",
       "3                      0.0                  0.0               1.0   \n",
       "4                      0.0                  0.0               1.0   \n",
       "...                    ...                  ...               ...   \n",
       "11036                  0.0                  0.0               0.0   \n",
       "11037                  0.0                  0.0               0.0   \n",
       "11038                  0.0                  0.0               0.0   \n",
       "11039                  0.0                  0.0               0.0   \n",
       "11040                  0.0                  0.0               0.0   \n",
       "\n",
       "       Ministerio_Publico  Ministerio_Trabajo  Cargo_ABOGADA I OPM AZUA  \\\n",
       "0                     0.0                 0.0                       0.0   \n",
       "1                     0.0                 0.0                       0.0   \n",
       "2                     0.0                 0.0                       0.0   \n",
       "3                     0.0                 0.0                       0.0   \n",
       "4                     0.0                 0.0                       0.0   \n",
       "...                   ...                 ...                       ...   \n",
       "11036                 0.0                 1.0                       0.0   \n",
       "11037                 0.0                 1.0                       0.0   \n",
       "11038                 0.0                 1.0                       0.0   \n",
       "11039                 0.0                 1.0                       0.0   \n",
       "11040                 0.0                 1.0                       0.0   \n",
       "\n",
       "       Cargo_ABOGADA I OPM BANI  Cargo_ABOGADA I OPM BONAO-MOS.NOUEL  \\\n",
       "0                           0.0                                  0.0   \n",
       "1                           0.0                                  0.0   \n",
       "2                           0.0                                  0.0   \n",
       "3                           0.0                                  0.0   \n",
       "4                           0.0                                  0.0   \n",
       "...                         ...                                  ...   \n",
       "11036                       0.0                                  0.0   \n",
       "11037                       0.0                                  0.0   \n",
       "11038                       0.0                                  0.0   \n",
       "11039                       0.0                                  0.0   \n",
       "11040                       0.0                                  0.0   \n",
       "\n",
       "       Cargo_ABOGADA I OPM COTUI  Cargo_ABOGADA I OPM PEDERNALES  ...  \\\n",
       "0                            0.0                             0.0  ...   \n",
       "1                            0.0                             0.0  ...   \n",
       "2                            0.0                             0.0  ...   \n",
       "3                            0.0                             0.0  ...   \n",
       "4                            0.0                             0.0  ...   \n",
       "...                          ...                             ...  ...   \n",
       "11036                        0.0                             0.0  ...   \n",
       "11037                        0.0                             0.0  ...   \n",
       "11038                        0.0                             0.0  ...   \n",
       "11039                        0.0                             0.0  ...   \n",
       "11040                        0.0                             0.0  ...   \n",
       "\n",
       "       Cargo_Viceministro de Presupuesto, Patrimonio y Contabilidad  \\\n",
       "0                                                    0.0              \n",
       "1                                                    0.0              \n",
       "2                                                    0.0              \n",
       "3                                                    0.0              \n",
       "4                                                    0.0              \n",
       "...                                                  ...              \n",
       "11036                                                0.0              \n",
       "11037                                                0.0              \n",
       "11038                                                0.0              \n",
       "11039                                                0.0              \n",
       "11040                                                0.0              \n",
       "\n",
       "       Cargo_Viceministro del Tesoro  Cargo_Vigilante  Cargo_Web Master  \\\n",
       "0                                0.0              0.0               0.0   \n",
       "1                                0.0              0.0               0.0   \n",
       "2                                0.0              0.0               0.0   \n",
       "3                                0.0              0.0               0.0   \n",
       "4                                0.0              0.0               0.0   \n",
       "...                              ...              ...               ...   \n",
       "11036                            0.0              0.0               0.0   \n",
       "11037                            0.0              0.0               0.0   \n",
       "11038                            0.0              0.0               0.0   \n",
       "11039                            0.0              0.0               0.0   \n",
       "11040                            0.0              0.0               0.0   \n",
       "\n",
       "       Cargo_Web Máster  Unnamed: 0  Es_Masculino       AFP       SFS  \\\n",
       "0                   0.0   -1.274276     -0.952145  4.253628  2.028512   \n",
       "1                   0.0   -1.273917     -0.952145 -0.546832 -0.566038   \n",
       "2                   0.0   -1.273558     -0.952145 -0.511919 -0.528333   \n",
       "3                   0.0   -1.273200     -0.952145 -0.581744 -0.603743   \n",
       "4                   0.0   -1.272841     -0.952145 -0.284989 -0.283253   \n",
       "...                 ...         ...           ...       ...       ...   \n",
       "11036               0.0   -0.961367      1.050261  1.503027  1.538290   \n",
       "11037               0.0   -0.961008      1.050261  1.806230  1.852392   \n",
       "11038               0.0   -0.960649     -0.952145  1.078543  1.098547   \n",
       "11039               0.0   -0.960290     -0.952145  1.078543  1.098547   \n",
       "11040               0.0   -0.959931     -0.952145  1.078543  1.098547   \n",
       "\n",
       "       Sueldo neto  \n",
       "0         7.011921  \n",
       "1        -0.413240  \n",
       "2        -0.346412  \n",
       "3        -0.536063  \n",
       "4         0.099496  \n",
       "...            ...  \n",
       "11036     0.129491  \n",
       "11037     0.279471  \n",
       "11038    -0.095637  \n",
       "11039    -0.095637  \n",
       "11040    -0.095637  \n",
       "\n",
       "[11041 rows x 755 columns]"
      ]
     },
     "execution_count": 59,
     "metadata": {},
     "output_type": "execute_result"
    }
   ],
   "source": [
    "X = pd.concat([encoded_df, scaled_df], axis=1)\n",
    "X"
   ]
  },
  {
   "cell_type": "markdown",
   "metadata": {},
   "source": [
    "Entrenamiento de los Modelos:"
   ]
  },
  {
   "cell_type": "code",
   "execution_count": null,
   "metadata": {},
   "outputs": [],
   "source": [
    "from sklearn.model_selection import train_test_split\n",
    "from sklearn.linear_model import LinearRegression\n",
    "from sklearn.neighbors import KNeighborsRegressor\n",
    "from sklearn.tree import DecisionTreeRegressor\n",
    "from sklearn.neural_network import MLPRegressor\n",
    "from sklearn.metrics import mean_squared_error, r2_score, mean_absolute_error"
   ]
  },
  {
   "cell_type": "code",
   "execution_count": null,
   "metadata": {},
   "outputs": [],
   "source": [
    "X_train, X_test, y_train, y_test = train_test_split(X, y, test_size=0.2)"
   ]
  },
  {
   "cell_type": "code",
   "execution_count": null,
   "metadata": {},
   "outputs": [],
   "source": [
    "models = [LinearRegression(), KNeighborsRegressor(), DecisionTreeRegressor(), MLPRegressor()]"
   ]
  },
  {
   "cell_type": "code",
   "execution_count": null,
   "metadata": {},
   "outputs": [
    {
     "name": "stdout",
     "output_type": "stream",
     "text": [
      "LinearRegression()\n",
      "MAE:  6683797408038.899\n",
      "RMSE:  91273348461070.4\n",
      "R2:  -5.774088332001329e+18\n",
      "KNeighborsRegressor()\n",
      "MAE:  1340.815638750566\n",
      "RMSE:  4509.914850694561\n",
      "R2:  0.9859028233713456\n",
      "DecisionTreeRegressor()\n",
      "MAE:  73.92561792666365\n",
      "RMSE:  1139.9334486823575\n",
      "R2:  0.99909935332285\n",
      "MLPRegressor()\n",
      "MAE:  36505.373601685445\n",
      "RMSE:  47125.547817655606\n",
      "R2:  -0.5392468737064993\n"
     ]
    },
    {
     "name": "stderr",
     "output_type": "stream",
     "text": [
      "c:\\Users\\costa\\AppData\\Local\\Programs\\Python\\Python312\\Lib\\site-packages\\sklearn\\neural_network\\_multilayer_perceptron.py:698: UserWarning: Training interrupted by user.\n",
      "  warnings.warn(\"Training interrupted by user.\")\n"
     ]
    }
   ],
   "source": [
    "\n",
    "for model in models:\n",
    "  model.fit(X_train, y_train)\n",
    "  y_pred = pd.Series(model.predict(X_test))\n",
    "  y_pred.index = y_test.index\n",
    "  print(str(model))\n",
    "  print(\"MAE: \", mean_absolute_error(y_test, y_pred))\n",
    "  print(\"RMSE: \", np.sqrt(mean_squared_error(y_test, y_pred)))\n",
    "  print(\"R2: \", r2_score(y_test, y_pred))"
   ]
  },
  {
   "cell_type": "code",
   "execution_count": null,
   "metadata": {},
   "outputs": [],
   "source": [
    "y_pred = pd.Series(models[1].predict(X_test))\n",
    "y_pred.index = y_test.index"
   ]
  },
  {
   "cell_type": "code",
   "execution_count": null,
   "metadata": {},
   "outputs": [
    {
     "data": {
      "text/html": [
       "<div>\n",
       "<style scoped>\n",
       "    .dataframe tbody tr th:only-of-type {\n",
       "        vertical-align: middle;\n",
       "    }\n",
       "\n",
       "    .dataframe tbody tr th {\n",
       "        vertical-align: top;\n",
       "    }\n",
       "\n",
       "    .dataframe thead th {\n",
       "        text-align: right;\n",
       "    }\n",
       "</style>\n",
       "<table border=\"1\" class=\"dataframe\">\n",
       "  <thead>\n",
       "    <tr style=\"text-align: right;\">\n",
       "      <th></th>\n",
       "      <th>Unnamed: 0</th>\n",
       "      <th>Ministerio</th>\n",
       "      <th>Cargo</th>\n",
       "      <th>Es_Masculino</th>\n",
       "      <th>Sueldo bruto</th>\n",
       "      <th>AFP</th>\n",
       "      <th>SFS</th>\n",
       "      <th>Real Sueldo bruto</th>\n",
       "      <th>Predicted Sueldo bruto</th>\n",
       "    </tr>\n",
       "  </thead>\n",
       "  <tbody>\n",
       "    <tr>\n",
       "      <th>8291</th>\n",
       "      <td>7184</td>\n",
       "      <td>Publico</td>\n",
       "      <td>CHOFER I</td>\n",
       "      <td>1</td>\n",
       "      <td>25000.0</td>\n",
       "      <td>717.50</td>\n",
       "      <td>760.00</td>\n",
       "      <td>15078.21</td>\n",
       "      <td>23800.0</td>\n",
       "    </tr>\n",
       "    <tr>\n",
       "      <th>2329</th>\n",
       "      <td>1222</td>\n",
       "      <td>Publico</td>\n",
       "      <td>AGENTE  VTP</td>\n",
       "      <td>0</td>\n",
       "      <td>27000.0</td>\n",
       "      <td>774.90</td>\n",
       "      <td>820.80</td>\n",
       "      <td>22651.08</td>\n",
       "      <td>27000.0</td>\n",
       "    </tr>\n",
       "    <tr>\n",
       "      <th>5960</th>\n",
       "      <td>4853</td>\n",
       "      <td>Publico</td>\n",
       "      <td>FISCALIZADOR</td>\n",
       "      <td>1</td>\n",
       "      <td>90000.0</td>\n",
       "      <td>2583.00</td>\n",
       "      <td>2736.00</td>\n",
       "      <td>58086.54</td>\n",
       "      <td>90000.0</td>\n",
       "    </tr>\n",
       "    <tr>\n",
       "      <th>9450</th>\n",
       "      <td>8343</td>\n",
       "      <td>Publico</td>\n",
       "      <td>AUXILIAR ADMINISTRATIVO</td>\n",
       "      <td>1</td>\n",
       "      <td>22000.0</td>\n",
       "      <td>631.40</td>\n",
       "      <td>668.80</td>\n",
       "      <td>11566.19</td>\n",
       "      <td>23000.0</td>\n",
       "    </tr>\n",
       "    <tr>\n",
       "      <th>10749</th>\n",
       "      <td>585</td>\n",
       "      <td>Trabajo</td>\n",
       "      <td>INSPECTOR (A) DE TRABAJO</td>\n",
       "      <td>1</td>\n",
       "      <td>70000.0</td>\n",
       "      <td>6979.00</td>\n",
       "      <td>7091.00</td>\n",
       "      <td>60469.52</td>\n",
       "      <td>70000.0</td>\n",
       "    </tr>\n",
       "    <tr>\n",
       "      <th>...</th>\n",
       "      <td>...</td>\n",
       "      <td>...</td>\n",
       "      <td>...</td>\n",
       "      <td>...</td>\n",
       "      <td>...</td>\n",
       "      <td>...</td>\n",
       "      <td>...</td>\n",
       "      <td>...</td>\n",
       "      <td>...</td>\n",
       "    </tr>\n",
       "    <tr>\n",
       "      <th>6643</th>\n",
       "      <td>5536</td>\n",
       "      <td>Publico</td>\n",
       "      <td>FISCALIZADOR</td>\n",
       "      <td>0</td>\n",
       "      <td>40000.0</td>\n",
       "      <td>1148.00</td>\n",
       "      <td>1216.00</td>\n",
       "      <td>37168.35</td>\n",
       "      <td>48000.0</td>\n",
       "    </tr>\n",
       "    <tr>\n",
       "      <th>9471</th>\n",
       "      <td>8364</td>\n",
       "      <td>Publico</td>\n",
       "      <td>AUXILIAR ADMINISTRATIVO</td>\n",
       "      <td>1</td>\n",
       "      <td>30000.0</td>\n",
       "      <td>861.00</td>\n",
       "      <td>912.00</td>\n",
       "      <td>16542.56</td>\n",
       "      <td>26400.0</td>\n",
       "    </tr>\n",
       "    <tr>\n",
       "      <th>609</th>\n",
       "      <td>279</td>\n",
       "      <td>Hacienda</td>\n",
       "      <td>Auxiliar de Transportación</td>\n",
       "      <td>1</td>\n",
       "      <td>30000.0</td>\n",
       "      <td>861.00</td>\n",
       "      <td>912.00</td>\n",
       "      <td>26140.39</td>\n",
       "      <td>31300.0</td>\n",
       "    </tr>\n",
       "    <tr>\n",
       "      <th>1207</th>\n",
       "      <td>100</td>\n",
       "      <td>Publico</td>\n",
       "      <td>PSICÓLOGO (A)</td>\n",
       "      <td>0</td>\n",
       "      <td>33000.0</td>\n",
       "      <td>947.10</td>\n",
       "      <td>1003.20</td>\n",
       "      <td>30489.85</td>\n",
       "      <td>33000.0</td>\n",
       "    </tr>\n",
       "    <tr>\n",
       "      <th>10379</th>\n",
       "      <td>215</td>\n",
       "      <td>Trabajo</td>\n",
       "      <td>CHOFER II</td>\n",
       "      <td>1</td>\n",
       "      <td>23100.0</td>\n",
       "      <td>2303.07</td>\n",
       "      <td>2340.03</td>\n",
       "      <td>21709.79</td>\n",
       "      <td>23640.0</td>\n",
       "    </tr>\n",
       "  </tbody>\n",
       "</table>\n",
       "<p>2209 rows × 9 columns</p>\n",
       "</div>"
      ],
      "text/plain": [
       "       Unnamed: 0 Ministerio                       Cargo  Es_Masculino  \\\n",
       "8291         7184    Publico                    CHOFER I             1   \n",
       "2329         1222    Publico                 AGENTE  VTP             0   \n",
       "5960         4853    Publico                FISCALIZADOR             1   \n",
       "9450         8343    Publico     AUXILIAR ADMINISTRATIVO             1   \n",
       "10749         585    Trabajo    INSPECTOR (A) DE TRABAJO             1   \n",
       "...           ...        ...                         ...           ...   \n",
       "6643         5536    Publico                FISCALIZADOR             0   \n",
       "9471         8364    Publico     AUXILIAR ADMINISTRATIVO             1   \n",
       "609           279   Hacienda  Auxiliar de Transportación             1   \n",
       "1207          100    Publico               PSICÓLOGO (A)             0   \n",
       "10379         215    Trabajo                   CHOFER II             1   \n",
       "\n",
       "       Sueldo bruto      AFP      SFS  Real Sueldo bruto  \\\n",
       "8291        25000.0   717.50   760.00           15078.21   \n",
       "2329        27000.0   774.90   820.80           22651.08   \n",
       "5960        90000.0  2583.00  2736.00           58086.54   \n",
       "9450        22000.0   631.40   668.80           11566.19   \n",
       "10749       70000.0  6979.00  7091.00           60469.52   \n",
       "...             ...      ...      ...                ...   \n",
       "6643        40000.0  1148.00  1216.00           37168.35   \n",
       "9471        30000.0   861.00   912.00           16542.56   \n",
       "609         30000.0   861.00   912.00           26140.39   \n",
       "1207        33000.0   947.10  1003.20           30489.85   \n",
       "10379       23100.0  2303.07  2340.03           21709.79   \n",
       "\n",
       "       Predicted Sueldo bruto  \n",
       "8291                  23800.0  \n",
       "2329                  27000.0  \n",
       "5960                  90000.0  \n",
       "9450                  23000.0  \n",
       "10749                 70000.0  \n",
       "...                       ...  \n",
       "6643                  48000.0  \n",
       "9471                  26400.0  \n",
       "609                   31300.0  \n",
       "1207                  33000.0  \n",
       "10379                 23640.0  \n",
       "\n",
       "[2209 rows x 9 columns]"
      ]
     },
     "execution_count": 73,
     "metadata": {},
     "output_type": "execute_result"
    }
   ],
   "source": [
    "results = pd.concat([df.loc[y_test.index], pd.DataFrame(y_pred)], axis=1)\n",
    "results.columns = list(df.columns)[:-1] + [\"Real Sueldo bruto\", \"Predicted Sueldo bruto\"]\n",
    "results"
   ]
  },
  {
   "cell_type": "code",
   "execution_count": null,
   "metadata": {},
   "outputs": [
    {
     "data": {
      "text/plain": [
       "<Axes: xlabel='Real Sueldo bruto', ylabel='Predicted Sueldo bruto'>"
      ]
     },
     "execution_count": 74,
     "metadata": {},
     "output_type": "execute_result"
    },
    {
     "data": {
      "image/png": "[encoded data removed]",
      "text/plain": [
       "<Figure size 640x480 with 1 Axes>"
      ]
     },
     "metadata": {},
     "output_type": "display_data"
    }
   ],
   "source": [
    "results.plot(kind='scatter', x='Real Sueldo bruto', y='Predicted Sueldo bruto', s=32, alpha=.8)"
   ]
  }
 ],
 "metadata": {
  "kernelspec": {
   "display_name": "Python 3",
   "language": "python",
   "name": "python3"
  },
  "language_info": {
   "codemirror_mode": {
    "name": "ipython",
    "version": 3
   },
   "file_extension": ".py",
   "mimetype": "text/x-python",
   "name": "python",
   "nbconvert_exporter": "python",
   "pygments_lexer": "ipython3",
   "version": "3.12.2"
  }
 },
 "nbformat": 4,
 "nbformat_minor": 2
}
