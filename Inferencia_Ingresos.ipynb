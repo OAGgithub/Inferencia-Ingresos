{
 "cells": [
  {
   "cell_type": "markdown",
   "metadata": {},
   "source": [
    "# Inferencia de Ingresos"
   ]
  },
  {
   "cell_type": "markdown",
   "metadata": {},
   "source": [
    "## Importando datasets"
   ]
  },
  {
   "cell_type": "code",
   "execution_count": 204,
   "metadata": {},
   "outputs": [],
   "source": [
    "import numpy as np\n",
    "import pandas as pd\n",
    "import matplotlib.pyplot as plt\n",
    "import re\n",
    "import seaborn as sns"
   ]
  },
  {
   "cell_type": "code",
   "execution_count": 205,
   "metadata": {},
   "outputs": [],
   "source": [
    "df_hacienda = pd.read_csv(\"Datasets/Minis_Hacienda.csv\")\n",
    "df_juventud = pd.read_csv(\"Datasets/Minis_Juventud.csv\")\n",
    "df_mujer = pd.read_csv(\"Datasets/Minis_Mujer.csv\")\n",
    "df_publico = pd.read_csv(\"Datasets/Minis_Publico.csv\")\n",
    "df_trabajo = pd.read_csv(\"Datasets/Minis_Trabajo.csv\")"
   ]
  },
  {
   "cell_type": "code",
   "execution_count": 206,
   "metadata": {},
   "outputs": [
    {
     "name": "stdout",
     "output_type": "stream",
     "text": [
      "<class 'pandas.core.frame.DataFrame'>\n",
      "RangeIndex: 330 entries, 0 to 329\n",
      "Data columns (total 8 columns):\n",
      " #   Column        Non-Null Count  Dtype  \n",
      "---  ------        --------------  -----  \n",
      " 0   Nombre        330 non-null    object \n",
      " 1   Cargo         330 non-null    object \n",
      " 2   Departamento  330 non-null    object \n",
      " 3   Sexo          330 non-null    object \n",
      " 4   Sueldo bruto  330 non-null    float64\n",
      " 5   AFP           330 non-null    float64\n",
      " 6   SFS           330 non-null    float64\n",
      " 7   Sueldo neto   330 non-null    float64\n",
      "dtypes: float64(4), object(4)\n",
      "memory usage: 20.8+ KB\n"
     ]
    }
   ],
   "source": [
    "df_mujer.drop(columns=['Unnamed: 0'], axis=1 , inplace=True)\n",
    "df_mujer.info()"
   ]
  },
  {
   "cell_type": "code",
   "execution_count": 207,
   "metadata": {},
   "outputs": [
    {
     "name": "stdout",
     "output_type": "stream",
     "text": [
      "<class 'pandas.core.frame.DataFrame'>\n",
      "RangeIndex: 777 entries, 0 to 776\n",
      "Data columns (total 8 columns):\n",
      " #   Column        Non-Null Count  Dtype  \n",
      "---  ------        --------------  -----  \n",
      " 0   Nombre        777 non-null    object \n",
      " 1   Cargo         777 non-null    object \n",
      " 2   Departamento  777 non-null    object \n",
      " 3   Sexo          777 non-null    object \n",
      " 4   Sueldo bruto  777 non-null    float64\n",
      " 5   AFP           777 non-null    float64\n",
      " 6   SFS           777 non-null    float64\n",
      " 7   Sueldo neto   777 non-null    float64\n",
      "dtypes: float64(4), object(4)\n",
      "memory usage: 48.7+ KB\n"
     ]
    }
   ],
   "source": [
    "df_hacienda.drop(columns=['Unnamed: 0'], axis=1 , inplace=True)\n",
    "df_hacienda.info()"
   ]
  },
  {
   "cell_type": "code",
   "execution_count": 208,
   "metadata": {},
   "outputs": [
    {
     "name": "stdout",
     "output_type": "stream",
     "text": [
      "<class 'pandas.core.frame.DataFrame'>\n",
      "RangeIndex: 8767 entries, 0 to 8766\n",
      "Data columns (total 8 columns):\n",
      " #   Column        Non-Null Count  Dtype  \n",
      "---  ------        --------------  -----  \n",
      " 0   Nombre        8767 non-null   object \n",
      " 1   Cargo         8767 non-null   object \n",
      " 2   Departamento  8767 non-null   object \n",
      " 3   Sexo          8767 non-null   object \n",
      " 4   Sueldo bruto  8767 non-null   float64\n",
      " 5   AFP           8767 non-null   float64\n",
      " 6   SFS           8767 non-null   float64\n",
      " 7   Sueldo neto   8767 non-null   float64\n",
      "dtypes: float64(4), object(4)\n",
      "memory usage: 548.1+ KB\n"
     ]
    }
   ],
   "source": [
    "df_publico.drop(columns=['Unnamed: 0'], axis=1 , inplace=True)\n",
    "df_publico.info()"
   ]
  },
  {
   "cell_type": "code",
   "execution_count": 209,
   "metadata": {},
   "outputs": [
    {
     "name": "stdout",
     "output_type": "stream",
     "text": [
      "<class 'pandas.core.frame.DataFrame'>\n",
      "RangeIndex: 290 entries, 0 to 289\n",
      "Data columns (total 9 columns):\n",
      " #   Column        Non-Null Count  Dtype  \n",
      "---  ------        --------------  -----  \n",
      " 0   Ministerio    290 non-null    object \n",
      " 1   Nombre        290 non-null    object \n",
      " 2   Cargo         290 non-null    object \n",
      " 3   Departamento  290 non-null    object \n",
      " 4   Sexo          290 non-null    object \n",
      " 5   Sueldo bruto  290 non-null    float64\n",
      " 6   AFP           290 non-null    float64\n",
      " 7   SFS           290 non-null    float64\n",
      " 8   Sueldo neto   290 non-null    float64\n",
      "dtypes: float64(4), object(5)\n",
      "memory usage: 20.5+ KB\n"
     ]
    }
   ],
   "source": [
    "#Juventud\n",
    "df_juventud.insert(0,'Ministerio','Juventud')\n",
    "df_juventud.info()"
   ]
  },
  {
   "cell_type": "code",
   "execution_count": 210,
   "metadata": {},
   "outputs": [
    {
     "name": "stdout",
     "output_type": "stream",
     "text": [
      "<class 'pandas.core.frame.DataFrame'>\n",
      "RangeIndex: 330 entries, 0 to 329\n",
      "Data columns (total 9 columns):\n",
      " #   Column        Non-Null Count  Dtype  \n",
      "---  ------        --------------  -----  \n",
      " 0   Ministerio    330 non-null    object \n",
      " 1   Nombre        330 non-null    object \n",
      " 2   Cargo         330 non-null    object \n",
      " 3   Departamento  330 non-null    object \n",
      " 4   Sexo          330 non-null    object \n",
      " 5   Sueldo bruto  330 non-null    float64\n",
      " 6   AFP           330 non-null    float64\n",
      " 7   SFS           330 non-null    float64\n",
      " 8   Sueldo neto   330 non-null    float64\n",
      "dtypes: float64(4), object(5)\n",
      "memory usage: 23.3+ KB\n"
     ]
    }
   ],
   "source": [
    "#Mujer\n",
    "df_mujer.insert(0,'Ministerio','Mujer')\n",
    "df_mujer.info()"
   ]
  },
  {
   "cell_type": "code",
   "execution_count": 211,
   "metadata": {},
   "outputs": [
    {
     "name": "stdout",
     "output_type": "stream",
     "text": [
      "<class 'pandas.core.frame.DataFrame'>\n",
      "RangeIndex: 777 entries, 0 to 776\n",
      "Data columns (total 9 columns):\n",
      " #   Column        Non-Null Count  Dtype  \n",
      "---  ------        --------------  -----  \n",
      " 0   Ministerio    777 non-null    object \n",
      " 1   Nombre        777 non-null    object \n",
      " 2   Cargo         777 non-null    object \n",
      " 3   Departamento  777 non-null    object \n",
      " 4   Sexo          777 non-null    object \n",
      " 5   Sueldo bruto  777 non-null    float64\n",
      " 6   AFP           777 non-null    float64\n",
      " 7   SFS           777 non-null    float64\n",
      " 8   Sueldo neto   777 non-null    float64\n",
      "dtypes: float64(4), object(5)\n",
      "memory usage: 54.8+ KB\n"
     ]
    }
   ],
   "source": [
    "#Hacienda\n",
    "df_hacienda.insert(0,'Ministerio','Hacienda')\n",
    "df_hacienda.info()"
   ]
  },
  {
   "cell_type": "code",
   "execution_count": 212,
   "metadata": {},
   "outputs": [
    {
     "name": "stdout",
     "output_type": "stream",
     "text": [
      "<class 'pandas.core.frame.DataFrame'>\n",
      "RangeIndex: 8767 entries, 0 to 8766\n",
      "Data columns (total 9 columns):\n",
      " #   Column        Non-Null Count  Dtype  \n",
      "---  ------        --------------  -----  \n",
      " 0   Ministerio    8767 non-null   object \n",
      " 1   Nombre        8767 non-null   object \n",
      " 2   Cargo         8767 non-null   object \n",
      " 3   Departamento  8767 non-null   object \n",
      " 4   Sexo          8767 non-null   object \n",
      " 5   Sueldo bruto  8767 non-null   float64\n",
      " 6   AFP           8767 non-null   float64\n",
      " 7   SFS           8767 non-null   float64\n",
      " 8   Sueldo neto   8767 non-null   float64\n",
      "dtypes: float64(4), object(5)\n",
      "memory usage: 616.6+ KB\n"
     ]
    }
   ],
   "source": [
    "#Publico\n",
    "df_publico.insert(0,'Ministerio','Publico')\n",
    "df_publico.info()"
   ]
  },
  {
   "cell_type": "code",
   "execution_count": 213,
   "metadata": {},
   "outputs": [
    {
     "name": "stdout",
     "output_type": "stream",
     "text": [
      "<class 'pandas.core.frame.DataFrame'>\n",
      "RangeIndex: 877 entries, 0 to 876\n",
      "Data columns (total 9 columns):\n",
      " #   Column        Non-Null Count  Dtype  \n",
      "---  ------        --------------  -----  \n",
      " 0   Ministerio    877 non-null    object \n",
      " 1   Nombre        877 non-null    object \n",
      " 2   Cargo         877 non-null    object \n",
      " 3   Departamento  877 non-null    object \n",
      " 4   Sexo          877 non-null    object \n",
      " 5   Sueldo bruto  877 non-null    object \n",
      " 6   AFP           877 non-null    float64\n",
      " 7   SFS           877 non-null    float64\n",
      " 8   Sueldo neto   877 non-null    object \n",
      "dtypes: float64(2), object(7)\n",
      "memory usage: 61.8+ KB\n"
     ]
    }
   ],
   "source": [
    "#Trabajo\n",
    "df_trabajo.insert(0,'Ministerio','Trabajo')\n",
    "df_trabajo.info()"
   ]
  },
  {
   "cell_type": "markdown",
   "metadata": {},
   "source": [
    "## Unificación de datasets"
   ]
  },
  {
   "cell_type": "code",
   "execution_count": 214,
   "metadata": {},
   "outputs": [
    {
     "name": "stdout",
     "output_type": "stream",
     "text": [
      "<class 'pandas.core.frame.DataFrame'>\n",
      "Index: 11041 entries, 0 to 876\n",
      "Data columns (total 8 columns):\n",
      " #   Column        Non-Null Count  Dtype  \n",
      "---  ------        --------------  -----  \n",
      " 0   Ministerio    11041 non-null  object \n",
      " 1   Nombre        11041 non-null  object \n",
      " 2   Cargo         11041 non-null  object \n",
      " 3   Sexo          11041 non-null  object \n",
      " 4   Sueldo bruto  11041 non-null  object \n",
      " 5   AFP           11041 non-null  float64\n",
      " 6   SFS           11041 non-null  float64\n",
      " 7   Sueldo neto   11041 non-null  object \n",
      "dtypes: float64(2), object(6)\n",
      "memory usage: 776.3+ KB\n"
     ]
    }
   ],
   "source": [
    "df_ministerios = pd.concat([df_mujer, df_hacienda, df_publico, df_juventud, df_trabajo])\n",
    "df_ministerios.drop('Departamento', axis=1,inplace= True)\n",
    "df_ministerios.info()"
   ]
  },
  {
   "cell_type": "code",
   "execution_count": 215,
   "metadata": {},
   "outputs": [
    {
     "data": {
      "text/html": [
       "<div>\n",
       "<style scoped>\n",
       "    .dataframe tbody tr th:only-of-type {\n",
       "        vertical-align: middle;\n",
       "    }\n",
       "\n",
       "    .dataframe tbody tr th {\n",
       "        vertical-align: top;\n",
       "    }\n",
       "\n",
       "    .dataframe thead th {\n",
       "        text-align: right;\n",
       "    }\n",
       "</style>\n",
       "<table border=\"1\" class=\"dataframe\">\n",
       "  <thead>\n",
       "    <tr style=\"text-align: right;\">\n",
       "      <th></th>\n",
       "      <th>Ministerio</th>\n",
       "      <th>Nombre</th>\n",
       "      <th>Cargo</th>\n",
       "      <th>Sexo</th>\n",
       "      <th>Sueldo bruto</th>\n",
       "      <th>AFP</th>\n",
       "      <th>SFS</th>\n",
       "      <th>Sueldo neto</th>\n",
       "    </tr>\n",
       "  </thead>\n",
       "  <tbody>\n",
       "    <tr>\n",
       "      <th>0</th>\n",
       "      <td>Mujer</td>\n",
       "      <td>MAYRA JIMENEZ DE MATOS</td>\n",
       "      <td>MINISTRO (A) DE LA MUJER</td>\n",
       "      <td>FEMENINO</td>\n",
       "      <td>300000.0</td>\n",
       "      <td>8610.0</td>\n",
       "      <td>4943.8</td>\n",
       "      <td>221471.46</td>\n",
       "    </tr>\n",
       "    <tr>\n",
       "      <th>1</th>\n",
       "      <td>Mujer</td>\n",
       "      <td>EMILIA ALTAGRACIA SANTOS</td>\n",
       "      <td>MENSAJERO INTERNO</td>\n",
       "      <td>FEMENINO</td>\n",
       "      <td>25000.0</td>\n",
       "      <td>717.5</td>\n",
       "      <td>760.0</td>\n",
       "      <td>23497.5</td>\n",
       "    </tr>\n",
       "    <tr>\n",
       "      <th>2</th>\n",
       "      <td>Mujer</td>\n",
       "      <td>MARCELINA PEREZ PEÑA</td>\n",
       "      <td>SECRETARIA</td>\n",
       "      <td>FEMENINO</td>\n",
       "      <td>27000.0</td>\n",
       "      <td>774.9</td>\n",
       "      <td>820.8</td>\n",
       "      <td>25279.3</td>\n",
       "    </tr>\n",
       "    <tr>\n",
       "      <th>3</th>\n",
       "      <td>Mujer</td>\n",
       "      <td>CARMEN MARIA PEREZ SANCHEZ</td>\n",
       "      <td>ASESOR</td>\n",
       "      <td>FEMENINO</td>\n",
       "      <td>23000.0</td>\n",
       "      <td>660.1</td>\n",
       "      <td>699.2</td>\n",
       "      <td>20222.7</td>\n",
       "    </tr>\n",
       "    <tr>\n",
       "      <th>4</th>\n",
       "      <td>Mujer</td>\n",
       "      <td>MAGDELINE NUÑEZ REYES</td>\n",
       "      <td>SECRETARIA EJECUTIVA</td>\n",
       "      <td>FEMENINO</td>\n",
       "      <td>40000.0</td>\n",
       "      <td>1148.0</td>\n",
       "      <td>1216.0</td>\n",
       "      <td>37168.35</td>\n",
       "    </tr>\n",
       "    <tr>\n",
       "      <th>...</th>\n",
       "      <td>...</td>\n",
       "      <td>...</td>\n",
       "      <td>...</td>\n",
       "      <td>...</td>\n",
       "      <td>...</td>\n",
       "      <td>...</td>\n",
       "      <td>...</td>\n",
       "      <td>...</td>\n",
       "    </tr>\n",
       "    <tr>\n",
       "      <th>872</th>\n",
       "      <td>Trabajo</td>\n",
       "      <td>FERNANDO EMILIO SANTANA SEPULVEDA</td>\n",
       "      <td>ANALISTA</td>\n",
       "      <td>MASCULINO</td>\n",
       "      <td>41.000,00</td>\n",
       "      <td>4087.7</td>\n",
       "      <td>4153.3</td>\n",
       "      <td>37.968,11</td>\n",
       "    </tr>\n",
       "    <tr>\n",
       "      <th>873</th>\n",
       "      <td>Trabajo</td>\n",
       "      <td>VITERBO ANTONIO PEÑA RAMON</td>\n",
       "      <td>SOPORTE ADMINISTRATIVO</td>\n",
       "      <td>MASCULINO</td>\n",
       "      <td>46.000,00</td>\n",
       "      <td>4586.2</td>\n",
       "      <td>4659.8</td>\n",
       "      <td>41.966,94</td>\n",
       "    </tr>\n",
       "    <tr>\n",
       "      <th>874</th>\n",
       "      <td>Trabajo</td>\n",
       "      <td>MARTHA RAMONA PICHARDO BAEZ</td>\n",
       "      <td>SECRETARIO (A)</td>\n",
       "      <td>FEMENINO</td>\n",
       "      <td>34.000,00</td>\n",
       "      <td>3389.8</td>\n",
       "      <td>3444.2</td>\n",
       "      <td>31.965,60</td>\n",
       "    </tr>\n",
       "    <tr>\n",
       "      <th>875</th>\n",
       "      <td>Trabajo</td>\n",
       "      <td>GREGORIA PAYANO VELEZ (LICDA.)</td>\n",
       "      <td>SECRETARIO (A)</td>\n",
       "      <td>FEMENINO</td>\n",
       "      <td>34.000,00</td>\n",
       "      <td>3389.8</td>\n",
       "      <td>3444.2</td>\n",
       "      <td>31.965,60</td>\n",
       "    </tr>\n",
       "    <tr>\n",
       "      <th>876</th>\n",
       "      <td>Trabajo</td>\n",
       "      <td>DORKA RAMIREZ RODRIGUEZ</td>\n",
       "      <td>AUXILIAR ADMINISTRATIVO I</td>\n",
       "      <td>FEMENINO</td>\n",
       "      <td>34.000,00</td>\n",
       "      <td>3389.8</td>\n",
       "      <td>3444.2</td>\n",
       "      <td>31.965,60</td>\n",
       "    </tr>\n",
       "  </tbody>\n",
       "</table>\n",
       "<p>11041 rows × 8 columns</p>\n",
       "</div>"
      ],
      "text/plain": [
       "    Ministerio                             Nombre                      Cargo  \\\n",
       "0        Mujer             MAYRA JIMENEZ DE MATOS   MINISTRO (A) DE LA MUJER   \n",
       "1        Mujer           EMILIA ALTAGRACIA SANTOS          MENSAJERO INTERNO   \n",
       "2        Mujer               MARCELINA PEREZ PEÑA                 SECRETARIA   \n",
       "3        Mujer         CARMEN MARIA PEREZ SANCHEZ                     ASESOR   \n",
       "4        Mujer              MAGDELINE NUÑEZ REYES       SECRETARIA EJECUTIVA   \n",
       "..         ...                                ...                        ...   \n",
       "872    Trabajo  FERNANDO EMILIO SANTANA SEPULVEDA                   ANALISTA   \n",
       "873    Trabajo         VITERBO ANTONIO PEÑA RAMON     SOPORTE ADMINISTRATIVO   \n",
       "874    Trabajo        MARTHA RAMONA PICHARDO BAEZ             SECRETARIO (A)   \n",
       "875    Trabajo     GREGORIA PAYANO VELEZ (LICDA.)             SECRETARIO (A)   \n",
       "876    Trabajo            DORKA RAMIREZ RODRIGUEZ  AUXILIAR ADMINISTRATIVO I   \n",
       "\n",
       "          Sexo Sueldo bruto     AFP     SFS Sueldo neto  \n",
       "0    FEMENINO      300000.0  8610.0  4943.8   221471.46  \n",
       "1    FEMENINO       25000.0   717.5   760.0     23497.5  \n",
       "2    FEMENINO       27000.0   774.9   820.8     25279.3  \n",
       "3    FEMENINO       23000.0   660.1   699.2     20222.7  \n",
       "4    FEMENINO       40000.0  1148.0  1216.0    37168.35  \n",
       "..         ...          ...     ...     ...         ...  \n",
       "872  MASCULINO    41.000,00  4087.7  4153.3   37.968,11  \n",
       "873  MASCULINO    46.000,00  4586.2  4659.8   41.966,94  \n",
       "874   FEMENINO    34.000,00  3389.8  3444.2   31.965,60  \n",
       "875   FEMENINO    34.000,00  3389.8  3444.2   31.965,60  \n",
       "876   FEMENINO    34.000,00  3389.8  3444.2   31.965,60  \n",
       "\n",
       "[11041 rows x 8 columns]"
      ]
     },
     "execution_count": 215,
     "metadata": {},
     "output_type": "execute_result"
    }
   ],
   "source": [
    "df_ministerios"
   ]
  },
  {
   "cell_type": "markdown",
   "metadata": {},
   "source": [
    "## Procesamiento de datos"
   ]
  },
  {
   "cell_type": "code",
   "execution_count": 216,
   "metadata": {},
   "outputs": [],
   "source": [
    "# Normalizando la caracteristica Sexo\n",
    "df_ministerios.rename(columns={\"Sexo\": \"Es_Masculino\"}, inplace=True)\n",
    "\n",
    "df_ministerios[\"Es_Masculino\"] = df_ministerios[\"Es_Masculino\"].apply(lambda genero:  0 if \"f\" in genero.lower() else 1).astype(\"int64\")"
   ]
  },
  {
   "cell_type": "code",
   "execution_count": 217,
   "metadata": {},
   "outputs": [
    {
     "name": "stdout",
     "output_type": "stream",
     "text": [
      "{\"<class 'float'>\": 10164, \"<class 'str'>\": 877}\n"
     ]
    }
   ],
   "source": [
    "# Normalizando la caracteristica Sueldo bruto\n",
    "types = {}\n",
    "for bruto in df_ministerios[\"Sueldo bruto\"]:\n",
    "    tipo = str(type(bruto))\n",
    "    if tipo not in types:\n",
    "        types[tipo] = 0\n",
    "    types[tipo] += 1\n",
    "\n",
    "print(types)"
   ]
  },
  {
   "cell_type": "code",
   "execution_count": 218,
   "metadata": {},
   "outputs": [],
   "source": [
    "def convertir_a_float(bruto):\n",
    "    try:\n",
    "        return float(bruto)\n",
    "    except ValueError:\n",
    "        return float(bruto.replace('.', '').replace(',', '.'))\n",
    "\n",
    "# Aplicar la función a la columna \"Sueldo bruto\"\n",
    "df_ministerios[\"Sueldo bruto\"] = df_ministerios[\"Sueldo bruto\"].apply(convertir_a_float)"
   ]
  },
  {
   "cell_type": "code",
   "execution_count": 219,
   "metadata": {},
   "outputs": [
    {
     "name": "stdout",
     "output_type": "stream",
     "text": [
      "{\"<class 'float'>\": 10164, \"<class 'str'>\": 877}\n"
     ]
    }
   ],
   "source": [
    "# Normalizando la caracteristica Sueldo neto\n",
    "types = {}\n",
    "for bruto in df_ministerios[\"Sueldo neto\"]:\n",
    "    tipo = str(type(bruto))\n",
    "    if tipo not in types:\n",
    "        types[tipo] = 0\n",
    "    types[tipo] += 1\n",
    "\n",
    "print(types)"
   ]
  },
  {
   "cell_type": "code",
   "execution_count": 220,
   "metadata": {},
   "outputs": [],
   "source": [
    "def convertir_a_float(bruto):\n",
    "    try:\n",
    "        return float(bruto)\n",
    "    except ValueError:\n",
    "        return float(bruto.replace('.', '').replace(',', '.'))\n",
    "\n",
    "# Aplicar la función a la columna \"Sueldo bruto\"\n",
    "df_ministerios[\"Sueldo neto\"] = df_ministerios[\"Sueldo neto\"].apply(convertir_a_float)"
   ]
  },
  {
   "cell_type": "code",
   "execution_count": 221,
   "metadata": {},
   "outputs": [
    {
     "name": "stdout",
     "output_type": "stream",
     "text": [
      "df_ministerios is written to CSV File successfully.\n"
     ]
    }
   ],
   "source": [
    "# route\n",
    "file_name = 'Datasets/Clean_Ministerios.csv'\n",
    "\n",
    "# saving the excel\n",
    "df_ministerios.to_csv(file_name)\n",
    "print('df_ministerios is written to CSV File successfully.')"
   ]
  },
  {
   "cell_type": "markdown",
   "metadata": {},
   "source": [
    "### Columnas Categoricas"
   ]
  },
  {
   "cell_type": "code",
   "execution_count": 230,
   "metadata": {},
   "outputs": [
    {
     "data": {
      "text/plain": [
       "Cargo\n",
       "AGENTE  VTP                                                          13.757812\n",
       "ABOGADO                                                               7.653292\n",
       "AUXILIAR ADMINISTRATIVO                                               6.638891\n",
       "CONSERJE                                                              5.678833\n",
       "FISCALIZADOR                                                          4.483290\n",
       "                                                                       ...    \n",
       "Analista de Desembolso II                                             0.009057\n",
       "Coordinador de Relaciones con Inversionistas                          0.009057\n",
       "Viceministro de Crédito Público                                       0.009057\n",
       "Analista de Expedientes de Incentivos y Exoneraciones Tributarias     0.009057\n",
       "ENCARGADO UNIDAD                                                      0.009057\n",
       "Name: proportion, Length: 731, dtype: float64"
      ]
     },
     "execution_count": 230,
     "metadata": {},
     "output_type": "execute_result"
    }
   ],
   "source": [
    "counts = df_ministerios[\"Cargo\"].value_counts(normalize=True)*100\n",
    "counts"
   ]
  },
  {
   "cell_type": "code",
   "execution_count": 222,
   "metadata": {},
   "outputs": [
    {
     "data": {
      "text/plain": [
       "Cargo\n",
       "ABOGADO    845\n",
       "Name: count, dtype: int64"
      ]
     },
     "execution_count": 222,
     "metadata": {},
     "output_type": "execute_result"
    }
   ],
   "source": [
    "df_ministerios[\"Cargo\"].value_counts(normalize=True)*100\n",
    "\n",
    "#Estandarizando los Abogados\n",
    "df_ministerios['Cargo'] = df_ministerios['Cargo'].apply(lambda x: \"ABOGADO\" if re.search(\"ABOGAD\", x) else x)\n",
    "\n",
    "Abogados = df_ministerios[df_ministerios['Cargo'].str.contains(\"ABOGAD\")]['Cargo']\n",
    "Abogados.value_counts()\n",
    "\n",
    "  "
   ]
  },
  {
   "cell_type": "code",
   "execution_count": null,
   "metadata": {},
   "outputs": [],
   "source": []
  },
  {
   "cell_type": "markdown",
   "metadata": {},
   "source": []
  }
 ],
 "metadata": {
  "kernelspec": {
   "display_name": "Python 3",
   "language": "python",
   "name": "python3"
  },
  "language_info": {
   "codemirror_mode": {
    "name": "ipython",
    "version": 3
   },
   "file_extension": ".py",
   "mimetype": "text/x-python",
   "name": "python",
   "nbconvert_exporter": "python",
   "pygments_lexer": "ipython3",
   "version": "3.12.2"
  }
 },
 "nbformat": 4,
 "nbformat_minor": 2
}
