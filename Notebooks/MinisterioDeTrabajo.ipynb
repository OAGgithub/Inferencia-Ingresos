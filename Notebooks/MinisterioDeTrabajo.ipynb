{
  "cells": [
    {
      "cell_type": "code",
      "execution_count": 9,
      "metadata": {
        "id": "AQuKuBv5haCW"
      },
      "outputs": [],
      "source": [
        "import pandas as pd\n",
        "import numpy as np\n",
        "import matplotlib.pyplot as plt"
      ]
    },
    {
      "cell_type": "code",
      "execution_count": null,
      "metadata": {
        "id": "6pXbI8hFh8EO"
      },
      "outputs": [],
      "source": [
        "df = pd.read_csv('\\Inferencia-Ingresos\\Datasets\\Minis_Trabajo.csv')\n",
        "\n",
        "df.dropna(axis=1, inplace=True)"
      ]
    },
    {
      "cell_type": "code",
      "execution_count": null,
      "metadata": {},
      "outputs": [],
      "source": [
        "df = df.iloc[2:]\n",
        "df = df[:-11]\n",
        "\n",
        "df = df.drop(index=[2, 3, 4])\n",
        "df = df.rename(columns={\n",
        "    'Unnamed: 1': 'Nombre',\n",
        "    'Unnamed: 2': 'Sexo',\n",
        "    'Unnamed: 3': 'Departamento',\n",
        "    'Unnamed: 4': 'Funcion',\n",
        "    'Unnamed: 6': 'Sueldo Bruto (RD$)',\n",
        "    'Unnamed: 9': 'empleado afp',\n",
        "    'Unnamed: 10': 'patronal afp',\n",
        "    'Unnamed: 12': 'empleado sfs',\n",
        "    'Unnamed: 13': 'patronal sfs',\n",
        "    'Unnamed: 18': 'Sueldo Neto (RD$)'\n",
        "})\n",
        "\n",
        "def cleanin(x):\n",
        "    x = str(x)\n",
        "    return float(x.replace('.', '').replace(',', '.'))\n",
        "\n",
        "colmns = ['empleado afp', 'patronal afp', 'empleado sfs', 'patronal sfs']\n",
        "for col in colmns:\n",
        "    df[col] = df[col].apply(cleanin)\n",
        "\n",
        "df['Total AFP'] = df['empleado afp'].astype(float) + df['patronal afp'].astype(float)\n",
        "df['Total SFS'] = df['empleado sfs'].astype(float) + df['patronal sfs'].astype(float)\n",
        "\n",
        "dropping = [df.columns[0], df.columns[5], df.columns[7], 'empleado afp','patronal afp','empleado sfs','patronal sfs', df.columns[8], df.columns[11], df.columns[14], df.columns[15], df.columns[16],\n",
        "                    df.columns[17], df.columns[19]]\n",
        "\n",
        "df = df.drop(columns=dropping)"
      ]
    },
    {
      "cell_type": "code",
      "execution_count": null,
      "metadata": {},
      "outputs": [
        {
          "data": {
            "text/html": [
              "<div>\n",
              "<style scoped>\n",
              "    .dataframe tbody tr th:only-of-type {\n",
              "        vertical-align: middle;\n",
              "    }\n",
              "\n",
              "    .dataframe tbody tr th {\n",
              "        vertical-align: top;\n",
              "    }\n",
              "\n",
              "    .dataframe thead th {\n",
              "        text-align: right;\n",
              "    }\n",
              "</style>\n",
              "<table border=\"1\" class=\"dataframe\">\n",
              "  <thead>\n",
              "    <tr style=\"text-align: right;\">\n",
              "      <th></th>\n",
              "      <th>AFP</th>\n",
              "      <th>SFS</th>\n",
              "    </tr>\n",
              "  </thead>\n",
              "  <tbody>\n",
              "    <tr>\n",
              "      <th>count</th>\n",
              "      <td>861.000000</td>\n",
              "      <td>861.000000</td>\n",
              "    </tr>\n",
              "    <tr>\n",
              "      <th>mean</th>\n",
              "      <td>4418.397851</td>\n",
              "      <td>4483.752149</td>\n",
              "    </tr>\n",
              "    <tr>\n",
              "      <th>std</th>\n",
              "      <td>2822.254684</td>\n",
              "      <td>2821.366506</td>\n",
              "    </tr>\n",
              "    <tr>\n",
              "      <th>min</th>\n",
              "      <td>1261.210000</td>\n",
              "      <td>1281.450000</td>\n",
              "    </tr>\n",
              "    <tr>\n",
              "      <th>25%</th>\n",
              "      <td>2492.500000</td>\n",
              "      <td>2532.500000</td>\n",
              "    </tr>\n",
              "    <tr>\n",
              "      <th>50%</th>\n",
              "      <td>3489.500000</td>\n",
              "      <td>3545.500000</td>\n",
              "    </tr>\n",
              "    <tr>\n",
              "      <th>75%</th>\n",
              "      <td>6979.000000</td>\n",
              "      <td>7091.000000</td>\n",
              "    </tr>\n",
              "    <tr>\n",
              "      <th>max</th>\n",
              "      <td>22931.000000</td>\n",
              "      <td>21250.800000</td>\n",
              "    </tr>\n",
              "  </tbody>\n",
              "</table>\n",
              "</div>"
            ],
            "text/plain": [
              "                AFP           SFS\n",
              "count    861.000000    861.000000\n",
              "mean    4418.397851   4483.752149\n",
              "std     2822.254684   2821.366506\n",
              "min     1261.210000   1281.450000\n",
              "25%     2492.500000   2532.500000\n",
              "50%     3489.500000   3545.500000\n",
              "75%     6979.000000   7091.000000\n",
              "max    22931.000000  21250.800000"
            ]
          },
          "execution_count": 7,
          "metadata": {},
          "output_type": "execute_result"
        }
      ],
      "source": [
        "df.describe()"
      ]
    },
    {
      "cell_type": "code",
      "execution_count": 11,
      "metadata": {
        "colab": {
          "base_uri": "https://localhost:8080/",
          "height": 310
        },
        "id": "DfP9TLiY6IMo",
        "outputId": "a81e18fe-ff4c-4a89-b9fc-81509a6dcb5f"
      },
      "outputs": [
        {
          "data": {
            "text/html": [
              "<div>\n",
              "<style scoped>\n",
              "    .dataframe tbody tr th:only-of-type {\n",
              "        vertical-align: middle;\n",
              "    }\n",
              "\n",
              "    .dataframe tbody tr th {\n",
              "        vertical-align: top;\n",
              "    }\n",
              "\n",
              "    .dataframe thead th {\n",
              "        text-align: right;\n",
              "    }\n",
              "</style>\n",
              "<table border=\"1\" class=\"dataframe\">\n",
              "  <thead>\n",
              "    <tr style=\"text-align: right;\">\n",
              "      <th></th>\n",
              "      <th>Nombre</th>\n",
              "      <th>Cargo</th>\n",
              "      <th>Departamento</th>\n",
              "      <th>Sexo</th>\n",
              "      <th>Sueldo bruto</th>\n",
              "      <th>AFP</th>\n",
              "      <th>SFS</th>\n",
              "      <th>Sueldo neto</th>\n",
              "    </tr>\n",
              "  </thead>\n",
              "  <tbody>\n",
              "    <tr>\n",
              "      <th>5</th>\n",
              "      <td>ELSA SABRINA DE LOURDES DE LA CRUZ</td>\n",
              "      <td>VICEMINISTRO (A)</td>\n",
              "      <td>DESPACHO MINISTRO TRABAJO</td>\n",
              "      <td>FEMENINO</td>\n",
              "      <td>230.000,00</td>\n",
              "      <td>22931.0</td>\n",
              "      <td>21250.8</td>\n",
              "      <td>175.233,53</td>\n",
              "    </tr>\n",
              "    <tr>\n",
              "      <th>6</th>\n",
              "      <td>MARIE LAURE ARISTY PAUL DE DIAZ</td>\n",
              "      <td>VICEMINISTRO (A)</td>\n",
              "      <td>DESPACHO MINISTRO TRABAJO</td>\n",
              "      <td>FEMENINO</td>\n",
              "      <td>230.000,00</td>\n",
              "      <td>22931.0</td>\n",
              "      <td>21250.8</td>\n",
              "      <td>175.233,53</td>\n",
              "    </tr>\n",
              "    <tr>\n",
              "      <th>7</th>\n",
              "      <td>DULCE MARIA AGRAMONTE GARCIA</td>\n",
              "      <td>DIRECTOR(A) DE GABINETE</td>\n",
              "      <td>DESPACHO MINISTRO TRABAJO</td>\n",
              "      <td>FEMENINO</td>\n",
              "      <td>195.000,00</td>\n",
              "      <td>19441.5</td>\n",
              "      <td>18769.3</td>\n",
              "      <td>149.736,91</td>\n",
              "    </tr>\n",
              "    <tr>\n",
              "      <th>8</th>\n",
              "      <td>JAVIER ALBERTO SUAREZ ASTACIO</td>\n",
              "      <td>ASESOR (A)</td>\n",
              "      <td>DESPACHO MINISTRO TRABAJO</td>\n",
              "      <td>MASCULINO</td>\n",
              "      <td>145.000,00</td>\n",
              "      <td>14456.5</td>\n",
              "      <td>14688.5</td>\n",
              "      <td>113.715,01</td>\n",
              "    </tr>\n",
              "    <tr>\n",
              "      <th>9</th>\n",
              "      <td>RAFAEL ARTURO MARIANO OVIEDO (LIC.)</td>\n",
              "      <td>ASESOR (A)</td>\n",
              "      <td>DESPACHO MINISTRO TRABAJO</td>\n",
              "      <td>MASCULINO</td>\n",
              "      <td>110.000,00</td>\n",
              "      <td>10967.0</td>\n",
              "      <td>11143.0</td>\n",
              "      <td>89.016,38</td>\n",
              "    </tr>\n",
              "  </tbody>\n",
              "</table>\n",
              "</div>"
            ],
            "text/plain": [
              "                                Nombre                    Cargo  \\\n",
              "5  ELSA SABRINA DE LOURDES DE LA CRUZ          VICEMINISTRO (A)   \n",
              "6      MARIE LAURE ARISTY PAUL DE DIAZ         VICEMINISTRO (A)   \n",
              "7         DULCE MARIA AGRAMONTE GARCIA  DIRECTOR(A) DE GABINETE   \n",
              "8        JAVIER ALBERTO SUAREZ ASTACIO               ASESOR (A)   \n",
              "9  RAFAEL ARTURO MARIANO OVIEDO (LIC.)               ASESOR (A)   \n",
              "\n",
              "                Departamento       Sexo Sueldo bruto      AFP      SFS  \\\n",
              "5  DESPACHO MINISTRO TRABAJO   FEMENINO   230.000,00  22931.0  21250.8   \n",
              "6  DESPACHO MINISTRO TRABAJO   FEMENINO   230.000,00  22931.0  21250.8   \n",
              "7  DESPACHO MINISTRO TRABAJO   FEMENINO   195.000,00  19441.5  18769.3   \n",
              "8  DESPACHO MINISTRO TRABAJO  MASCULINO   145.000,00  14456.5  14688.5   \n",
              "9  DESPACHO MINISTRO TRABAJO  MASCULINO   110.000,00  10967.0  11143.0   \n",
              "\n",
              "  Sueldo neto  \n",
              "5  175.233,53  \n",
              "6  175.233,53  \n",
              "7  149.736,91  \n",
              "8  113.715,01  \n",
              "9   89.016,38  "
            ]
          },
          "execution_count": 11,
          "metadata": {},
          "output_type": "execute_result"
        }
      ],
      "source": [
        "df.head()"
      ]
    },
    {
      "cell_type": "code",
      "execution_count": null,
      "metadata": {
        "id": "zhPTO-znDLc6"
      },
      "outputs": [],
      "source": [
        "df.to_csv('nomina_clean.csv', index=False)\n"
      ]
    }
  ],
  "metadata": {
    "colab": {
      "provenance": []
    },
    "kernelspec": {
      "display_name": "Python 3",
      "name": "python3"
    },
    "language_info": {
      "codemirror_mode": {
        "name": "ipython",
        "version": 3
      },
      "file_extension": ".py",
      "mimetype": "text/x-python",
      "name": "python",
      "nbconvert_exporter": "python",
      "pygments_lexer": "ipython3",
      "version": "3.12.3"
    }
  },
  "nbformat": 4,
  "nbformat_minor": 0
}
