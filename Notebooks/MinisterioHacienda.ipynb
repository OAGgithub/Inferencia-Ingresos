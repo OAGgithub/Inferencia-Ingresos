{
 "cells": [
  {
   "cell_type": "markdown",
   "metadata": {},
   "source": [
    "# Ministerio de Hacienda"
   ]
  },
  {
   "cell_type": "code",
   "execution_count": 2,
   "metadata": {},
   "outputs": [],
   "source": [
    "import pandas as pd"
   ]
  },
  {
   "cell_type": "code",
   "execution_count": null,
   "metadata": {},
   "outputs": [],
   "source": [
    "# Ministerio de hacienda\n",
    "df_hacienda = pd.read_excel(\"Datasets/raw/NOMINA_Minis_Hacienda.xlsx\")"
   ]
  },
  {
   "cell_type": "code",
   "execution_count": null,
   "metadata": {},
   "outputs": [],
   "source": [
    "df_hacienda.head()"
   ]
  },
  {
   "cell_type": "code",
   "execution_count": null,
   "metadata": {},
   "outputs": [],
   "source": [
    "df_hacienda.info()"
   ]
  },
  {
   "cell_type": "code",
   "execution_count": null,
   "metadata": {},
   "outputs": [],
   "source": [
    "df_hacienda.columns"
   ]
  },
  {
   "cell_type": "code",
   "execution_count": null,
   "metadata": {},
   "outputs": [],
   "source": [
    "unwanted_columns = [\"Ubicación\", \"Tipo Empleado\", \"Impuesto sobre la renta\", \"SFS Adicional\", \"Otros Descuentos\", \"Seguro Vida INAVI\", \"Total Descuentos\",]\n",
    "desired_columns = [column for column in list(df_hacienda.columns) if column not in unwanted_columns]\n",
    "df_hacienda = df_hacienda[desired_columns]"
   ]
  },
  {
   "cell_type": "code",
   "execution_count": null,
   "metadata": {},
   "outputs": [],
   "source": [
    "df_hacienda.head()"
   ]
  },
  {
   "cell_type": "code",
   "execution_count": null,
   "metadata": {},
   "outputs": [],
   "source": [
    "rename_columns = {\n",
    "    \"Empleado\": \"Nombre\",\n",
    "    \"Dirección\": \"Departamento\",\n",
    "    \"Género\": \"Sexo\",\n",
    "    \"Salario\": \"Sueldo bruto\",\n",
    "    \"Seguro Familiar de Salud\": \"SFS\",\n",
    "    \"Sueldo Neto\": \"Sueldo neto\",\n",
    "}\n",
    "\n",
    "df_hacienda.rename(columns=rename_columns, inplace=True)"
   ]
  },
  {
   "cell_type": "code",
   "execution_count": null,
   "metadata": {},
   "outputs": [],
   "source": [
    "df_hacienda.isna().sum().sort_values(ascending=False)/len(df_hacienda)"
   ]
  },
  {
   "cell_type": "code",
   "execution_count": null,
   "metadata": {},
   "outputs": [],
   "source": [
    "df_hacienda = df_hacienda.dropna()"
   ]
  },
  {
   "cell_type": "code",
   "execution_count": null,
   "metadata": {},
   "outputs": [],
   "source": [
    "df_hacienda.head()"
   ]
  },
  {
   "cell_type": "code",
   "execution_count": null,
   "metadata": {},
   "outputs": [],
   "source": [
    "df_hacienda = df_hacienda[['Nombre', 'Cargo', 'Departamento', 'Sexo', 'Sueldo bruto', 'AFP', 'SFS', 'Sueldo neto']]"
   ]
  },
  {
   "cell_type": "code",
   "execution_count": null,
   "metadata": {},
   "outputs": [],
   "source": [
    "# determining the name of the file\n",
    "file_name = 'Clean_NOMINA_Minis_Hacienda.csv'\n",
    "\n",
    "# saving the excel\n",
    "df_hacienda.to_csv(file_name)\n",
    "print('df_hacienda is written to CSV File successfully.')"
   ]
  }
 ],
 "metadata": {
  "kernelspec": {
   "display_name": "Python 3",
   "language": "python",
   "name": "python3"
  },
  "language_info": {
   "codemirror_mode": {
    "name": "ipython",
    "version": 3
   },
   "file_extension": ".py",
   "mimetype": "text/x-python",
   "name": "python",
   "nbconvert_exporter": "python",
   "pygments_lexer": "ipython3",
   "version": "3.12.0"
  }
 },
 "nbformat": 4,
 "nbformat_minor": 2
}
